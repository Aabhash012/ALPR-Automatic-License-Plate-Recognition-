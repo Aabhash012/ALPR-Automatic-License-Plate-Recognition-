{
  "cells": [
    {
      "cell_type": "markdown",
      "metadata": {
        "id": "view-in-github",
        "colab_type": "text"
      },
      "source": [
        "<a href=\"https://colab.research.google.com/github/Aabhash012/ANPR/blob/main/ANPR.ipynb\" target=\"_parent\"><img src=\"https://colab.research.google.com/assets/colab-badge.svg\" alt=\"Open In Colab\"/></a>"
      ]
    },
    {
      "cell_type": "markdown",
      "metadata": {
        "id": "QUANWN3rpfC9"
      },
      "source": [
        "# 0. Setup Paths"
      ]
    },
    {
      "cell_type": "code",
      "execution_count": 1,
      "metadata": {
        "colab": {
          "base_uri": "https://localhost:8080/"
        },
        "id": "_FvnBkQaq-3H",
        "outputId": "1af28785-ea06-40b1-ac9d-1a90bb5d6c9f"
      },
      "outputs": [
        {
          "output_type": "stream",
          "name": "stdout",
          "text": [
            "Mounted at /content/drive\n"
          ]
        }
      ],
      "source": [
        "from google.colab import drive\n",
        "drive.mount('/content/drive')"
      ]
    },
    {
      "cell_type": "code",
      "execution_count": 54,
      "metadata": {
        "id": "146BB11JpfDA"
      },
      "outputs": [],
      "source": [
        "import os"
      ]
    },
    {
      "cell_type": "code",
      "execution_count": 55,
      "metadata": {
        "id": "42hJEdo_pfDB"
      },
      "outputs": [],
      "source": [
        "CUSTOM_MODEL_NAME = 'my_ssd_mobnet'\n",
        "PRETRAINED_MODEL_NAME = 'ssd_mobilenet_v2_fpnlite_320x320_coco17_tpu-8'\n",
        "PRETRAINED_MODEL_URL = 'http://download.tensorflow.org/models/object_detection/tf2/20200711/ssd_mobilenet_v2_fpnlite_320x320_coco17_tpu-8.tar.gz'\n",
        "TF_RECORD_SCRIPT_NAME = 'generate_tfrecord.py'\n",
        "LABEL_MAP_NAME = 'label_map.pbtxt'"
      ]
    },
    {
      "cell_type": "code",
      "execution_count": 56,
      "metadata": {
        "id": "hbPhYVy_pfDB"
      },
      "outputs": [],
      "source": [
        "paths = {\n",
        "    'WORKSPACE_PATH': os.path.join('Tensorflow', 'workspace'),\n",
        "    'SCRIPTS_PATH': os.path.join('Tensorflow','scripts'),\n",
        "    'APIMODEL_PATH': os.path.join('Tensorflow','models'),\n",
        "    'ANNOTATION_PATH': os.path.join('Tensorflow', 'workspace','annotations'),\n",
        "    'IMAGE_PATH': os.path.join('drive', 'MyDrive','images'),\n",
        "    'MODEL_PATH': os.path.join('Tensorflow', 'workspace','models'),\n",
        "    'PRETRAINED_MODEL_PATH': os.path.join('Tensorflow', 'workspace','pre-trained-models'),\n",
        "    'CHECKPOINT_PATH': os.path.join('Tensorflow', 'workspace','models',CUSTOM_MODEL_NAME),\n",
        "    'OUTPUT_PATH': os.path.join('Tensorflow', 'workspace','models',CUSTOM_MODEL_NAME, 'export'),\n",
        "    'TFJS_PATH':os.path.join('Tensorflow', 'workspace','models',CUSTOM_MODEL_NAME, 'tfjsexport'),\n",
        "    'TFLITE_PATH':os.path.join('Tensorflow', 'workspace','models',CUSTOM_MODEL_NAME, 'tfliteexport'),\n",
        "    'PROTOC_PATH':os.path.join('Tensorflow','protoc')\n",
        " }"
      ]
    },
    {
      "cell_type": "code",
      "execution_count": 57,
      "metadata": {
        "id": "LwhWZMI0pfDC"
      },
      "outputs": [],
      "source": [
        "files = {\n",
        "    'PIPELINE_CONFIG':os.path.join('Tensorflow', 'workspace','models', CUSTOM_MODEL_NAME, 'pipeline.config'),\n",
        "    'TF_RECORD_SCRIPT': os.path.join(paths['SCRIPTS_PATH'], TF_RECORD_SCRIPT_NAME),\n",
        "    'LABELMAP': os.path.join(paths['ANNOTATION_PATH'], LABEL_MAP_NAME)\n",
        "}"
      ]
    },
    {
      "cell_type": "code",
      "execution_count": 58,
      "metadata": {
        "id": "HR-TfDGrpfDC"
      },
      "outputs": [],
      "source": [
        "for path in paths.values():\n",
        "    if not os.path.exists(path):\n",
        "        if os.name == 'posix':\n",
        "            !mkdir -p {path}\n",
        "        if os.name == 'nt':\n",
        "            !mkdir {path}"
      ]
    },
    {
      "cell_type": "markdown",
      "metadata": {
        "id": "OLU-rs_ipfDE"
      },
      "source": [
        "# 1. Download TF Models Pretrained Models from Tensorflow Model Zoo and Install TFOD"
      ]
    },
    {
      "cell_type": "code",
      "execution_count": null,
      "metadata": {
        "id": "wgV030HXoodn"
      },
      "outputs": [],
      "source": [
        "# https://www.tensorflow.org/install/source_windows"
      ]
    },
    {
      "cell_type": "code",
      "execution_count": 8,
      "metadata": {
        "id": "K-Cmz2edpfDE",
        "scrolled": true
      },
      "outputs": [],
      "source": [
        "if os.name=='nt':\n",
        "    !pip install wget\n",
        "    import wget"
      ]
    },
    {
      "cell_type": "code",
      "execution_count": 9,
      "metadata": {
        "colab": {
          "base_uri": "https://localhost:8080/"
        },
        "id": "iA1DIq5OpfDE",
        "outputId": "4d0742c1-88e0-4cea-9045-73a76fc05433"
      },
      "outputs": [
        {
          "output_type": "stream",
          "name": "stdout",
          "text": [
            "Cloning into 'Tensorflow/models'...\n",
            "remote: Enumerating objects: 86340, done.\u001b[K\n",
            "remote: Counting objects: 100% (94/94), done.\u001b[K\n",
            "remote: Compressing objects: 100% (58/58), done.\u001b[K\n",
            "remote: Total 86340 (delta 43), reused 72 (delta 33), pack-reused 86246\u001b[K\n",
            "Receiving objects: 100% (86340/86340), 598.60 MiB | 21.79 MiB/s, done.\n",
            "Resolving deltas: 100% (61925/61925), done.\n"
          ]
        }
      ],
      "source": [
        "if not os.path.exists(os.path.join(paths['APIMODEL_PATH'], 'research', 'object_detection')):\n",
        "    !git clone https://github.com/tensorflow/models {paths['APIMODEL_PATH']}"
      ]
    },
    {
      "cell_type": "code",
      "execution_count": 10,
      "metadata": {
        "colab": {
          "base_uri": "https://localhost:8080/"
        },
        "id": "rJjMHbnDs3Tv",
        "outputId": "dfdc3509-c894-4f47-9548-ad1035fee2fb"
      },
      "outputs": [
        {
          "output_type": "stream",
          "name": "stdout",
          "text": [
            "Reading package lists... Done\n",
            "Building dependency tree       \n",
            "Reading state information... Done\n",
            "protobuf-compiler is already the newest version (3.6.1.3-2ubuntu5.2).\n",
            "0 upgraded, 0 newly installed, 0 to remove and 15 not upgraded.\n",
            "Processing /content/Tensorflow/models/research\n",
            "  Preparing metadata (setup.py) ... \u001b[?25l\u001b[?25hdone\n",
            "Collecting avro-python3 (from object-detection==0.1)\n",
            "  Downloading avro-python3-1.10.2.tar.gz (38 kB)\n",
            "  Preparing metadata (setup.py) ... \u001b[?25l\u001b[?25hdone\n",
            "Collecting apache-beam (from object-detection==0.1)\n",
            "  Downloading apache_beam-2.48.0-cp310-cp310-manylinux_2_17_x86_64.manylinux2014_x86_64.whl (14.3 MB)\n",
            "\u001b[2K     \u001b[90m━━━━━━━━━━━━━━━━━━━━━━━━━━━━━━━━━━━━━━━━\u001b[0m \u001b[32m14.3/14.3 MB\u001b[0m \u001b[31m65.0 MB/s\u001b[0m eta \u001b[36m0:00:00\u001b[0m\n",
            "\u001b[?25hRequirement already satisfied: pillow in /usr/local/lib/python3.10/dist-packages (from object-detection==0.1) (8.4.0)\n",
            "Requirement already satisfied: lxml in /usr/local/lib/python3.10/dist-packages (from object-detection==0.1) (4.9.2)\n",
            "Requirement already satisfied: matplotlib in /usr/local/lib/python3.10/dist-packages (from object-detection==0.1) (3.7.1)\n",
            "Requirement already satisfied: Cython in /usr/local/lib/python3.10/dist-packages (from object-detection==0.1) (0.29.35)\n",
            "Requirement already satisfied: contextlib2 in /usr/local/lib/python3.10/dist-packages (from object-detection==0.1) (0.6.0.post1)\n",
            "Requirement already satisfied: tf-slim in /usr/local/lib/python3.10/dist-packages (from object-detection==0.1) (1.1.0)\n",
            "Requirement already satisfied: six in /usr/local/lib/python3.10/dist-packages (from object-detection==0.1) (1.16.0)\n",
            "Requirement already satisfied: pycocotools in /usr/local/lib/python3.10/dist-packages (from object-detection==0.1) (2.0.6)\n",
            "Collecting lvis (from object-detection==0.1)\n",
            "  Downloading lvis-0.5.3-py3-none-any.whl (14 kB)\n",
            "Requirement already satisfied: scipy in /usr/local/lib/python3.10/dist-packages (from object-detection==0.1) (1.10.1)\n",
            "Requirement already satisfied: pandas in /usr/local/lib/python3.10/dist-packages (from object-detection==0.1) (1.5.3)\n",
            "Collecting tf-models-official>=2.5.1 (from object-detection==0.1)\n",
            "  Downloading tf_models_official-2.13.0-py2.py3-none-any.whl (2.6 MB)\n",
            "\u001b[2K     \u001b[90m━━━━━━━━━━━━━━━━━━━━━━━━━━━━━━━━━━━━━━━━\u001b[0m \u001b[32m2.6/2.6 MB\u001b[0m \u001b[31m51.6 MB/s\u001b[0m eta \u001b[36m0:00:00\u001b[0m\n",
            "\u001b[?25hCollecting tensorflow_io (from object-detection==0.1)\n",
            "  Downloading tensorflow_io-0.32.0-cp310-cp310-manylinux_2_12_x86_64.manylinux2010_x86_64.whl (28.0 MB)\n",
            "\u001b[2K     \u001b[90m━━━━━━━━━━━━━━━━━━━━━━━━━━━━━━━━━━━━━━━━\u001b[0m \u001b[32m28.0/28.0 MB\u001b[0m \u001b[31m47.4 MB/s\u001b[0m eta \u001b[36m0:00:00\u001b[0m\n",
            "\u001b[?25hRequirement already satisfied: keras in /usr/local/lib/python3.10/dist-packages (from object-detection==0.1) (2.12.0)\n",
            "Collecting pyparsing==2.4.7 (from object-detection==0.1)\n",
            "  Downloading pyparsing-2.4.7-py2.py3-none-any.whl (67 kB)\n",
            "\u001b[2K     \u001b[90m━━━━━━━━━━━━━━━━━━━━━━━━━━━━━━━━━━━━━━━━\u001b[0m \u001b[32m67.8/67.8 kB\u001b[0m \u001b[31m9.2 MB/s\u001b[0m eta \u001b[36m0:00:00\u001b[0m\n",
            "\u001b[?25hCollecting sacrebleu<=2.2.0 (from object-detection==0.1)\n",
            "  Downloading sacrebleu-2.2.0-py3-none-any.whl (116 kB)\n",
            "\u001b[2K     \u001b[90m━━━━━━━━━━━━━━━━━━━━━━━━━━━━━━━━━━━━━━\u001b[0m \u001b[32m116.6/116.6 kB\u001b[0m \u001b[31m15.3 MB/s\u001b[0m eta \u001b[36m0:00:00\u001b[0m\n",
            "\u001b[?25hCollecting portalocker (from sacrebleu<=2.2.0->object-detection==0.1)\n",
            "  Downloading portalocker-2.7.0-py2.py3-none-any.whl (15 kB)\n",
            "Requirement already satisfied: regex in /usr/local/lib/python3.10/dist-packages (from sacrebleu<=2.2.0->object-detection==0.1) (2022.10.31)\n",
            "Requirement already satisfied: tabulate>=0.8.9 in /usr/local/lib/python3.10/dist-packages (from sacrebleu<=2.2.0->object-detection==0.1) (0.8.10)\n",
            "Requirement already satisfied: numpy>=1.17 in /usr/local/lib/python3.10/dist-packages (from sacrebleu<=2.2.0->object-detection==0.1) (1.22.4)\n",
            "Collecting colorama (from sacrebleu<=2.2.0->object-detection==0.1)\n",
            "  Downloading colorama-0.4.6-py2.py3-none-any.whl (25 kB)\n",
            "Requirement already satisfied: gin-config in /usr/local/lib/python3.10/dist-packages (from tf-models-official>=2.5.1->object-detection==0.1) (0.5.0)\n",
            "Requirement already satisfied: google-api-python-client>=1.6.7 in /usr/local/lib/python3.10/dist-packages (from tf-models-official>=2.5.1->object-detection==0.1) (2.84.0)\n",
            "Collecting immutabledict (from tf-models-official>=2.5.1->object-detection==0.1)\n",
            "  Downloading immutabledict-2.2.5-py3-none-any.whl (4.1 kB)\n",
            "Requirement already satisfied: kaggle>=1.3.9 in /usr/local/lib/python3.10/dist-packages (from tf-models-official>=2.5.1->object-detection==0.1) (1.5.13)\n",
            "Requirement already satisfied: oauth2client in /usr/local/lib/python3.10/dist-packages (from tf-models-official>=2.5.1->object-detection==0.1) (4.1.3)\n",
            "Requirement already satisfied: opencv-python-headless in /usr/local/lib/python3.10/dist-packages (from tf-models-official>=2.5.1->object-detection==0.1) (4.7.0.72)\n",
            "Requirement already satisfied: psutil>=5.4.3 in /usr/local/lib/python3.10/dist-packages (from tf-models-official>=2.5.1->object-detection==0.1) (5.9.5)\n",
            "Requirement already satisfied: py-cpuinfo>=3.3.0 in /usr/local/lib/python3.10/dist-packages (from tf-models-official>=2.5.1->object-detection==0.1) (9.0.0)\n",
            "Collecting pyyaml<6.0,>=5.1 (from tf-models-official>=2.5.1->object-detection==0.1)\n",
            "  Downloading PyYAML-5.4.1.tar.gz (175 kB)\n",
            "\u001b[2K     \u001b[90m━━━━━━━━━━━━━━━━━━━━━━━━━━━━━━━━━━━━━━\u001b[0m \u001b[32m175.1/175.1 kB\u001b[0m \u001b[31m21.1 MB/s\u001b[0m eta \u001b[36m0:00:00\u001b[0m\n",
            "\u001b[?25h  Installing build dependencies ... \u001b[?25l\u001b[?25hdone\n",
            "  Getting requirements to build wheel ... \u001b[?25l\u001b[?25hdone\n",
            "  Preparing metadata (pyproject.toml) ... \u001b[?25l\u001b[?25hdone\n",
            "Collecting sentencepiece (from tf-models-official>=2.5.1->object-detection==0.1)\n",
            "  Downloading sentencepiece-0.1.99-cp310-cp310-manylinux_2_17_x86_64.manylinux2014_x86_64.whl (1.3 MB)\n",
            "\u001b[2K     \u001b[90m━━━━━━━━━━━━━━━━━━━━━━━━━━━━━━━━━━━━━━━━\u001b[0m \u001b[32m1.3/1.3 MB\u001b[0m \u001b[31m83.6 MB/s\u001b[0m eta \u001b[36m0:00:00\u001b[0m\n",
            "\u001b[?25hCollecting seqeval (from tf-models-official>=2.5.1->object-detection==0.1)\n",
            "  Downloading seqeval-1.2.2.tar.gz (43 kB)\n",
            "\u001b[2K     \u001b[90m━━━━━━━━━━━━━━━━━━━━━━━━━━━━━━━━━━━━━━━━\u001b[0m \u001b[32m43.6/43.6 kB\u001b[0m \u001b[31m5.8 MB/s\u001b[0m eta \u001b[36m0:00:00\u001b[0m\n",
            "\u001b[?25h  Preparing metadata (setup.py) ... \u001b[?25l\u001b[?25hdone\n",
            "Requirement already satisfied: tensorflow-datasets in /usr/local/lib/python3.10/dist-packages (from tf-models-official>=2.5.1->object-detection==0.1) (4.9.2)\n",
            "Requirement already satisfied: tensorflow-hub>=0.6.0 in /usr/local/lib/python3.10/dist-packages (from tf-models-official>=2.5.1->object-detection==0.1) (0.13.0)\n",
            "Collecting tensorflow-model-optimization>=0.4.1 (from tf-models-official>=2.5.1->object-detection==0.1)\n",
            "  Downloading tensorflow_model_optimization-0.7.5-py2.py3-none-any.whl (241 kB)\n",
            "\u001b[2K     \u001b[90m━━━━━━━━━━━━━━━━━━━━━━━━━━━━━━━━━━━━━━\u001b[0m \u001b[32m241.2/241.2 kB\u001b[0m \u001b[31m29.1 MB/s\u001b[0m eta \u001b[36m0:00:00\u001b[0m\n",
            "\u001b[?25hCollecting tensorflow-text~=2.13.0 (from tf-models-official>=2.5.1->object-detection==0.1)\n",
            "  Downloading tensorflow_text-2.13.0-cp310-cp310-manylinux_2_17_x86_64.manylinux2014_x86_64.whl (6.5 MB)\n",
            "\u001b[2K     \u001b[90m━━━━━━━━━━━━━━━━━━━━━━━━━━━━━━━━━━━━━━━━\u001b[0m \u001b[32m6.5/6.5 MB\u001b[0m \u001b[31m88.5 MB/s\u001b[0m eta \u001b[36m0:00:00\u001b[0m\n",
            "\u001b[?25hCollecting tensorflow~=2.13.0 (from tf-models-official>=2.5.1->object-detection==0.1)\n",
            "  Downloading tensorflow-2.13.0-cp310-cp310-manylinux_2_17_x86_64.manylinux2014_x86_64.whl (524.1 MB)\n",
            "\u001b[2K     \u001b[90m━━━━━━━━━━━━━━━━━━━━━━━━━━━━━━━━━━━━━━━\u001b[0m \u001b[32m524.1/524.1 MB\u001b[0m \u001b[31m2.5 MB/s\u001b[0m eta \u001b[36m0:00:00\u001b[0m\n",
            "\u001b[?25hRequirement already satisfied: python-dateutil>=2.8.1 in /usr/local/lib/python3.10/dist-packages (from pandas->object-detection==0.1) (2.8.2)\n",
            "Requirement already satisfied: pytz>=2020.1 in /usr/local/lib/python3.10/dist-packages (from pandas->object-detection==0.1) (2022.7.1)\n",
            "Requirement already satisfied: absl-py>=0.2.2 in /usr/local/lib/python3.10/dist-packages (from tf-slim->object-detection==0.1) (1.4.0)\n",
            "Collecting crcmod<2.0,>=1.7 (from apache-beam->object-detection==0.1)\n",
            "  Downloading crcmod-1.7.tar.gz (89 kB)\n",
            "\u001b[2K     \u001b[90m━━━━━━━━━━━━━━━━━━━━━━━━━━━━━━━━━━━━━━━━\u001b[0m \u001b[32m89.7/89.7 kB\u001b[0m \u001b[31m12.3 MB/s\u001b[0m eta \u001b[36m0:00:00\u001b[0m\n",
            "\u001b[?25h  Preparing metadata (setup.py) ... \u001b[?25l\u001b[?25hdone\n",
            "Collecting orjson<4.0 (from apache-beam->object-detection==0.1)\n",
            "  Downloading orjson-3.9.2-cp310-cp310-manylinux_2_17_x86_64.manylinux2014_x86_64.whl (138 kB)\n",
            "\u001b[2K     \u001b[90m━━━━━━━━━━━━━━━━━━━━━━━━━━━━━━━━━━━━━━\u001b[0m \u001b[32m138.7/138.7 kB\u001b[0m \u001b[31m15.9 MB/s\u001b[0m eta \u001b[36m0:00:00\u001b[0m\n",
            "\u001b[?25hCollecting dill<0.3.2,>=0.3.1.1 (from apache-beam->object-detection==0.1)\n",
            "  Downloading dill-0.3.1.1.tar.gz (151 kB)\n",
            "\u001b[2K     \u001b[90m━━━━━━━━━━━━━━━━━━━━━━━━━━━━━━━━━━━━━━\u001b[0m \u001b[32m152.0/152.0 kB\u001b[0m \u001b[31m20.0 MB/s\u001b[0m eta \u001b[36m0:00:00\u001b[0m\n",
            "\u001b[?25h  Preparing metadata (setup.py) ... \u001b[?25l\u001b[?25hdone\n",
            "Requirement already satisfied: cloudpickle~=2.2.1 in /usr/local/lib/python3.10/dist-packages (from apache-beam->object-detection==0.1) (2.2.1)\n",
            "Collecting fastavro<2,>=0.23.6 (from apache-beam->object-detection==0.1)\n",
            "  Downloading fastavro-1.8.0-cp310-cp310-manylinux_2_17_x86_64.manylinux2014_x86_64.whl (2.7 MB)\n",
            "\u001b[2K     \u001b[90m━━━━━━━━━━━━━━━━━━━━━━━━━━━━━━━━━━━━━━━━\u001b[0m \u001b[32m2.7/2.7 MB\u001b[0m \u001b[31m78.3 MB/s\u001b[0m eta \u001b[36m0:00:00\u001b[0m\n",
            "\u001b[?25hCollecting fasteners<1.0,>=0.3 (from apache-beam->object-detection==0.1)\n",
            "  Downloading fasteners-0.18-py3-none-any.whl (18 kB)\n",
            "Requirement already satisfied: grpcio!=1.48.0,<2,>=1.33.1 in /usr/local/lib/python3.10/dist-packages (from apache-beam->object-detection==0.1) (1.56.0)\n",
            "Collecting hdfs<3.0.0,>=2.1.0 (from apache-beam->object-detection==0.1)\n",
            "  Downloading hdfs-2.7.0-py3-none-any.whl (34 kB)\n",
            "Requirement already satisfied: httplib2<0.23.0,>=0.8 in /usr/local/lib/python3.10/dist-packages (from apache-beam->object-detection==0.1) (0.21.0)\n",
            "Collecting objsize<0.7.0,>=0.6.1 (from apache-beam->object-detection==0.1)\n",
            "  Downloading objsize-0.6.1-py3-none-any.whl (9.3 kB)\n",
            "Collecting pymongo<5.0.0,>=3.8.0 (from apache-beam->object-detection==0.1)\n",
            "  Downloading pymongo-4.4.0-cp310-cp310-manylinux_2_17_x86_64.manylinux2014_x86_64.whl (648 kB)\n",
            "\u001b[2K     \u001b[90m━━━━━━━━━━━━━━━━━━━━━━━━━━━━━━━━━━━━━━\u001b[0m \u001b[32m648.9/648.9 kB\u001b[0m \u001b[31m52.1 MB/s\u001b[0m eta \u001b[36m0:00:00\u001b[0m\n",
            "\u001b[?25hRequirement already satisfied: proto-plus<2,>=1.7.1 in /usr/local/lib/python3.10/dist-packages (from apache-beam->object-detection==0.1) (1.22.3)\n",
            "Requirement already satisfied: protobuf<4.24.0,>=3.20.3 in /usr/local/lib/python3.10/dist-packages (from apache-beam->object-detection==0.1) (3.20.3)\n",
            "Requirement already satisfied: pydot<2,>=1.2.0 in /usr/local/lib/python3.10/dist-packages (from apache-beam->object-detection==0.1) (1.4.2)\n",
            "Requirement already satisfied: requests<3.0.0,>=2.24.0 in /usr/local/lib/python3.10/dist-packages (from apache-beam->object-detection==0.1) (2.27.1)\n",
            "Requirement already satisfied: typing-extensions>=3.7.0 in /usr/local/lib/python3.10/dist-packages (from apache-beam->object-detection==0.1) (4.6.3)\n",
            "Collecting zstandard<1,>=0.18.0 (from apache-beam->object-detection==0.1)\n",
            "  Downloading zstandard-0.21.0-cp310-cp310-manylinux_2_17_x86_64.manylinux2014_x86_64.whl (2.7 MB)\n",
            "\u001b[2K     \u001b[90m━━━━━━━━━━━━━━━━━━━━━━━━━━━━━━━━━━━━━━━━\u001b[0m \u001b[32m2.7/2.7 MB\u001b[0m \u001b[31m78.8 MB/s\u001b[0m eta \u001b[36m0:00:00\u001b[0m\n",
            "\u001b[?25hRequirement already satisfied: pyarrow<12.0.0,>=3.0.0 in /usr/local/lib/python3.10/dist-packages (from apache-beam->object-detection==0.1) (9.0.0)\n",
            "Requirement already satisfied: cycler>=0.10.0 in /usr/local/lib/python3.10/dist-packages (from lvis->object-detection==0.1) (0.11.0)\n",
            "Requirement already satisfied: kiwisolver>=1.1.0 in /usr/local/lib/python3.10/dist-packages (from lvis->object-detection==0.1) (1.4.4)\n",
            "Requirement already satisfied: opencv-python>=4.1.0.25 in /usr/local/lib/python3.10/dist-packages (from lvis->object-detection==0.1) (4.7.0.72)\n",
            "Requirement already satisfied: contourpy>=1.0.1 in /usr/local/lib/python3.10/dist-packages (from matplotlib->object-detection==0.1) (1.1.0)\n",
            "Requirement already satisfied: fonttools>=4.22.0 in /usr/local/lib/python3.10/dist-packages (from matplotlib->object-detection==0.1) (4.40.0)\n",
            "Requirement already satisfied: packaging>=20.0 in /usr/local/lib/python3.10/dist-packages (from matplotlib->object-detection==0.1) (23.1)\n",
            "Requirement already satisfied: tensorflow-io-gcs-filesystem==0.32.0 in /usr/local/lib/python3.10/dist-packages (from tensorflow_io->object-detection==0.1) (0.32.0)\n",
            "Requirement already satisfied: google-auth<3.0.0dev,>=1.19.0 in /usr/local/lib/python3.10/dist-packages (from google-api-python-client>=1.6.7->tf-models-official>=2.5.1->object-detection==0.1) (2.17.3)\n",
            "Requirement already satisfied: google-auth-httplib2>=0.1.0 in /usr/local/lib/python3.10/dist-packages (from google-api-python-client>=1.6.7->tf-models-official>=2.5.1->object-detection==0.1) (0.1.0)\n",
            "Requirement already satisfied: google-api-core!=2.0.*,!=2.1.*,!=2.2.*,!=2.3.0,<3.0.0dev,>=1.31.5 in /usr/local/lib/python3.10/dist-packages (from google-api-python-client>=1.6.7->tf-models-official>=2.5.1->object-detection==0.1) (2.11.1)\n",
            "Requirement already satisfied: uritemplate<5,>=3.0.1 in /usr/local/lib/python3.10/dist-packages (from google-api-python-client>=1.6.7->tf-models-official>=2.5.1->object-detection==0.1) (4.1.1)\n",
            "Collecting docopt (from hdfs<3.0.0,>=2.1.0->apache-beam->object-detection==0.1)\n",
            "  Downloading docopt-0.6.2.tar.gz (25 kB)\n",
            "  Preparing metadata (setup.py) ... \u001b[?25l\u001b[?25hdone\n",
            "Requirement already satisfied: certifi in /usr/local/lib/python3.10/dist-packages (from kaggle>=1.3.9->tf-models-official>=2.5.1->object-detection==0.1) (2023.5.7)\n",
            "Requirement already satisfied: tqdm in /usr/local/lib/python3.10/dist-packages (from kaggle>=1.3.9->tf-models-official>=2.5.1->object-detection==0.1) (4.65.0)\n",
            "Requirement already satisfied: python-slugify in /usr/local/lib/python3.10/dist-packages (from kaggle>=1.3.9->tf-models-official>=2.5.1->object-detection==0.1) (8.0.1)\n",
            "Requirement already satisfied: urllib3 in /usr/local/lib/python3.10/dist-packages (from kaggle>=1.3.9->tf-models-official>=2.5.1->object-detection==0.1) (1.26.16)\n",
            "Collecting dnspython<3.0.0,>=1.16.0 (from pymongo<5.0.0,>=3.8.0->apache-beam->object-detection==0.1)\n",
            "  Downloading dnspython-2.3.0-py3-none-any.whl (283 kB)\n",
            "\u001b[2K     \u001b[90m━━━━━━━━━━━━━━━━━━━━━━━━━━━━━━━━━━━━━━\u001b[0m \u001b[32m283.7/283.7 kB\u001b[0m \u001b[31m29.6 MB/s\u001b[0m eta \u001b[36m0:00:00\u001b[0m\n",
            "\u001b[?25hRequirement already satisfied: charset-normalizer~=2.0.0 in /usr/local/lib/python3.10/dist-packages (from requests<3.0.0,>=2.24.0->apache-beam->object-detection==0.1) (2.0.12)\n",
            "Requirement already satisfied: idna<4,>=2.5 in /usr/local/lib/python3.10/dist-packages (from requests<3.0.0,>=2.24.0->apache-beam->object-detection==0.1) (3.4)\n",
            "Requirement already satisfied: astunparse>=1.6.0 in /usr/local/lib/python3.10/dist-packages (from tensorflow~=2.13.0->tf-models-official>=2.5.1->object-detection==0.1) (1.6.3)\n",
            "Requirement already satisfied: flatbuffers>=23.1.21 in /usr/local/lib/python3.10/dist-packages (from tensorflow~=2.13.0->tf-models-official>=2.5.1->object-detection==0.1) (23.5.26)\n",
            "Requirement already satisfied: gast<=0.4.0,>=0.2.1 in /usr/local/lib/python3.10/dist-packages (from tensorflow~=2.13.0->tf-models-official>=2.5.1->object-detection==0.1) (0.4.0)\n",
            "Requirement already satisfied: google-pasta>=0.1.1 in /usr/local/lib/python3.10/dist-packages (from tensorflow~=2.13.0->tf-models-official>=2.5.1->object-detection==0.1) (0.2.0)\n",
            "Requirement already satisfied: h5py>=2.9.0 in /usr/local/lib/python3.10/dist-packages (from tensorflow~=2.13.0->tf-models-official>=2.5.1->object-detection==0.1) (3.8.0)\n",
            "Collecting keras (from object-detection==0.1)\n",
            "  Downloading keras-2.13.1-py3-none-any.whl (1.7 MB)\n",
            "\u001b[2K     \u001b[90m━━━━━━━━━━━━━━━━━━━━━━━━━━━━━━━━━━━━━━━━\u001b[0m \u001b[32m1.7/1.7 MB\u001b[0m \u001b[31m70.7 MB/s\u001b[0m eta \u001b[36m0:00:00\u001b[0m\n",
            "\u001b[?25hRequirement already satisfied: libclang>=13.0.0 in /usr/local/lib/python3.10/dist-packages (from tensorflow~=2.13.0->tf-models-official>=2.5.1->object-detection==0.1) (16.0.0)\n",
            "Requirement already satisfied: opt-einsum>=2.3.2 in /usr/local/lib/python3.10/dist-packages (from tensorflow~=2.13.0->tf-models-official>=2.5.1->object-detection==0.1) (3.3.0)\n",
            "Requirement already satisfied: setuptools in /usr/local/lib/python3.10/dist-packages (from tensorflow~=2.13.0->tf-models-official>=2.5.1->object-detection==0.1) (67.7.2)\n",
            "Collecting tensorboard<2.14,>=2.13 (from tensorflow~=2.13.0->tf-models-official>=2.5.1->object-detection==0.1)\n",
            "  Downloading tensorboard-2.13.0-py3-none-any.whl (5.6 MB)\n",
            "\u001b[2K     \u001b[90m━━━━━━━━━━━━━━━━━━━━━━━━━━━━━━━━━━━━━━━━\u001b[0m \u001b[32m5.6/5.6 MB\u001b[0m \u001b[31m85.4 MB/s\u001b[0m eta \u001b[36m0:00:00\u001b[0m\n",
            "\u001b[?25hCollecting tensorflow-estimator<2.14,>=2.13.0 (from tensorflow~=2.13.0->tf-models-official>=2.5.1->object-detection==0.1)\n",
            "  Downloading tensorflow_estimator-2.13.0-py2.py3-none-any.whl (440 kB)\n",
            "\u001b[2K     \u001b[90m━━━━━━━━━━━━━━━━━━━━━━━━━━━━━━━━━━━━━━\u001b[0m \u001b[32m440.8/440.8 kB\u001b[0m \u001b[31m38.6 MB/s\u001b[0m eta \u001b[36m0:00:00\u001b[0m\n",
            "\u001b[?25hRequirement already satisfied: termcolor>=1.1.0 in /usr/local/lib/python3.10/dist-packages (from tensorflow~=2.13.0->tf-models-official>=2.5.1->object-detection==0.1) (2.3.0)\n",
            "Collecting typing-extensions>=3.7.0 (from apache-beam->object-detection==0.1)\n",
            "  Downloading typing_extensions-4.5.0-py3-none-any.whl (27 kB)\n",
            "Requirement already satisfied: wrapt>=1.11.0 in /usr/local/lib/python3.10/dist-packages (from tensorflow~=2.13.0->tf-models-official>=2.5.1->object-detection==0.1) (1.14.1)\n",
            "Requirement already satisfied: dm-tree~=0.1.1 in /usr/local/lib/python3.10/dist-packages (from tensorflow-model-optimization>=0.4.1->tf-models-official>=2.5.1->object-detection==0.1) (0.1.8)\n",
            "Collecting numpy>=1.17 (from sacrebleu<=2.2.0->object-detection==0.1)\n",
            "  Downloading numpy-1.24.3-cp310-cp310-manylinux_2_17_x86_64.manylinux2014_x86_64.whl (17.3 MB)\n",
            "\u001b[2K     \u001b[90m━━━━━━━━━━━━━━━━━━━━━━━━━━━━━━━━━━━━━━━━\u001b[0m \u001b[32m17.3/17.3 MB\u001b[0m \u001b[31m55.5 MB/s\u001b[0m eta \u001b[36m0:00:00\u001b[0m\n",
            "\u001b[?25hRequirement already satisfied: pyasn1>=0.1.7 in /usr/local/lib/python3.10/dist-packages (from oauth2client->tf-models-official>=2.5.1->object-detection==0.1) (0.5.0)\n",
            "Requirement already satisfied: pyasn1-modules>=0.0.5 in /usr/local/lib/python3.10/dist-packages (from oauth2client->tf-models-official>=2.5.1->object-detection==0.1) (0.3.0)\n",
            "Requirement already satisfied: rsa>=3.1.4 in /usr/local/lib/python3.10/dist-packages (from oauth2client->tf-models-official>=2.5.1->object-detection==0.1) (4.9)\n",
            "Requirement already satisfied: scikit-learn>=0.21.3 in /usr/local/lib/python3.10/dist-packages (from seqeval->tf-models-official>=2.5.1->object-detection==0.1) (1.2.2)\n",
            "Requirement already satisfied: array-record in /usr/local/lib/python3.10/dist-packages (from tensorflow-datasets->tf-models-official>=2.5.1->object-detection==0.1) (0.4.0)\n",
            "Requirement already satisfied: click in /usr/local/lib/python3.10/dist-packages (from tensorflow-datasets->tf-models-official>=2.5.1->object-detection==0.1) (8.1.3)\n",
            "Requirement already satisfied: etils[enp,epath]>=0.9.0 in /usr/local/lib/python3.10/dist-packages (from tensorflow-datasets->tf-models-official>=2.5.1->object-detection==0.1) (1.3.0)\n",
            "Requirement already satisfied: promise in /usr/local/lib/python3.10/dist-packages (from tensorflow-datasets->tf-models-official>=2.5.1->object-detection==0.1) (2.3)\n",
            "Requirement already satisfied: tensorflow-metadata in /usr/local/lib/python3.10/dist-packages (from tensorflow-datasets->tf-models-official>=2.5.1->object-detection==0.1) (1.13.1)\n",
            "Requirement already satisfied: toml in /usr/local/lib/python3.10/dist-packages (from tensorflow-datasets->tf-models-official>=2.5.1->object-detection==0.1) (0.10.2)\n",
            "Requirement already satisfied: wheel<1.0,>=0.23.0 in /usr/local/lib/python3.10/dist-packages (from astunparse>=1.6.0->tensorflow~=2.13.0->tf-models-official>=2.5.1->object-detection==0.1) (0.40.0)\n",
            "Requirement already satisfied: importlib_resources in /usr/local/lib/python3.10/dist-packages (from etils[enp,epath]>=0.9.0->tensorflow-datasets->tf-models-official>=2.5.1->object-detection==0.1) (5.12.0)\n",
            "Requirement already satisfied: zipp in /usr/local/lib/python3.10/dist-packages (from etils[enp,epath]>=0.9.0->tensorflow-datasets->tf-models-official>=2.5.1->object-detection==0.1) (3.15.0)\n",
            "Requirement already satisfied: googleapis-common-protos<2.0.dev0,>=1.56.2 in /usr/local/lib/python3.10/dist-packages (from google-api-core!=2.0.*,!=2.1.*,!=2.2.*,!=2.3.0,<3.0.0dev,>=1.31.5->google-api-python-client>=1.6.7->tf-models-official>=2.5.1->object-detection==0.1) (1.59.1)\n",
            "Requirement already satisfied: cachetools<6.0,>=2.0.0 in /usr/local/lib/python3.10/dist-packages (from google-auth<3.0.0dev,>=1.19.0->google-api-python-client>=1.6.7->tf-models-official>=2.5.1->object-detection==0.1) (5.3.1)\n",
            "Requirement already satisfied: joblib>=1.1.1 in /usr/local/lib/python3.10/dist-packages (from scikit-learn>=0.21.3->seqeval->tf-models-official>=2.5.1->object-detection==0.1) (1.2.0)\n",
            "Requirement already satisfied: threadpoolctl>=2.0.0 in /usr/local/lib/python3.10/dist-packages (from scikit-learn>=0.21.3->seqeval->tf-models-official>=2.5.1->object-detection==0.1) (3.1.0)\n",
            "Requirement already satisfied: google-auth-oauthlib<1.1,>=0.5 in /usr/local/lib/python3.10/dist-packages (from tensorboard<2.14,>=2.13->tensorflow~=2.13.0->tf-models-official>=2.5.1->object-detection==0.1) (1.0.0)\n",
            "Requirement already satisfied: markdown>=2.6.8 in /usr/local/lib/python3.10/dist-packages (from tensorboard<2.14,>=2.13->tensorflow~=2.13.0->tf-models-official>=2.5.1->object-detection==0.1) (3.4.3)\n",
            "Requirement already satisfied: tensorboard-data-server<0.8.0,>=0.7.0 in /usr/local/lib/python3.10/dist-packages (from tensorboard<2.14,>=2.13->tensorflow~=2.13.0->tf-models-official>=2.5.1->object-detection==0.1) (0.7.1)\n",
            "Requirement already satisfied: werkzeug>=1.0.1 in /usr/local/lib/python3.10/dist-packages (from tensorboard<2.14,>=2.13->tensorflow~=2.13.0->tf-models-official>=2.5.1->object-detection==0.1) (2.3.6)\n",
            "Requirement already satisfied: text-unidecode>=1.3 in /usr/local/lib/python3.10/dist-packages (from python-slugify->kaggle>=1.3.9->tf-models-official>=2.5.1->object-detection==0.1) (1.3)\n",
            "Requirement already satisfied: requests-oauthlib>=0.7.0 in /usr/local/lib/python3.10/dist-packages (from google-auth-oauthlib<1.1,>=0.5->tensorboard<2.14,>=2.13->tensorflow~=2.13.0->tf-models-official>=2.5.1->object-detection==0.1) (1.3.1)\n",
            "Requirement already satisfied: MarkupSafe>=2.1.1 in /usr/local/lib/python3.10/dist-packages (from werkzeug>=1.0.1->tensorboard<2.14,>=2.13->tensorflow~=2.13.0->tf-models-official>=2.5.1->object-detection==0.1) (2.1.3)\n",
            "Requirement already satisfied: oauthlib>=3.0.0 in /usr/local/lib/python3.10/dist-packages (from requests-oauthlib>=0.7.0->google-auth-oauthlib<1.1,>=0.5->tensorboard<2.14,>=2.13->tensorflow~=2.13.0->tf-models-official>=2.5.1->object-detection==0.1) (3.2.2)\n",
            "Building wheels for collected packages: object-detection, avro-python3, crcmod, dill, pyyaml, seqeval, docopt\n",
            "  Building wheel for object-detection (setup.py) ... \u001b[?25l\u001b[?25hdone\n",
            "  Created wheel for object-detection: filename=object_detection-0.1-py3-none-any.whl size=1696986 sha256=d79b22c099b260a479162a3b668b3de48b3e43f46140a23f42bfcaa6a2399267\n",
            "  Stored in directory: /tmp/pip-ephem-wheel-cache-elyuwr_e/wheels/fb/c9/43/709f88e66b36649c7a29812ca4f6236f31caed949aabc3e335\n",
            "  Building wheel for avro-python3 (setup.py) ... \u001b[?25l\u001b[?25hdone\n",
            "  Created wheel for avro-python3: filename=avro_python3-1.10.2-py3-none-any.whl size=43994 sha256=dbd601043073c3f657dc19e94add214267ab9866407f26ff41b61629cce21a99\n",
            "  Stored in directory: /root/.cache/pip/wheels/bc/85/62/6cdd81c56f923946b401cecff38055b94c9b766927f7d8ca82\n",
            "  Building wheel for crcmod (setup.py) ... \u001b[?25l\u001b[?25hdone\n",
            "  Created wheel for crcmod: filename=crcmod-1.7-cp310-cp310-linux_x86_64.whl size=37102 sha256=706033d4d2ac20c71cd8c890f98b1e59518b85a8778049668516282f0644a839\n",
            "  Stored in directory: /root/.cache/pip/wheels/85/4c/07/72215c529bd59d67e3dac29711d7aba1b692f543c808ba9e86\n",
            "  Building wheel for dill (setup.py) ... \u001b[?25l\u001b[?25hdone\n",
            "  Created wheel for dill: filename=dill-0.3.1.1-py3-none-any.whl size=78545 sha256=0503f00fae8cdbcf911724bb2f148826969e1f5c10d7921198cf49ed6250b64e\n",
            "  Stored in directory: /root/.cache/pip/wheels/ea/e2/86/64980d90e297e7bf2ce588c2b96e818f5399c515c4bb8a7e4f\n",
            "  Building wheel for pyyaml (pyproject.toml) ... \u001b[?25l\u001b[?25hdone\n",
            "  Created wheel for pyyaml: filename=PyYAML-5.4.1-cp310-cp310-linux_x86_64.whl size=45658 sha256=c130c39063fc6367abafb8db7e74b6556fcc93f634c3f9e937c1edb95d5a56b1\n",
            "  Stored in directory: /root/.cache/pip/wheels/c7/0d/22/696ee92245ad710f506eee79bb05c740d8abccd3ecdb778683\n",
            "  Building wheel for seqeval (setup.py) ... \u001b[?25l\u001b[?25hdone\n",
            "  Created wheel for seqeval: filename=seqeval-1.2.2-py3-none-any.whl size=16165 sha256=642bb5f2463528a84aa5e0cb73686bdaaf7adc29e0ddaa1dc618eab1d8121d75\n",
            "  Stored in directory: /root/.cache/pip/wheels/1a/67/4a/ad4082dd7dfc30f2abfe4d80a2ed5926a506eb8a972b4767fa\n",
            "  Building wheel for docopt (setup.py) ... \u001b[?25l\u001b[?25hdone\n",
            "  Created wheel for docopt: filename=docopt-0.6.2-py2.py3-none-any.whl size=13707 sha256=c0a22fe3e28051d93c3004392cb7e99f5ccd6693f76ef0fcc2d2c85a527bb3ac\n",
            "  Stored in directory: /root/.cache/pip/wheels/fc/ab/d4/5da2067ac95b36618c629a5f93f809425700506f72c9732fac\n",
            "Successfully built object-detection avro-python3 crcmod dill pyyaml seqeval docopt\n",
            "Installing collected packages: sentencepiece, docopt, crcmod, zstandard, typing-extensions, tensorflow_io, tensorflow-estimator, pyyaml, pyparsing, portalocker, orjson, objsize, numpy, keras, immutabledict, fasteners, fastavro, dnspython, dill, colorama, avro-python3, tensorflow-model-optimization, sacrebleu, pymongo, hdfs, apache-beam, tensorboard, seqeval, lvis, tensorflow, tensorflow-text, tf-models-official, object-detection\n",
            "  Attempting uninstall: typing-extensions\n",
            "    Found existing installation: typing_extensions 4.6.3\n",
            "    Uninstalling typing_extensions-4.6.3:\n",
            "      Successfully uninstalled typing_extensions-4.6.3\n",
            "  Attempting uninstall: tensorflow-estimator\n",
            "    Found existing installation: tensorflow-estimator 2.12.0\n",
            "    Uninstalling tensorflow-estimator-2.12.0:\n",
            "      Successfully uninstalled tensorflow-estimator-2.12.0\n",
            "  Attempting uninstall: pyyaml\n",
            "    Found existing installation: PyYAML 6.0\n",
            "    Uninstalling PyYAML-6.0:\n",
            "      Successfully uninstalled PyYAML-6.0\n",
            "  Attempting uninstall: pyparsing\n",
            "    Found existing installation: pyparsing 3.1.0\n",
            "    Uninstalling pyparsing-3.1.0:\n",
            "      Successfully uninstalled pyparsing-3.1.0\n",
            "  Attempting uninstall: numpy\n",
            "    Found existing installation: numpy 1.22.4\n",
            "    Uninstalling numpy-1.22.4:\n",
            "      Successfully uninstalled numpy-1.22.4\n",
            "  Attempting uninstall: keras\n",
            "    Found existing installation: keras 2.12.0\n",
            "    Uninstalling keras-2.12.0:\n",
            "      Successfully uninstalled keras-2.12.0\n",
            "  Attempting uninstall: tensorboard\n",
            "    Found existing installation: tensorboard 2.12.3\n",
            "    Uninstalling tensorboard-2.12.3:\n",
            "      Successfully uninstalled tensorboard-2.12.3\n",
            "  Attempting uninstall: tensorflow\n",
            "    Found existing installation: tensorflow 2.12.0\n",
            "    Uninstalling tensorflow-2.12.0:\n",
            "      Successfully uninstalled tensorflow-2.12.0\n",
            "\u001b[31mERROR: pip's dependency resolver does not currently take into account all the packages that are installed. This behaviour is the source of the following dependency conflicts.\n",
            "numba 0.56.4 requires numpy<1.24,>=1.18, but you have numpy 1.24.3 which is incompatible.\u001b[0m\u001b[31m\n",
            "\u001b[0mSuccessfully installed apache-beam-2.48.0 avro-python3-1.10.2 colorama-0.4.6 crcmod-1.7 dill-0.3.1.1 dnspython-2.3.0 docopt-0.6.2 fastavro-1.8.0 fasteners-0.18 hdfs-2.7.0 immutabledict-2.2.5 keras-2.13.1 lvis-0.5.3 numpy-1.24.3 object-detection-0.1 objsize-0.6.1 orjson-3.9.2 portalocker-2.7.0 pymongo-4.4.0 pyparsing-2.4.7 pyyaml-5.4.1 sacrebleu-2.2.0 sentencepiece-0.1.99 seqeval-1.2.2 tensorboard-2.13.0 tensorflow-2.13.0 tensorflow-estimator-2.13.0 tensorflow-model-optimization-0.7.5 tensorflow-text-2.13.0 tensorflow_io-0.32.0 tf-models-official-2.13.0 typing-extensions-4.5.0 zstandard-0.21.0\n"
          ]
        }
      ],
      "source": [
        "# Install Tensorflow Object Detection\n",
        "if os.name=='posix':\n",
        "    !apt-get install protobuf-compiler\n",
        "    !cd Tensorflow/models/research && protoc object_detection/protos/*.proto --python_out=. && cp object_detection/packages/tf2/setup.py . && python -m pip install .\n",
        "\n",
        "if os.name=='nt':\n",
        "    url=\"https://github.com/protocolbuffers/protobuf/releases/download/v3.15.6/protoc-3.15.6-win64.zip\"\n",
        "    wget.download(url)\n",
        "    !move protoc-3.15.6-win64.zip {paths['PROTOC_PATH']}\n",
        "    !cd {paths['PROTOC_PATH']} && tar -xf protoc-3.15.6-win64.zip\n",
        "    os.environ['PATH'] += os.pathsep + os.path.abspath(os.path.join(paths['PROTOC_PATH'], 'bin'))\n",
        "    !cd Tensorflow/models/research && protoc object_detection/protos/*.proto --python_out=. && copy object_detection\\\\packages\\\\tf2\\\\setup.py setup.py && python setup.py build && python setup.py install\n",
        "    !cd Tensorflow/models/research/slim && pip install -e ."
      ]
    },
    {
      "cell_type": "code",
      "execution_count": null,
      "metadata": {
        "id": "gZTOD-QToodo",
        "scrolled": true
      },
      "outputs": [],
      "source": [
        "!pip list"
      ]
    },
    {
      "cell_type": "code",
      "execution_count": 12,
      "metadata": {
        "colab": {
          "base_uri": "https://localhost:8080/"
        },
        "id": "Gyd_Qy5aoodo",
        "outputId": "1f2ef388-1351-4566-f92d-9f462bb09c9b",
        "scrolled": true
      },
      "outputs": [
        {
          "output_type": "stream",
          "name": "stdout",
          "text": [
            "2023-07-10 06:43:07.650136: I tensorflow/core/platform/cpu_feature_guard.cc:182] This TensorFlow binary is optimized to use available CPU instructions in performance-critical operations.\n",
            "To enable the following instructions: AVX2 AVX512F FMA, in other operations, rebuild TensorFlow with the appropriate compiler flags.\n",
            "2023-07-10 06:43:09.115862: W tensorflow/compiler/tf2tensorrt/utils/py_utils.cc:38] TF-TRT Warning: Could not find TensorRT\n",
            "/usr/local/lib/python3.10/dist-packages/tensorflow_io/python/ops/__init__.py:98: UserWarning: unable to load libtensorflow_io_plugins.so: unable to open file: libtensorflow_io_plugins.so, from paths: ['/usr/local/lib/python3.10/dist-packages/tensorflow_io/python/ops/libtensorflow_io_plugins.so']\n",
            "caused by: ['/usr/local/lib/python3.10/dist-packages/tensorflow_io/python/ops/libtensorflow_io_plugins.so: undefined symbol: _ZN3tsl6Status12empty_stringB5cxx11Ev']\n",
            "  warnings.warn(f\"unable to load libtensorflow_io_plugins.so: {e}\")\n",
            "/usr/local/lib/python3.10/dist-packages/tensorflow_io/python/ops/__init__.py:104: UserWarning: file system plugins are not loaded: unable to open file: libtensorflow_io.so, from paths: ['/usr/local/lib/python3.10/dist-packages/tensorflow_io/python/ops/libtensorflow_io.so']\n",
            "caused by: ['/usr/local/lib/python3.10/dist-packages/tensorflow_io/python/ops/libtensorflow_io.so: undefined symbol: _ZNK10tensorflow4data11DatasetBase8FinalizeEPNS_15OpKernelContextESt8functionIFN3tsl8StatusOrISt10unique_ptrIS1_NS5_4core15RefCountDeleterEEEEvEE']\n",
            "  warnings.warn(f\"file system plugins are not loaded: {e}\")\n",
            "2023-07-10 06:43:12.625475: I tensorflow/compiler/xla/stream_executor/cuda/cuda_gpu_executor.cc:995] successful NUMA node read from SysFS had negative value (-1), but there must be at least one NUMA node, so returning NUMA node zero. See more at https://github.com/torvalds/linux/blob/v6.0/Documentation/ABI/testing/sysfs-bus-pci#L344-L355\n",
            "2023-07-10 06:43:12.667261: I tensorflow/compiler/xla/stream_executor/cuda/cuda_gpu_executor.cc:995] successful NUMA node read from SysFS had negative value (-1), but there must be at least one NUMA node, so returning NUMA node zero. See more at https://github.com/torvalds/linux/blob/v6.0/Documentation/ABI/testing/sysfs-bus-pci#L344-L355\n",
            "2023-07-10 06:43:12.667649: I tensorflow/compiler/xla/stream_executor/cuda/cuda_gpu_executor.cc:995] successful NUMA node read from SysFS had negative value (-1), but there must be at least one NUMA node, so returning NUMA node zero. See more at https://github.com/torvalds/linux/blob/v6.0/Documentation/ABI/testing/sysfs-bus-pci#L344-L355\n",
            "Running tests under Python 3.10.12: /usr/bin/python3\n",
            "[ RUN      ] ModelBuilderTF2Test.test_create_center_net_deepmac\n",
            "2023-07-10 06:43:12.686896: I tensorflow/compiler/xla/stream_executor/cuda/cuda_gpu_executor.cc:995] successful NUMA node read from SysFS had negative value (-1), but there must be at least one NUMA node, so returning NUMA node zero. See more at https://github.com/torvalds/linux/blob/v6.0/Documentation/ABI/testing/sysfs-bus-pci#L344-L355\n",
            "2023-07-10 06:43:12.687236: I tensorflow/compiler/xla/stream_executor/cuda/cuda_gpu_executor.cc:995] successful NUMA node read from SysFS had negative value (-1), but there must be at least one NUMA node, so returning NUMA node zero. See more at https://github.com/torvalds/linux/blob/v6.0/Documentation/ABI/testing/sysfs-bus-pci#L344-L355\n",
            "2023-07-10 06:43:12.687533: I tensorflow/compiler/xla/stream_executor/cuda/cuda_gpu_executor.cc:995] successful NUMA node read from SysFS had negative value (-1), but there must be at least one NUMA node, so returning NUMA node zero. See more at https://github.com/torvalds/linux/blob/v6.0/Documentation/ABI/testing/sysfs-bus-pci#L344-L355\n",
            "2023-07-10 06:43:13.924317: I tensorflow/compiler/xla/stream_executor/cuda/cuda_gpu_executor.cc:995] successful NUMA node read from SysFS had negative value (-1), but there must be at least one NUMA node, so returning NUMA node zero. See more at https://github.com/torvalds/linux/blob/v6.0/Documentation/ABI/testing/sysfs-bus-pci#L344-L355\n",
            "2023-07-10 06:43:13.924770: I tensorflow/compiler/xla/stream_executor/cuda/cuda_gpu_executor.cc:995] successful NUMA node read from SysFS had negative value (-1), but there must be at least one NUMA node, so returning NUMA node zero. See more at https://github.com/torvalds/linux/blob/v6.0/Documentation/ABI/testing/sysfs-bus-pci#L344-L355\n",
            "2023-07-10 06:43:13.925077: I tensorflow/compiler/xla/stream_executor/cuda/cuda_gpu_executor.cc:995] successful NUMA node read from SysFS had negative value (-1), but there must be at least one NUMA node, so returning NUMA node zero. See more at https://github.com/torvalds/linux/blob/v6.0/Documentation/ABI/testing/sysfs-bus-pci#L344-L355\n",
            "2023-07-10 06:43:13.925281: W tensorflow/core/common_runtime/gpu/gpu_bfc_allocator.cc:47] Overriding orig_value setting because the TF_FORCE_GPU_ALLOW_GROWTH environment variable is set. Original config value was 0.\n",
            "2023-07-10 06:43:13.925332: I tensorflow/core/common_runtime/gpu/gpu_device.cc:1639] Created device /job:localhost/replica:0/task:0/device:GPU:0 with 13692 MB memory:  -> device: 0, name: Tesla T4, pci bus id: 0000:00:04.0, compute capability: 7.5\n",
            "WARNING:tensorflow:`tf.keras.layers.experimental.SyncBatchNormalization` endpoint is deprecated and will be removed in a future release. Please use `tf.keras.layers.BatchNormalization` with parameter `synchronized` set to True.\n",
            "W0710 06:43:13.963538 139921749833536 batch_normalization.py:1531] `tf.keras.layers.experimental.SyncBatchNormalization` endpoint is deprecated and will be removed in a future release. Please use `tf.keras.layers.BatchNormalization` with parameter `synchronized` set to True.\n",
            "W0710 06:43:14.625995 139921749833536 model_builder.py:1112] Building experimental DeepMAC meta-arch. Some features may be omitted.\n",
            "INFO:tensorflow:time(__main__.ModelBuilderTF2Test.test_create_center_net_deepmac): 2.47s\n",
            "I0710 06:43:15.141344 139921749833536 test_util.py:2462] time(__main__.ModelBuilderTF2Test.test_create_center_net_deepmac): 2.47s\n",
            "[       OK ] ModelBuilderTF2Test.test_create_center_net_deepmac\n",
            "[ RUN      ] ModelBuilderTF2Test.test_create_center_net_model0 (customize_head_params=True)\n",
            "INFO:tensorflow:time(__main__.ModelBuilderTF2Test.test_create_center_net_model0 (customize_head_params=True)): 0.99s\n",
            "I0710 06:43:16.127821 139921749833536 test_util.py:2462] time(__main__.ModelBuilderTF2Test.test_create_center_net_model0 (customize_head_params=True)): 0.99s\n",
            "[       OK ] ModelBuilderTF2Test.test_create_center_net_model0 (customize_head_params=True)\n",
            "[ RUN      ] ModelBuilderTF2Test.test_create_center_net_model1 (customize_head_params=False)\n",
            "INFO:tensorflow:time(__main__.ModelBuilderTF2Test.test_create_center_net_model1 (customize_head_params=False)): 0.59s\n",
            "I0710 06:43:16.716643 139921749833536 test_util.py:2462] time(__main__.ModelBuilderTF2Test.test_create_center_net_model1 (customize_head_params=False)): 0.59s\n",
            "[       OK ] ModelBuilderTF2Test.test_create_center_net_model1 (customize_head_params=False)\n",
            "[ RUN      ] ModelBuilderTF2Test.test_create_center_net_model_from_keypoints\n",
            "INFO:tensorflow:time(__main__.ModelBuilderTF2Test.test_create_center_net_model_from_keypoints): 0.5s\n",
            "I0710 06:43:17.221014 139921749833536 test_util.py:2462] time(__main__.ModelBuilderTF2Test.test_create_center_net_model_from_keypoints): 0.5s\n",
            "[       OK ] ModelBuilderTF2Test.test_create_center_net_model_from_keypoints\n",
            "[ RUN      ] ModelBuilderTF2Test.test_create_center_net_model_mobilenet\n",
            "INFO:tensorflow:time(__main__.ModelBuilderTF2Test.test_create_center_net_model_mobilenet): 3.08s\n",
            "I0710 06:43:20.298928 139921749833536 test_util.py:2462] time(__main__.ModelBuilderTF2Test.test_create_center_net_model_mobilenet): 3.08s\n",
            "[       OK ] ModelBuilderTF2Test.test_create_center_net_model_mobilenet\n",
            "[ RUN      ] ModelBuilderTF2Test.test_create_experimental_model\n",
            "INFO:tensorflow:time(__main__.ModelBuilderTF2Test.test_create_experimental_model): 0.0s\n",
            "I0710 06:43:20.305602 139921749833536 test_util.py:2462] time(__main__.ModelBuilderTF2Test.test_create_experimental_model): 0.0s\n",
            "[       OK ] ModelBuilderTF2Test.test_create_experimental_model\n",
            "[ RUN      ] ModelBuilderTF2Test.test_create_faster_rcnn_from_config_with_crop_feature0 (True)\n",
            "INFO:tensorflow:time(__main__.ModelBuilderTF2Test.test_create_faster_rcnn_from_config_with_crop_feature0 (True)): 0.03s\n",
            "I0710 06:43:20.332526 139921749833536 test_util.py:2462] time(__main__.ModelBuilderTF2Test.test_create_faster_rcnn_from_config_with_crop_feature0 (True)): 0.03s\n",
            "[       OK ] ModelBuilderTF2Test.test_create_faster_rcnn_from_config_with_crop_feature0 (True)\n",
            "[ RUN      ] ModelBuilderTF2Test.test_create_faster_rcnn_from_config_with_crop_feature1 (False)\n",
            "INFO:tensorflow:time(__main__.ModelBuilderTF2Test.test_create_faster_rcnn_from_config_with_crop_feature1 (False)): 0.02s\n",
            "I0710 06:43:20.351193 139921749833536 test_util.py:2462] time(__main__.ModelBuilderTF2Test.test_create_faster_rcnn_from_config_with_crop_feature1 (False)): 0.02s\n",
            "[       OK ] ModelBuilderTF2Test.test_create_faster_rcnn_from_config_with_crop_feature1 (False)\n",
            "[ RUN      ] ModelBuilderTF2Test.test_create_faster_rcnn_model_from_config_with_example_miner\n",
            "INFO:tensorflow:time(__main__.ModelBuilderTF2Test.test_create_faster_rcnn_model_from_config_with_example_miner): 0.02s\n",
            "I0710 06:43:20.369605 139921749833536 test_util.py:2462] time(__main__.ModelBuilderTF2Test.test_create_faster_rcnn_model_from_config_with_example_miner): 0.02s\n",
            "[       OK ] ModelBuilderTF2Test.test_create_faster_rcnn_model_from_config_with_example_miner\n",
            "[ RUN      ] ModelBuilderTF2Test.test_create_faster_rcnn_models_from_config_faster_rcnn_with_matmul\n",
            "INFO:tensorflow:time(__main__.ModelBuilderTF2Test.test_create_faster_rcnn_models_from_config_faster_rcnn_with_matmul): 0.13s\n",
            "I0710 06:43:20.498027 139921749833536 test_util.py:2462] time(__main__.ModelBuilderTF2Test.test_create_faster_rcnn_models_from_config_faster_rcnn_with_matmul): 0.13s\n",
            "[       OK ] ModelBuilderTF2Test.test_create_faster_rcnn_models_from_config_faster_rcnn_with_matmul\n",
            "[ RUN      ] ModelBuilderTF2Test.test_create_faster_rcnn_models_from_config_faster_rcnn_without_matmul\n",
            "INFO:tensorflow:time(__main__.ModelBuilderTF2Test.test_create_faster_rcnn_models_from_config_faster_rcnn_without_matmul): 0.11s\n",
            "I0710 06:43:20.605930 139921749833536 test_util.py:2462] time(__main__.ModelBuilderTF2Test.test_create_faster_rcnn_models_from_config_faster_rcnn_without_matmul): 0.11s\n",
            "[       OK ] ModelBuilderTF2Test.test_create_faster_rcnn_models_from_config_faster_rcnn_without_matmul\n",
            "[ RUN      ] ModelBuilderTF2Test.test_create_faster_rcnn_models_from_config_mask_rcnn_with_matmul\n",
            "INFO:tensorflow:time(__main__.ModelBuilderTF2Test.test_create_faster_rcnn_models_from_config_mask_rcnn_with_matmul): 0.11s\n",
            "I0710 06:43:20.717383 139921749833536 test_util.py:2462] time(__main__.ModelBuilderTF2Test.test_create_faster_rcnn_models_from_config_mask_rcnn_with_matmul): 0.11s\n",
            "[       OK ] ModelBuilderTF2Test.test_create_faster_rcnn_models_from_config_mask_rcnn_with_matmul\n",
            "[ RUN      ] ModelBuilderTF2Test.test_create_faster_rcnn_models_from_config_mask_rcnn_without_matmul\n",
            "INFO:tensorflow:time(__main__.ModelBuilderTF2Test.test_create_faster_rcnn_models_from_config_mask_rcnn_without_matmul): 0.11s\n",
            "I0710 06:43:20.832728 139921749833536 test_util.py:2462] time(__main__.ModelBuilderTF2Test.test_create_faster_rcnn_models_from_config_mask_rcnn_without_matmul): 0.11s\n",
            "[       OK ] ModelBuilderTF2Test.test_create_faster_rcnn_models_from_config_mask_rcnn_without_matmul\n",
            "[ RUN      ] ModelBuilderTF2Test.test_create_rfcn_model_from_config\n",
            "INFO:tensorflow:time(__main__.ModelBuilderTF2Test.test_create_rfcn_model_from_config): 0.11s\n",
            "I0710 06:43:20.941227 139921749833536 test_util.py:2462] time(__main__.ModelBuilderTF2Test.test_create_rfcn_model_from_config): 0.11s\n",
            "[       OK ] ModelBuilderTF2Test.test_create_rfcn_model_from_config\n",
            "[ RUN      ] ModelBuilderTF2Test.test_create_ssd_fpn_model_from_config\n",
            "INFO:tensorflow:time(__main__.ModelBuilderTF2Test.test_create_ssd_fpn_model_from_config): 0.03s\n",
            "I0710 06:43:20.973795 139921749833536 test_util.py:2462] time(__main__.ModelBuilderTF2Test.test_create_ssd_fpn_model_from_config): 0.03s\n",
            "[       OK ] ModelBuilderTF2Test.test_create_ssd_fpn_model_from_config\n",
            "[ RUN      ] ModelBuilderTF2Test.test_create_ssd_models_from_config\n",
            "I0710 06:43:21.180183 139921749833536 ssd_efficientnet_bifpn_feature_extractor.py:150] EfficientDet EfficientNet backbone version: efficientnet-b0\n",
            "I0710 06:43:21.180347 139921749833536 ssd_efficientnet_bifpn_feature_extractor.py:152] EfficientDet BiFPN num filters: 64\n",
            "I0710 06:43:21.180421 139921749833536 ssd_efficientnet_bifpn_feature_extractor.py:153] EfficientDet BiFPN num iterations: 3\n",
            "I0710 06:43:21.183085 139921749833536 efficientnet_model.py:143] round_filter input=32 output=32\n",
            "I0710 06:43:21.216572 139921749833536 efficientnet_model.py:143] round_filter input=32 output=32\n",
            "I0710 06:43:21.216733 139921749833536 efficientnet_model.py:143] round_filter input=16 output=16\n",
            "I0710 06:43:21.302116 139921749833536 efficientnet_model.py:143] round_filter input=16 output=16\n",
            "I0710 06:43:21.302270 139921749833536 efficientnet_model.py:143] round_filter input=24 output=24\n",
            "I0710 06:43:21.514209 139921749833536 efficientnet_model.py:143] round_filter input=24 output=24\n",
            "I0710 06:43:21.514369 139921749833536 efficientnet_model.py:143] round_filter input=40 output=40\n",
            "I0710 06:43:21.730225 139921749833536 efficientnet_model.py:143] round_filter input=40 output=40\n",
            "I0710 06:43:21.730404 139921749833536 efficientnet_model.py:143] round_filter input=80 output=80\n",
            "I0710 06:43:22.037491 139921749833536 efficientnet_model.py:143] round_filter input=80 output=80\n",
            "I0710 06:43:22.037693 139921749833536 efficientnet_model.py:143] round_filter input=112 output=112\n",
            "I0710 06:43:22.347326 139921749833536 efficientnet_model.py:143] round_filter input=112 output=112\n",
            "I0710 06:43:22.347587 139921749833536 efficientnet_model.py:143] round_filter input=192 output=192\n",
            "I0710 06:43:22.741895 139921749833536 efficientnet_model.py:143] round_filter input=192 output=192\n",
            "I0710 06:43:22.742072 139921749833536 efficientnet_model.py:143] round_filter input=320 output=320\n",
            "I0710 06:43:22.840864 139921749833536 efficientnet_model.py:143] round_filter input=1280 output=1280\n",
            "I0710 06:43:22.886922 139921749833536 efficientnet_model.py:453] Building model efficientnet with params ModelConfig(width_coefficient=1.0, depth_coefficient=1.0, resolution=224, dropout_rate=0.2, blocks=(BlockConfig(input_filters=32, output_filters=16, kernel_size=3, num_repeat=1, expand_ratio=1, strides=(1, 1), se_ratio=0.25, id_skip=True, fused_conv=False, conv_type='depthwise'), BlockConfig(input_filters=16, output_filters=24, kernel_size=3, num_repeat=2, expand_ratio=6, strides=(2, 2), se_ratio=0.25, id_skip=True, fused_conv=False, conv_type='depthwise'), BlockConfig(input_filters=24, output_filters=40, kernel_size=5, num_repeat=2, expand_ratio=6, strides=(2, 2), se_ratio=0.25, id_skip=True, fused_conv=False, conv_type='depthwise'), BlockConfig(input_filters=40, output_filters=80, kernel_size=3, num_repeat=3, expand_ratio=6, strides=(2, 2), se_ratio=0.25, id_skip=True, fused_conv=False, conv_type='depthwise'), BlockConfig(input_filters=80, output_filters=112, kernel_size=5, num_repeat=3, expand_ratio=6, strides=(1, 1), se_ratio=0.25, id_skip=True, fused_conv=False, conv_type='depthwise'), BlockConfig(input_filters=112, output_filters=192, kernel_size=5, num_repeat=4, expand_ratio=6, strides=(2, 2), se_ratio=0.25, id_skip=True, fused_conv=False, conv_type='depthwise'), BlockConfig(input_filters=192, output_filters=320, kernel_size=3, num_repeat=1, expand_ratio=6, strides=(1, 1), se_ratio=0.25, id_skip=True, fused_conv=False, conv_type='depthwise')), stem_base_filters=32, top_base_filters=1280, activation='simple_swish', batch_norm='default', bn_momentum=0.99, bn_epsilon=0.001, weight_decay=5e-06, drop_connect_rate=0.2, depth_divisor=8, min_depth=None, use_se=True, input_channels=3, num_classes=1000, model_name='efficientnet', rescale_input=False, data_format='channels_last', dtype='float32')\n",
            "I0710 06:43:22.946471 139921749833536 ssd_efficientnet_bifpn_feature_extractor.py:150] EfficientDet EfficientNet backbone version: efficientnet-b1\n",
            "I0710 06:43:22.946617 139921749833536 ssd_efficientnet_bifpn_feature_extractor.py:152] EfficientDet BiFPN num filters: 88\n",
            "I0710 06:43:22.946688 139921749833536 ssd_efficientnet_bifpn_feature_extractor.py:153] EfficientDet BiFPN num iterations: 4\n",
            "I0710 06:43:22.948539 139921749833536 efficientnet_model.py:143] round_filter input=32 output=32\n",
            "I0710 06:43:22.967438 139921749833536 efficientnet_model.py:143] round_filter input=32 output=32\n",
            "I0710 06:43:22.967555 139921749833536 efficientnet_model.py:143] round_filter input=16 output=16\n",
            "I0710 06:43:23.133361 139921749833536 efficientnet_model.py:143] round_filter input=16 output=16\n",
            "I0710 06:43:23.133526 139921749833536 efficientnet_model.py:143] round_filter input=24 output=24\n",
            "I0710 06:43:23.412720 139921749833536 efficientnet_model.py:143] round_filter input=24 output=24\n",
            "I0710 06:43:23.412901 139921749833536 efficientnet_model.py:143] round_filter input=40 output=40\n",
            "I0710 06:43:23.712474 139921749833536 efficientnet_model.py:143] round_filter input=40 output=40\n",
            "I0710 06:43:23.712633 139921749833536 efficientnet_model.py:143] round_filter input=80 output=80\n",
            "I0710 06:43:24.325595 139921749833536 efficientnet_model.py:143] round_filter input=80 output=80\n",
            "I0710 06:43:24.325775 139921749833536 efficientnet_model.py:143] round_filter input=112 output=112\n",
            "I0710 06:43:24.715204 139921749833536 efficientnet_model.py:143] round_filter input=112 output=112\n",
            "I0710 06:43:24.715378 139921749833536 efficientnet_model.py:143] round_filter input=192 output=192\n",
            "I0710 06:43:25.200720 139921749833536 efficientnet_model.py:143] round_filter input=192 output=192\n",
            "I0710 06:43:25.200915 139921749833536 efficientnet_model.py:143] round_filter input=320 output=320\n",
            "I0710 06:43:25.398460 139921749833536 efficientnet_model.py:143] round_filter input=1280 output=1280\n",
            "I0710 06:43:25.435632 139921749833536 efficientnet_model.py:453] Building model efficientnet with params ModelConfig(width_coefficient=1.0, depth_coefficient=1.1, resolution=240, dropout_rate=0.2, blocks=(BlockConfig(input_filters=32, output_filters=16, kernel_size=3, num_repeat=1, expand_ratio=1, strides=(1, 1), se_ratio=0.25, id_skip=True, fused_conv=False, conv_type='depthwise'), BlockConfig(input_filters=16, output_filters=24, kernel_size=3, num_repeat=2, expand_ratio=6, strides=(2, 2), se_ratio=0.25, id_skip=True, fused_conv=False, conv_type='depthwise'), BlockConfig(input_filters=24, output_filters=40, kernel_size=5, num_repeat=2, expand_ratio=6, strides=(2, 2), se_ratio=0.25, id_skip=True, fused_conv=False, conv_type='depthwise'), BlockConfig(input_filters=40, output_filters=80, kernel_size=3, num_repeat=3, expand_ratio=6, strides=(2, 2), se_ratio=0.25, id_skip=True, fused_conv=False, conv_type='depthwise'), BlockConfig(input_filters=80, output_filters=112, kernel_size=5, num_repeat=3, expand_ratio=6, strides=(1, 1), se_ratio=0.25, id_skip=True, fused_conv=False, conv_type='depthwise'), BlockConfig(input_filters=112, output_filters=192, kernel_size=5, num_repeat=4, expand_ratio=6, strides=(2, 2), se_ratio=0.25, id_skip=True, fused_conv=False, conv_type='depthwise'), BlockConfig(input_filters=192, output_filters=320, kernel_size=3, num_repeat=1, expand_ratio=6, strides=(1, 1), se_ratio=0.25, id_skip=True, fused_conv=False, conv_type='depthwise')), stem_base_filters=32, top_base_filters=1280, activation='simple_swish', batch_norm='default', bn_momentum=0.99, bn_epsilon=0.001, weight_decay=5e-06, drop_connect_rate=0.2, depth_divisor=8, min_depth=None, use_se=True, input_channels=3, num_classes=1000, model_name='efficientnet', rescale_input=False, data_format='channels_last', dtype='float32')\n",
            "I0710 06:43:25.508225 139921749833536 ssd_efficientnet_bifpn_feature_extractor.py:150] EfficientDet EfficientNet backbone version: efficientnet-b2\n",
            "I0710 06:43:25.508394 139921749833536 ssd_efficientnet_bifpn_feature_extractor.py:152] EfficientDet BiFPN num filters: 112\n",
            "I0710 06:43:25.508465 139921749833536 ssd_efficientnet_bifpn_feature_extractor.py:153] EfficientDet BiFPN num iterations: 5\n",
            "I0710 06:43:25.510407 139921749833536 efficientnet_model.py:143] round_filter input=32 output=32\n",
            "I0710 06:43:25.530186 139921749833536 efficientnet_model.py:143] round_filter input=32 output=32\n",
            "I0710 06:43:25.530303 139921749833536 efficientnet_model.py:143] round_filter input=16 output=16\n",
            "I0710 06:43:25.691735 139921749833536 efficientnet_model.py:143] round_filter input=16 output=16\n",
            "I0710 06:43:25.691939 139921749833536 efficientnet_model.py:143] round_filter input=24 output=24\n",
            "I0710 06:43:25.997882 139921749833536 efficientnet_model.py:143] round_filter input=24 output=24\n",
            "I0710 06:43:25.998069 139921749833536 efficientnet_model.py:143] round_filter input=40 output=48\n",
            "I0710 06:43:26.297932 139921749833536 efficientnet_model.py:143] round_filter input=40 output=48\n",
            "I0710 06:43:26.298092 139921749833536 efficientnet_model.py:143] round_filter input=80 output=88\n",
            "I0710 06:43:26.698065 139921749833536 efficientnet_model.py:143] round_filter input=80 output=88\n",
            "I0710 06:43:26.698240 139921749833536 efficientnet_model.py:143] round_filter input=112 output=120\n",
            "I0710 06:43:27.079541 139921749833536 efficientnet_model.py:143] round_filter input=112 output=120\n",
            "I0710 06:43:27.079701 139921749833536 efficientnet_model.py:143] round_filter input=192 output=208\n",
            "I0710 06:43:27.588304 139921749833536 efficientnet_model.py:143] round_filter input=192 output=208\n",
            "I0710 06:43:27.588475 139921749833536 efficientnet_model.py:143] round_filter input=320 output=352\n",
            "I0710 06:43:27.794429 139921749833536 efficientnet_model.py:143] round_filter input=1280 output=1408\n",
            "I0710 06:43:27.839797 139921749833536 efficientnet_model.py:453] Building model efficientnet with params ModelConfig(width_coefficient=1.1, depth_coefficient=1.2, resolution=260, dropout_rate=0.3, blocks=(BlockConfig(input_filters=32, output_filters=16, kernel_size=3, num_repeat=1, expand_ratio=1, strides=(1, 1), se_ratio=0.25, id_skip=True, fused_conv=False, conv_type='depthwise'), BlockConfig(input_filters=16, output_filters=24, kernel_size=3, num_repeat=2, expand_ratio=6, strides=(2, 2), se_ratio=0.25, id_skip=True, fused_conv=False, conv_type='depthwise'), BlockConfig(input_filters=24, output_filters=40, kernel_size=5, num_repeat=2, expand_ratio=6, strides=(2, 2), se_ratio=0.25, id_skip=True, fused_conv=False, conv_type='depthwise'), BlockConfig(input_filters=40, output_filters=80, kernel_size=3, num_repeat=3, expand_ratio=6, strides=(2, 2), se_ratio=0.25, id_skip=True, fused_conv=False, conv_type='depthwise'), BlockConfig(input_filters=80, output_filters=112, kernel_size=5, num_repeat=3, expand_ratio=6, strides=(1, 1), se_ratio=0.25, id_skip=True, fused_conv=False, conv_type='depthwise'), BlockConfig(input_filters=112, output_filters=192, kernel_size=5, num_repeat=4, expand_ratio=6, strides=(2, 2), se_ratio=0.25, id_skip=True, fused_conv=False, conv_type='depthwise'), BlockConfig(input_filters=192, output_filters=320, kernel_size=3, num_repeat=1, expand_ratio=6, strides=(1, 1), se_ratio=0.25, id_skip=True, fused_conv=False, conv_type='depthwise')), stem_base_filters=32, top_base_filters=1280, activation='simple_swish', batch_norm='default', bn_momentum=0.99, bn_epsilon=0.001, weight_decay=5e-06, drop_connect_rate=0.2, depth_divisor=8, min_depth=None, use_se=True, input_channels=3, num_classes=1000, model_name='efficientnet', rescale_input=False, data_format='channels_last', dtype='float32')\n",
            "I0710 06:43:27.914773 139921749833536 ssd_efficientnet_bifpn_feature_extractor.py:150] EfficientDet EfficientNet backbone version: efficientnet-b3\n",
            "I0710 06:43:27.914937 139921749833536 ssd_efficientnet_bifpn_feature_extractor.py:152] EfficientDet BiFPN num filters: 160\n",
            "I0710 06:43:27.915007 139921749833536 ssd_efficientnet_bifpn_feature_extractor.py:153] EfficientDet BiFPN num iterations: 6\n",
            "I0710 06:43:27.916931 139921749833536 efficientnet_model.py:143] round_filter input=32 output=40\n",
            "I0710 06:43:27.939922 139921749833536 efficientnet_model.py:143] round_filter input=32 output=40\n",
            "I0710 06:43:27.940057 139921749833536 efficientnet_model.py:143] round_filter input=16 output=24\n",
            "I0710 06:43:28.111797 139921749833536 efficientnet_model.py:143] round_filter input=16 output=24\n",
            "I0710 06:43:28.111960 139921749833536 efficientnet_model.py:143] round_filter input=24 output=32\n",
            "I0710 06:43:28.444833 139921749833536 efficientnet_model.py:143] round_filter input=24 output=32\n",
            "I0710 06:43:28.444996 139921749833536 efficientnet_model.py:143] round_filter input=40 output=48\n",
            "I0710 06:43:28.754149 139921749833536 efficientnet_model.py:143] round_filter input=40 output=48\n",
            "I0710 06:43:28.754321 139921749833536 efficientnet_model.py:143] round_filter input=80 output=96\n",
            "I0710 06:43:29.290653 139921749833536 efficientnet_model.py:143] round_filter input=80 output=96\n",
            "I0710 06:43:29.290844 139921749833536 efficientnet_model.py:143] round_filter input=112 output=136\n",
            "I0710 06:43:29.985373 139921749833536 efficientnet_model.py:143] round_filter input=112 output=136\n",
            "I0710 06:43:29.985579 139921749833536 efficientnet_model.py:143] round_filter input=192 output=232\n",
            "I0710 06:43:30.838109 139921749833536 efficientnet_model.py:143] round_filter input=192 output=232\n",
            "I0710 06:43:30.838309 139921749833536 efficientnet_model.py:143] round_filter input=320 output=384\n",
            "I0710 06:43:31.125892 139921749833536 efficientnet_model.py:143] round_filter input=1280 output=1536\n",
            "I0710 06:43:31.190029 139921749833536 efficientnet_model.py:453] Building model efficientnet with params ModelConfig(width_coefficient=1.2, depth_coefficient=1.4, resolution=300, dropout_rate=0.3, blocks=(BlockConfig(input_filters=32, output_filters=16, kernel_size=3, num_repeat=1, expand_ratio=1, strides=(1, 1), se_ratio=0.25, id_skip=True, fused_conv=False, conv_type='depthwise'), BlockConfig(input_filters=16, output_filters=24, kernel_size=3, num_repeat=2, expand_ratio=6, strides=(2, 2), se_ratio=0.25, id_skip=True, fused_conv=False, conv_type='depthwise'), BlockConfig(input_filters=24, output_filters=40, kernel_size=5, num_repeat=2, expand_ratio=6, strides=(2, 2), se_ratio=0.25, id_skip=True, fused_conv=False, conv_type='depthwise'), BlockConfig(input_filters=40, output_filters=80, kernel_size=3, num_repeat=3, expand_ratio=6, strides=(2, 2), se_ratio=0.25, id_skip=True, fused_conv=False, conv_type='depthwise'), BlockConfig(input_filters=80, output_filters=112, kernel_size=5, num_repeat=3, expand_ratio=6, strides=(1, 1), se_ratio=0.25, id_skip=True, fused_conv=False, conv_type='depthwise'), BlockConfig(input_filters=112, output_filters=192, kernel_size=5, num_repeat=4, expand_ratio=6, strides=(2, 2), se_ratio=0.25, id_skip=True, fused_conv=False, conv_type='depthwise'), BlockConfig(input_filters=192, output_filters=320, kernel_size=3, num_repeat=1, expand_ratio=6, strides=(1, 1), se_ratio=0.25, id_skip=True, fused_conv=False, conv_type='depthwise')), stem_base_filters=32, top_base_filters=1280, activation='simple_swish', batch_norm='default', bn_momentum=0.99, bn_epsilon=0.001, weight_decay=5e-06, drop_connect_rate=0.2, depth_divisor=8, min_depth=None, use_se=True, input_channels=3, num_classes=1000, model_name='efficientnet', rescale_input=False, data_format='channels_last', dtype='float32')\n",
            "I0710 06:43:31.318111 139921749833536 ssd_efficientnet_bifpn_feature_extractor.py:150] EfficientDet EfficientNet backbone version: efficientnet-b4\n",
            "I0710 06:43:31.318320 139921749833536 ssd_efficientnet_bifpn_feature_extractor.py:152] EfficientDet BiFPN num filters: 224\n",
            "I0710 06:43:31.318410 139921749833536 ssd_efficientnet_bifpn_feature_extractor.py:153] EfficientDet BiFPN num iterations: 7\n",
            "I0710 06:43:31.321339 139921749833536 efficientnet_model.py:143] round_filter input=32 output=48\n",
            "I0710 06:43:31.357647 139921749833536 efficientnet_model.py:143] round_filter input=32 output=48\n",
            "I0710 06:43:31.358133 139921749833536 efficientnet_model.py:143] round_filter input=16 output=24\n",
            "I0710 06:43:31.578502 139921749833536 efficientnet_model.py:143] round_filter input=16 output=24\n",
            "I0710 06:43:31.578696 139921749833536 efficientnet_model.py:143] round_filter input=24 output=32\n",
            "I0710 06:43:32.118450 139921749833536 efficientnet_model.py:143] round_filter input=24 output=32\n",
            "I0710 06:43:32.118660 139921749833536 efficientnet_model.py:143] round_filter input=40 output=56\n",
            "I0710 06:43:32.699830 139921749833536 efficientnet_model.py:143] round_filter input=40 output=56\n",
            "I0710 06:43:32.700034 139921749833536 efficientnet_model.py:143] round_filter input=80 output=112\n",
            "I0710 06:43:33.930382 139921749833536 efficientnet_model.py:143] round_filter input=80 output=112\n",
            "I0710 06:43:33.930587 139921749833536 efficientnet_model.py:143] round_filter input=112 output=160\n",
            "I0710 06:43:34.850383 139921749833536 efficientnet_model.py:143] round_filter input=112 output=160\n",
            "I0710 06:43:34.850621 139921749833536 efficientnet_model.py:143] round_filter input=192 output=272\n",
            "I0710 06:43:36.077092 139921749833536 efficientnet_model.py:143] round_filter input=192 output=272\n",
            "I0710 06:43:36.077315 139921749833536 efficientnet_model.py:143] round_filter input=320 output=448\n",
            "I0710 06:43:36.398015 139921749833536 efficientnet_model.py:143] round_filter input=1280 output=1792\n",
            "I0710 06:43:36.464335 139921749833536 efficientnet_model.py:453] Building model efficientnet with params ModelConfig(width_coefficient=1.4, depth_coefficient=1.8, resolution=380, dropout_rate=0.4, blocks=(BlockConfig(input_filters=32, output_filters=16, kernel_size=3, num_repeat=1, expand_ratio=1, strides=(1, 1), se_ratio=0.25, id_skip=True, fused_conv=False, conv_type='depthwise'), BlockConfig(input_filters=16, output_filters=24, kernel_size=3, num_repeat=2, expand_ratio=6, strides=(2, 2), se_ratio=0.25, id_skip=True, fused_conv=False, conv_type='depthwise'), BlockConfig(input_filters=24, output_filters=40, kernel_size=5, num_repeat=2, expand_ratio=6, strides=(2, 2), se_ratio=0.25, id_skip=True, fused_conv=False, conv_type='depthwise'), BlockConfig(input_filters=40, output_filters=80, kernel_size=3, num_repeat=3, expand_ratio=6, strides=(2, 2), se_ratio=0.25, id_skip=True, fused_conv=False, conv_type='depthwise'), BlockConfig(input_filters=80, output_filters=112, kernel_size=5, num_repeat=3, expand_ratio=6, strides=(1, 1), se_ratio=0.25, id_skip=True, fused_conv=False, conv_type='depthwise'), BlockConfig(input_filters=112, output_filters=192, kernel_size=5, num_repeat=4, expand_ratio=6, strides=(2, 2), se_ratio=0.25, id_skip=True, fused_conv=False, conv_type='depthwise'), BlockConfig(input_filters=192, output_filters=320, kernel_size=3, num_repeat=1, expand_ratio=6, strides=(1, 1), se_ratio=0.25, id_skip=True, fused_conv=False, conv_type='depthwise')), stem_base_filters=32, top_base_filters=1280, activation='simple_swish', batch_norm='default', bn_momentum=0.99, bn_epsilon=0.001, weight_decay=5e-06, drop_connect_rate=0.2, depth_divisor=8, min_depth=None, use_se=True, input_channels=3, num_classes=1000, model_name='efficientnet', rescale_input=False, data_format='channels_last', dtype='float32')\n",
            "I0710 06:43:36.605799 139921749833536 ssd_efficientnet_bifpn_feature_extractor.py:150] EfficientDet EfficientNet backbone version: efficientnet-b5\n",
            "I0710 06:43:36.606011 139921749833536 ssd_efficientnet_bifpn_feature_extractor.py:152] EfficientDet BiFPN num filters: 288\n",
            "I0710 06:43:36.606114 139921749833536 ssd_efficientnet_bifpn_feature_extractor.py:153] EfficientDet BiFPN num iterations: 7\n",
            "I0710 06:43:36.609466 139921749833536 efficientnet_model.py:143] round_filter input=32 output=48\n",
            "I0710 06:43:36.640276 139921749833536 efficientnet_model.py:143] round_filter input=32 output=48\n",
            "I0710 06:43:36.640455 139921749833536 efficientnet_model.py:143] round_filter input=16 output=24\n",
            "I0710 06:43:36.999567 139921749833536 efficientnet_model.py:143] round_filter input=16 output=24\n",
            "I0710 06:43:36.999792 139921749833536 efficientnet_model.py:143] round_filter input=24 output=40\n",
            "I0710 06:43:37.738940 139921749833536 efficientnet_model.py:143] round_filter input=24 output=40\n",
            "I0710 06:43:37.739146 139921749833536 efficientnet_model.py:143] round_filter input=40 output=64\n",
            "I0710 06:43:38.505447 139921749833536 efficientnet_model.py:143] round_filter input=40 output=64\n",
            "I0710 06:43:38.505645 139921749833536 efficientnet_model.py:143] round_filter input=80 output=128\n",
            "I0710 06:43:39.568069 139921749833536 efficientnet_model.py:143] round_filter input=80 output=128\n",
            "I0710 06:43:39.568288 139921749833536 efficientnet_model.py:143] round_filter input=112 output=176\n",
            "I0710 06:43:40.662089 139921749833536 efficientnet_model.py:143] round_filter input=112 output=176\n",
            "I0710 06:43:40.662298 139921749833536 efficientnet_model.py:143] round_filter input=192 output=304\n",
            "I0710 06:43:42.022626 139921749833536 efficientnet_model.py:143] round_filter input=192 output=304\n",
            "I0710 06:43:42.022853 139921749833536 efficientnet_model.py:143] round_filter input=320 output=512\n",
            "I0710 06:43:42.492937 139921749833536 efficientnet_model.py:143] round_filter input=1280 output=2048\n",
            "I0710 06:43:42.555368 139921749833536 efficientnet_model.py:453] Building model efficientnet with params ModelConfig(width_coefficient=1.6, depth_coefficient=2.2, resolution=456, dropout_rate=0.4, blocks=(BlockConfig(input_filters=32, output_filters=16, kernel_size=3, num_repeat=1, expand_ratio=1, strides=(1, 1), se_ratio=0.25, id_skip=True, fused_conv=False, conv_type='depthwise'), BlockConfig(input_filters=16, output_filters=24, kernel_size=3, num_repeat=2, expand_ratio=6, strides=(2, 2), se_ratio=0.25, id_skip=True, fused_conv=False, conv_type='depthwise'), BlockConfig(input_filters=24, output_filters=40, kernel_size=5, num_repeat=2, expand_ratio=6, strides=(2, 2), se_ratio=0.25, id_skip=True, fused_conv=False, conv_type='depthwise'), BlockConfig(input_filters=40, output_filters=80, kernel_size=3, num_repeat=3, expand_ratio=6, strides=(2, 2), se_ratio=0.25, id_skip=True, fused_conv=False, conv_type='depthwise'), BlockConfig(input_filters=80, output_filters=112, kernel_size=5, num_repeat=3, expand_ratio=6, strides=(1, 1), se_ratio=0.25, id_skip=True, fused_conv=False, conv_type='depthwise'), BlockConfig(input_filters=112, output_filters=192, kernel_size=5, num_repeat=4, expand_ratio=6, strides=(2, 2), se_ratio=0.25, id_skip=True, fused_conv=False, conv_type='depthwise'), BlockConfig(input_filters=192, output_filters=320, kernel_size=3, num_repeat=1, expand_ratio=6, strides=(1, 1), se_ratio=0.25, id_skip=True, fused_conv=False, conv_type='depthwise')), stem_base_filters=32, top_base_filters=1280, activation='simple_swish', batch_norm='default', bn_momentum=0.99, bn_epsilon=0.001, weight_decay=5e-06, drop_connect_rate=0.2, depth_divisor=8, min_depth=None, use_se=True, input_channels=3, num_classes=1000, model_name='efficientnet', rescale_input=False, data_format='channels_last', dtype='float32')\n",
            "I0710 06:43:42.706315 139921749833536 ssd_efficientnet_bifpn_feature_extractor.py:150] EfficientDet EfficientNet backbone version: efficientnet-b6\n",
            "I0710 06:43:42.706495 139921749833536 ssd_efficientnet_bifpn_feature_extractor.py:152] EfficientDet BiFPN num filters: 384\n",
            "I0710 06:43:42.706584 139921749833536 ssd_efficientnet_bifpn_feature_extractor.py:153] EfficientDet BiFPN num iterations: 8\n",
            "I0710 06:43:42.708671 139921749833536 efficientnet_model.py:143] round_filter input=32 output=56\n",
            "I0710 06:43:42.731215 139921749833536 efficientnet_model.py:143] round_filter input=32 output=56\n",
            "I0710 06:43:42.731346 139921749833536 efficientnet_model.py:143] round_filter input=16 output=32\n",
            "I0710 06:43:42.968717 139921749833536 efficientnet_model.py:143] round_filter input=16 output=32\n",
            "I0710 06:43:42.968904 139921749833536 efficientnet_model.py:143] round_filter input=24 output=40\n",
            "I0710 06:43:43.560381 139921749833536 efficientnet_model.py:143] round_filter input=24 output=40\n",
            "I0710 06:43:43.560552 139921749833536 efficientnet_model.py:143] round_filter input=40 output=72\n",
            "I0710 06:43:44.167061 139921749833536 efficientnet_model.py:143] round_filter input=40 output=72\n",
            "I0710 06:43:44.167256 139921749833536 efficientnet_model.py:143] round_filter input=80 output=144\n",
            "I0710 06:43:45.247917 139921749833536 efficientnet_model.py:143] round_filter input=80 output=144\n",
            "I0710 06:43:45.248123 139921749833536 efficientnet_model.py:143] round_filter input=112 output=200\n",
            "I0710 06:43:46.081653 139921749833536 efficientnet_model.py:143] round_filter input=112 output=200\n",
            "I0710 06:43:46.081836 139921749833536 efficientnet_model.py:143] round_filter input=192 output=344\n",
            "I0710 06:43:47.200093 139921749833536 efficientnet_model.py:143] round_filter input=192 output=344\n",
            "I0710 06:43:47.200263 139921749833536 efficientnet_model.py:143] round_filter input=320 output=576\n",
            "I0710 06:43:47.498261 139921749833536 efficientnet_model.py:143] round_filter input=1280 output=2304\n",
            "I0710 06:43:47.536995 139921749833536 efficientnet_model.py:453] Building model efficientnet with params ModelConfig(width_coefficient=1.8, depth_coefficient=2.6, resolution=528, dropout_rate=0.5, blocks=(BlockConfig(input_filters=32, output_filters=16, kernel_size=3, num_repeat=1, expand_ratio=1, strides=(1, 1), se_ratio=0.25, id_skip=True, fused_conv=False, conv_type='depthwise'), BlockConfig(input_filters=16, output_filters=24, kernel_size=3, num_repeat=2, expand_ratio=6, strides=(2, 2), se_ratio=0.25, id_skip=True, fused_conv=False, conv_type='depthwise'), BlockConfig(input_filters=24, output_filters=40, kernel_size=5, num_repeat=2, expand_ratio=6, strides=(2, 2), se_ratio=0.25, id_skip=True, fused_conv=False, conv_type='depthwise'), BlockConfig(input_filters=40, output_filters=80, kernel_size=3, num_repeat=3, expand_ratio=6, strides=(2, 2), se_ratio=0.25, id_skip=True, fused_conv=False, conv_type='depthwise'), BlockConfig(input_filters=80, output_filters=112, kernel_size=5, num_repeat=3, expand_ratio=6, strides=(1, 1), se_ratio=0.25, id_skip=True, fused_conv=False, conv_type='depthwise'), BlockConfig(input_filters=112, output_filters=192, kernel_size=5, num_repeat=4, expand_ratio=6, strides=(2, 2), se_ratio=0.25, id_skip=True, fused_conv=False, conv_type='depthwise'), BlockConfig(input_filters=192, output_filters=320, kernel_size=3, num_repeat=1, expand_ratio=6, strides=(1, 1), se_ratio=0.25, id_skip=True, fused_conv=False, conv_type='depthwise')), stem_base_filters=32, top_base_filters=1280, activation='simple_swish', batch_norm='default', bn_momentum=0.99, bn_epsilon=0.001, weight_decay=5e-06, drop_connect_rate=0.2, depth_divisor=8, min_depth=None, use_se=True, input_channels=3, num_classes=1000, model_name='efficientnet', rescale_input=False, data_format='channels_last', dtype='float32')\n",
            "I0710 06:43:47.638775 139921749833536 ssd_efficientnet_bifpn_feature_extractor.py:150] EfficientDet EfficientNet backbone version: efficientnet-b7\n",
            "I0710 06:43:47.638940 139921749833536 ssd_efficientnet_bifpn_feature_extractor.py:152] EfficientDet BiFPN num filters: 384\n",
            "I0710 06:43:47.639013 139921749833536 ssd_efficientnet_bifpn_feature_extractor.py:153] EfficientDet BiFPN num iterations: 8\n",
            "I0710 06:43:47.641000 139921749833536 efficientnet_model.py:143] round_filter input=32 output=64\n",
            "I0710 06:43:47.663450 139921749833536 efficientnet_model.py:143] round_filter input=32 output=64\n",
            "I0710 06:43:47.663564 139921749833536 efficientnet_model.py:143] round_filter input=16 output=32\n",
            "I0710 06:43:47.984767 139921749833536 efficientnet_model.py:143] round_filter input=16 output=32\n",
            "I0710 06:43:47.984945 139921749833536 efficientnet_model.py:143] round_filter input=24 output=48\n",
            "I0710 06:43:48.659889 139921749833536 efficientnet_model.py:143] round_filter input=24 output=48\n",
            "I0710 06:43:48.660051 139921749833536 efficientnet_model.py:143] round_filter input=40 output=80\n",
            "I0710 06:43:49.323952 139921749833536 efficientnet_model.py:143] round_filter input=40 output=80\n",
            "I0710 06:43:49.324115 139921749833536 efficientnet_model.py:143] round_filter input=80 output=160\n",
            "I0710 06:43:50.267586 139921749833536 efficientnet_model.py:143] round_filter input=80 output=160\n",
            "I0710 06:43:50.267758 139921749833536 efficientnet_model.py:143] round_filter input=112 output=224\n",
            "I0710 06:43:51.220501 139921749833536 efficientnet_model.py:143] round_filter input=112 output=224\n",
            "I0710 06:43:51.220670 139921749833536 efficientnet_model.py:143] round_filter input=192 output=384\n",
            "I0710 06:43:52.480154 139921749833536 efficientnet_model.py:143] round_filter input=192 output=384\n",
            "I0710 06:43:52.480325 139921749833536 efficientnet_model.py:143] round_filter input=320 output=640\n",
            "I0710 06:43:52.982070 139921749833536 efficientnet_model.py:143] round_filter input=1280 output=2560\n",
            "I0710 06:43:53.041378 139921749833536 efficientnet_model.py:453] Building model efficientnet with params ModelConfig(width_coefficient=2.0, depth_coefficient=3.1, resolution=600, dropout_rate=0.5, blocks=(BlockConfig(input_filters=32, output_filters=16, kernel_size=3, num_repeat=1, expand_ratio=1, strides=(1, 1), se_ratio=0.25, id_skip=True, fused_conv=False, conv_type='depthwise'), BlockConfig(input_filters=16, output_filters=24, kernel_size=3, num_repeat=2, expand_ratio=6, strides=(2, 2), se_ratio=0.25, id_skip=True, fused_conv=False, conv_type='depthwise'), BlockConfig(input_filters=24, output_filters=40, kernel_size=5, num_repeat=2, expand_ratio=6, strides=(2, 2), se_ratio=0.25, id_skip=True, fused_conv=False, conv_type='depthwise'), BlockConfig(input_filters=40, output_filters=80, kernel_size=3, num_repeat=3, expand_ratio=6, strides=(2, 2), se_ratio=0.25, id_skip=True, fused_conv=False, conv_type='depthwise'), BlockConfig(input_filters=80, output_filters=112, kernel_size=5, num_repeat=3, expand_ratio=6, strides=(1, 1), se_ratio=0.25, id_skip=True, fused_conv=False, conv_type='depthwise'), BlockConfig(input_filters=112, output_filters=192, kernel_size=5, num_repeat=4, expand_ratio=6, strides=(2, 2), se_ratio=0.25, id_skip=True, fused_conv=False, conv_type='depthwise'), BlockConfig(input_filters=192, output_filters=320, kernel_size=3, num_repeat=1, expand_ratio=6, strides=(1, 1), se_ratio=0.25, id_skip=True, fused_conv=False, conv_type='depthwise')), stem_base_filters=32, top_base_filters=1280, activation='simple_swish', batch_norm='default', bn_momentum=0.99, bn_epsilon=0.001, weight_decay=5e-06, drop_connect_rate=0.2, depth_divisor=8, min_depth=None, use_se=True, input_channels=3, num_classes=1000, model_name='efficientnet', rescale_input=False, data_format='channels_last', dtype='float32')\n",
            "INFO:tensorflow:time(__main__.ModelBuilderTF2Test.test_create_ssd_models_from_config): 32.3s\n",
            "I0710 06:43:53.271931 139921749833536 test_util.py:2462] time(__main__.ModelBuilderTF2Test.test_create_ssd_models_from_config): 32.3s\n",
            "[       OK ] ModelBuilderTF2Test.test_create_ssd_models_from_config\n",
            "[ RUN      ] ModelBuilderTF2Test.test_invalid_faster_rcnn_batchnorm_update\n",
            "INFO:tensorflow:time(__main__.ModelBuilderTF2Test.test_invalid_faster_rcnn_batchnorm_update): 0.0s\n",
            "I0710 06:43:53.307733 139921749833536 test_util.py:2462] time(__main__.ModelBuilderTF2Test.test_invalid_faster_rcnn_batchnorm_update): 0.0s\n",
            "[       OK ] ModelBuilderTF2Test.test_invalid_faster_rcnn_batchnorm_update\n",
            "[ RUN      ] ModelBuilderTF2Test.test_invalid_first_stage_nms_iou_threshold\n",
            "INFO:tensorflow:time(__main__.ModelBuilderTF2Test.test_invalid_first_stage_nms_iou_threshold): 0.0s\n",
            "I0710 06:43:53.310199 139921749833536 test_util.py:2462] time(__main__.ModelBuilderTF2Test.test_invalid_first_stage_nms_iou_threshold): 0.0s\n",
            "[       OK ] ModelBuilderTF2Test.test_invalid_first_stage_nms_iou_threshold\n",
            "[ RUN      ] ModelBuilderTF2Test.test_invalid_model_config_proto\n",
            "INFO:tensorflow:time(__main__.ModelBuilderTF2Test.test_invalid_model_config_proto): 0.0s\n",
            "I0710 06:43:53.310852 139921749833536 test_util.py:2462] time(__main__.ModelBuilderTF2Test.test_invalid_model_config_proto): 0.0s\n",
            "[       OK ] ModelBuilderTF2Test.test_invalid_model_config_proto\n",
            "[ RUN      ] ModelBuilderTF2Test.test_invalid_second_stage_batch_size\n",
            "INFO:tensorflow:time(__main__.ModelBuilderTF2Test.test_invalid_second_stage_batch_size): 0.0s\n",
            "I0710 06:43:53.313035 139921749833536 test_util.py:2462] time(__main__.ModelBuilderTF2Test.test_invalid_second_stage_batch_size): 0.0s\n",
            "[       OK ] ModelBuilderTF2Test.test_invalid_second_stage_batch_size\n",
            "[ RUN      ] ModelBuilderTF2Test.test_session\n",
            "[  SKIPPED ] ModelBuilderTF2Test.test_session\n",
            "[ RUN      ] ModelBuilderTF2Test.test_unknown_faster_rcnn_feature_extractor\n",
            "INFO:tensorflow:time(__main__.ModelBuilderTF2Test.test_unknown_faster_rcnn_feature_extractor): 0.0s\n",
            "I0710 06:43:53.314955 139921749833536 test_util.py:2462] time(__main__.ModelBuilderTF2Test.test_unknown_faster_rcnn_feature_extractor): 0.0s\n",
            "[       OK ] ModelBuilderTF2Test.test_unknown_faster_rcnn_feature_extractor\n",
            "[ RUN      ] ModelBuilderTF2Test.test_unknown_meta_architecture\n",
            "INFO:tensorflow:time(__main__.ModelBuilderTF2Test.test_unknown_meta_architecture): 0.0s\n",
            "I0710 06:43:53.315482 139921749833536 test_util.py:2462] time(__main__.ModelBuilderTF2Test.test_unknown_meta_architecture): 0.0s\n",
            "[       OK ] ModelBuilderTF2Test.test_unknown_meta_architecture\n",
            "[ RUN      ] ModelBuilderTF2Test.test_unknown_ssd_feature_extractor\n",
            "INFO:tensorflow:time(__main__.ModelBuilderTF2Test.test_unknown_ssd_feature_extractor): 0.0s\n",
            "I0710 06:43:53.316924 139921749833536 test_util.py:2462] time(__main__.ModelBuilderTF2Test.test_unknown_ssd_feature_extractor): 0.0s\n",
            "[       OK ] ModelBuilderTF2Test.test_unknown_ssd_feature_extractor\n",
            "----------------------------------------------------------------------\n",
            "Ran 24 tests in 40.645s\n",
            "\n",
            "OK (skipped=1)\n"
          ]
        }
      ],
      "source": [
        "VERIFICATION_SCRIPT = os.path.join(paths['APIMODEL_PATH'], 'research', 'object_detection', 'builders', 'model_builder_tf2_test.py')\n",
        "# Verify Installation\n",
        "!python {VERIFICATION_SCRIPT}"
      ]
    },
    {
      "cell_type": "code",
      "execution_count": 14,
      "metadata": {
        "id": "OC6YXi8roodo",
        "outputId": "f5b98732-9266-4208-af51-e64eff2b7e91",
        "colab": {
          "base_uri": "https://localhost:8080/"
        }
      },
      "outputs": [
        {
          "output_type": "stream",
          "name": "stdout",
          "text": [
            "\u001b[31mERROR: Could not find a version that satisfies the requirement tensorflow==2.4.1 (from versions: 2.8.0rc0, 2.8.0rc1, 2.8.0, 2.8.1, 2.8.2, 2.8.3, 2.8.4, 2.9.0rc0, 2.9.0rc1, 2.9.0rc2, 2.9.0, 2.9.1, 2.9.2, 2.9.3, 2.10.0rc0, 2.10.0rc1, 2.10.0rc2, 2.10.0rc3, 2.10.0, 2.10.1, 2.11.0rc0, 2.11.0rc1, 2.11.0rc2, 2.11.0, 2.11.1, 2.12.0rc0, 2.12.0rc1, 2.12.0, 2.12.1, 2.13.0rc0, 2.13.0rc1, 2.13.0rc2, 2.13.0)\u001b[0m\u001b[31m\n",
            "\u001b[0m\u001b[31mERROR: No matching distribution found for tensorflow==2.4.1\u001b[0m\u001b[31m\n",
            "\u001b[0m"
          ]
        }
      ],
      "source": [
        "!pip install tensorflow==2.4.1 tensorflow-gpu==2.4.1 --upgrade"
      ]
    },
    {
      "cell_type": "code",
      "execution_count": null,
      "metadata": {
        "id": "d0URSy9voodo"
      },
      "outputs": [],
      "source": [
        "!pip uninstall protobuf matplotlib -y\n",
        "!pip install protobuf matplotlib==3.2"
      ]
    },
    {
      "cell_type": "code",
      "execution_count": null,
      "metadata": {
        "id": "NVHgj_3foodo"
      },
      "outputs": [],
      "source": [
        "!pip install Pillow"
      ]
    },
    {
      "cell_type": "code",
      "execution_count": null,
      "metadata": {
        "id": "oEZbSMXUoodo"
      },
      "outputs": [],
      "source": [
        "!pip install pyyaml"
      ]
    },
    {
      "cell_type": "code",
      "execution_count": null,
      "metadata": {
        "id": "cUiWF6O9oodo"
      },
      "outputs": [],
      "source": [
        "!pip list"
      ]
    },
    {
      "cell_type": "code",
      "execution_count": 15,
      "metadata": {
        "id": "vgs3zzNdoodo"
      },
      "outputs": [],
      "source": [
        "import object_detection"
      ]
    },
    {
      "cell_type": "code",
      "execution_count": 16,
      "metadata": {
        "colab": {
          "base_uri": "https://localhost:8080/"
        },
        "id": "csofht2npfDE",
        "outputId": "4a5c98a1-1b5f-4a57-96c3-326d4bda4f1f"
      },
      "outputs": [
        {
          "output_type": "stream",
          "name": "stdout",
          "text": [
            "--2023-07-10 06:44:26--  http://download.tensorflow.org/models/object_detection/tf2/20200711/ssd_mobilenet_v2_fpnlite_320x320_coco17_tpu-8.tar.gz\n",
            "Resolving download.tensorflow.org (download.tensorflow.org)... 108.177.126.128, 2a00:1450:4013:c01::80\n",
            "Connecting to download.tensorflow.org (download.tensorflow.org)|108.177.126.128|:80... connected.\n",
            "HTTP request sent, awaiting response... 200 OK\n",
            "Length: 20515344 (20M) [application/x-tar]\n",
            "Saving to: ‘ssd_mobilenet_v2_fpnlite_320x320_coco17_tpu-8.tar.gz’\n",
            "\n",
            "ssd_mobilenet_v2_fp 100%[===================>]  19.56M  24.0MB/s    in 0.8s    \n",
            "\n",
            "2023-07-10 06:44:28 (24.0 MB/s) - ‘ssd_mobilenet_v2_fpnlite_320x320_coco17_tpu-8.tar.gz’ saved [20515344/20515344]\n",
            "\n",
            "ssd_mobilenet_v2_fpnlite_320x320_coco17_tpu-8/\n",
            "ssd_mobilenet_v2_fpnlite_320x320_coco17_tpu-8/checkpoint/\n",
            "ssd_mobilenet_v2_fpnlite_320x320_coco17_tpu-8/checkpoint/ckpt-0.data-00000-of-00001\n",
            "ssd_mobilenet_v2_fpnlite_320x320_coco17_tpu-8/checkpoint/checkpoint\n",
            "ssd_mobilenet_v2_fpnlite_320x320_coco17_tpu-8/checkpoint/ckpt-0.index\n",
            "ssd_mobilenet_v2_fpnlite_320x320_coco17_tpu-8/pipeline.config\n",
            "ssd_mobilenet_v2_fpnlite_320x320_coco17_tpu-8/saved_model/\n",
            "ssd_mobilenet_v2_fpnlite_320x320_coco17_tpu-8/saved_model/saved_model.pb\n",
            "ssd_mobilenet_v2_fpnlite_320x320_coco17_tpu-8/saved_model/variables/\n",
            "ssd_mobilenet_v2_fpnlite_320x320_coco17_tpu-8/saved_model/variables/variables.data-00000-of-00001\n",
            "ssd_mobilenet_v2_fpnlite_320x320_coco17_tpu-8/saved_model/variables/variables.index\n"
          ]
        }
      ],
      "source": [
        "if os.name =='posix':\n",
        "    !wget {PRETRAINED_MODEL_URL}\n",
        "    !mv {PRETRAINED_MODEL_NAME+'.tar.gz'} {paths['PRETRAINED_MODEL_PATH']}\n",
        "    !cd {paths['PRETRAINED_MODEL_PATH']} && tar -zxvf {PRETRAINED_MODEL_NAME+'.tar.gz'}\n",
        "if os.name == 'nt':\n",
        "    wget.download(PRETRAINED_MODEL_URL)\n",
        "    !move {PRETRAINED_MODEL_NAME+'.tar.gz'} {paths['PRETRAINED_MODEL_PATH']}\n",
        "    !cd {paths['PRETRAINED_MODEL_PATH']} && tar -zxvf {PRETRAINED_MODEL_NAME+'.tar.gz'}"
      ]
    },
    {
      "cell_type": "markdown",
      "metadata": {
        "id": "M5KJTnkfpfDC"
      },
      "source": [
        "# 2. Create Label Map"
      ]
    },
    {
      "cell_type": "code",
      "execution_count": 17,
      "metadata": {
        "id": "p1BVDWo7pfDC"
      },
      "outputs": [],
      "source": [
        "labels = [{'name':'licence', 'id':1}]\n",
        "\n",
        "with open(files['LABELMAP'], 'w') as f:\n",
        "    for label in labels:\n",
        "        f.write('item { \\n')\n",
        "        f.write('\\tname:\\'{}\\'\\n'.format(label['name']))\n",
        "        f.write('\\tid:{}\\n'.format(label['id']))\n",
        "        f.write('}\\n')"
      ]
    },
    {
      "cell_type": "markdown",
      "metadata": {
        "id": "C88zyVELpfDC"
      },
      "source": [
        "# 3. Create TF records"
      ]
    },
    {
      "cell_type": "code",
      "execution_count": 18,
      "metadata": {
        "id": "kvf5WccwrFGq"
      },
      "outputs": [],
      "source": [
        "# OPTIONAL IF RUNNING ON COLAB\n",
        "ARCHIVE_FILES = os.path.join(paths['IMAGE_PATH'], 'archive.tar.gz')\n",
        "if os.path.exists(ARCHIVE_FILES):\n",
        "  !tar -zxvf {ARCHIVE_FILES}"
      ]
    },
    {
      "cell_type": "code",
      "execution_count": 19,
      "metadata": {
        "colab": {
          "base_uri": "https://localhost:8080/"
        },
        "id": "KWpb_BVUpfDD",
        "outputId": "351fbbd3-c5a0-45c4-e324-b80d13474f11"
      },
      "outputs": [
        {
          "output_type": "stream",
          "name": "stdout",
          "text": [
            "Cloning into 'Tensorflow/scripts'...\n",
            "remote: Enumerating objects: 3, done.\u001b[K\n",
            "remote: Counting objects: 100% (3/3), done.\u001b[K\n",
            "remote: Compressing objects: 100% (2/2), done.\u001b[K\n",
            "remote: Total 3 (delta 0), reused 1 (delta 0), pack-reused 0\u001b[K\n",
            "Unpacking objects: 100% (3/3), 2.67 KiB | 2.67 MiB/s, done.\n"
          ]
        }
      ],
      "source": [
        "if not os.path.exists(files['TF_RECORD_SCRIPT']):\n",
        "    !git clone https://github.com/nicknochnack/GenerateTFRecord {paths['SCRIPTS_PATH']}"
      ]
    },
    {
      "cell_type": "code",
      "execution_count": null,
      "metadata": {
        "id": "Fdtldm1Soodp"
      },
      "outputs": [],
      "source": [
        "!pip install pytz"
      ]
    },
    {
      "cell_type": "code",
      "execution_count": 21,
      "metadata": {
        "colab": {
          "base_uri": "https://localhost:8080/"
        },
        "id": "UPFToGZqpfDD",
        "outputId": "a770cce6-e86f-4517-c044-85385ba0ce29"
      },
      "outputs": [
        {
          "output_type": "stream",
          "name": "stdout",
          "text": [
            "Successfully created the TFRecord file: Tensorflow/workspace/annotations/train.record\n",
            "Successfully created the TFRecord file: Tensorflow/workspace/annotations/test.record\n"
          ]
        }
      ],
      "source": [
        "!python {files['TF_RECORD_SCRIPT']} -x {os.path.join(paths['IMAGE_PATH'], 'train')} -l {files['LABELMAP']} -o {os.path.join(paths['ANNOTATION_PATH'], 'train.record')}\n",
        "!python {files['TF_RECORD_SCRIPT']} -x {os.path.join(paths['IMAGE_PATH'], 'test')} -l {files['LABELMAP']} -o {os.path.join(paths['ANNOTATION_PATH'], 'test.record')}"
      ]
    },
    {
      "cell_type": "markdown",
      "metadata": {
        "id": "qT4QU7pLpfDE"
      },
      "source": [
        "# 4. Copy Model Config to Training Folder"
      ]
    },
    {
      "cell_type": "code",
      "execution_count": 22,
      "metadata": {
        "id": "cOjuTFbwpfDF"
      },
      "outputs": [],
      "source": [
        "if os.name =='posix':\n",
        "    !cp {os.path.join(paths['PRETRAINED_MODEL_PATH'], PRETRAINED_MODEL_NAME, 'pipeline.config')} {os.path.join(paths['CHECKPOINT_PATH'])}\n",
        "if os.name == 'nt':\n",
        "    !copy {os.path.join(paths['PRETRAINED_MODEL_PATH'], PRETRAINED_MODEL_NAME, 'pipeline.config')} {os.path.join(paths['CHECKPOINT_PATH'])}"
      ]
    },
    {
      "cell_type": "markdown",
      "metadata": {
        "id": "Ga8gpNslpfDF"
      },
      "source": [
        "# 5. Update Config For Transfer Learning"
      ]
    },
    {
      "cell_type": "code",
      "execution_count": 23,
      "metadata": {
        "id": "Z9hRrO_ppfDF"
      },
      "outputs": [],
      "source": [
        "import tensorflow as tf\n",
        "from object_detection.utils import config_util\n",
        "from object_detection.protos import pipeline_pb2\n",
        "from google.protobuf import text_format"
      ]
    },
    {
      "cell_type": "code",
      "execution_count": 24,
      "metadata": {
        "id": "c2A0mn4ipfDF"
      },
      "outputs": [],
      "source": [
        "config = config_util.get_configs_from_pipeline_file(files['PIPELINE_CONFIG'])"
      ]
    },
    {
      "cell_type": "code",
      "execution_count": 25,
      "metadata": {
        "colab": {
          "base_uri": "https://localhost:8080/"
        },
        "id": "uQA13-afpfDF",
        "outputId": "f45a93fa-ae5b-47ce-ae29-e82fe1d402a9"
      },
      "outputs": [
        {
          "output_type": "execute_result",
          "data": {
            "text/plain": [
              "{'model': ssd {\n",
              "   num_classes: 90\n",
              "   image_resizer {\n",
              "     fixed_shape_resizer {\n",
              "       height: 320\n",
              "       width: 320\n",
              "     }\n",
              "   }\n",
              "   feature_extractor {\n",
              "     type: \"ssd_mobilenet_v2_fpn_keras\"\n",
              "     depth_multiplier: 1.0\n",
              "     min_depth: 16\n",
              "     conv_hyperparams {\n",
              "       regularizer {\n",
              "         l2_regularizer {\n",
              "           weight: 3.9999998989515007e-05\n",
              "         }\n",
              "       }\n",
              "       initializer {\n",
              "         random_normal_initializer {\n",
              "           mean: 0.0\n",
              "           stddev: 0.009999999776482582\n",
              "         }\n",
              "       }\n",
              "       activation: RELU_6\n",
              "       batch_norm {\n",
              "         decay: 0.996999979019165\n",
              "         scale: true\n",
              "         epsilon: 0.0010000000474974513\n",
              "       }\n",
              "     }\n",
              "     use_depthwise: true\n",
              "     override_base_feature_extractor_hyperparams: true\n",
              "     fpn {\n",
              "       min_level: 3\n",
              "       max_level: 7\n",
              "       additional_layer_depth: 128\n",
              "     }\n",
              "   }\n",
              "   box_coder {\n",
              "     faster_rcnn_box_coder {\n",
              "       y_scale: 10.0\n",
              "       x_scale: 10.0\n",
              "       height_scale: 5.0\n",
              "       width_scale: 5.0\n",
              "     }\n",
              "   }\n",
              "   matcher {\n",
              "     argmax_matcher {\n",
              "       matched_threshold: 0.5\n",
              "       unmatched_threshold: 0.5\n",
              "       ignore_thresholds: false\n",
              "       negatives_lower_than_unmatched: true\n",
              "       force_match_for_each_row: true\n",
              "       use_matmul_gather: true\n",
              "     }\n",
              "   }\n",
              "   similarity_calculator {\n",
              "     iou_similarity {\n",
              "     }\n",
              "   }\n",
              "   box_predictor {\n",
              "     weight_shared_convolutional_box_predictor {\n",
              "       conv_hyperparams {\n",
              "         regularizer {\n",
              "           l2_regularizer {\n",
              "             weight: 3.9999998989515007e-05\n",
              "           }\n",
              "         }\n",
              "         initializer {\n",
              "           random_normal_initializer {\n",
              "             mean: 0.0\n",
              "             stddev: 0.009999999776482582\n",
              "           }\n",
              "         }\n",
              "         activation: RELU_6\n",
              "         batch_norm {\n",
              "           decay: 0.996999979019165\n",
              "           scale: true\n",
              "           epsilon: 0.0010000000474974513\n",
              "         }\n",
              "       }\n",
              "       depth: 128\n",
              "       num_layers_before_predictor: 4\n",
              "       kernel_size: 3\n",
              "       class_prediction_bias_init: -4.599999904632568\n",
              "       share_prediction_tower: true\n",
              "       use_depthwise: true\n",
              "     }\n",
              "   }\n",
              "   anchor_generator {\n",
              "     multiscale_anchor_generator {\n",
              "       min_level: 3\n",
              "       max_level: 7\n",
              "       anchor_scale: 4.0\n",
              "       aspect_ratios: 1.0\n",
              "       aspect_ratios: 2.0\n",
              "       aspect_ratios: 0.5\n",
              "       scales_per_octave: 2\n",
              "     }\n",
              "   }\n",
              "   post_processing {\n",
              "     batch_non_max_suppression {\n",
              "       score_threshold: 9.99999993922529e-09\n",
              "       iou_threshold: 0.6000000238418579\n",
              "       max_detections_per_class: 100\n",
              "       max_total_detections: 100\n",
              "       use_static_shapes: false\n",
              "     }\n",
              "     score_converter: SIGMOID\n",
              "   }\n",
              "   normalize_loss_by_num_matches: true\n",
              "   loss {\n",
              "     localization_loss {\n",
              "       weighted_smooth_l1 {\n",
              "       }\n",
              "     }\n",
              "     classification_loss {\n",
              "       weighted_sigmoid_focal {\n",
              "         gamma: 2.0\n",
              "         alpha: 0.25\n",
              "       }\n",
              "     }\n",
              "     classification_weight: 1.0\n",
              "     localization_weight: 1.0\n",
              "   }\n",
              "   encode_background_as_zeros: true\n",
              "   normalize_loc_loss_by_codesize: true\n",
              "   inplace_batchnorm_update: true\n",
              "   freeze_batchnorm: false\n",
              " },\n",
              " 'train_config': batch_size: 128\n",
              " data_augmentation_options {\n",
              "   random_horizontal_flip {\n",
              "   }\n",
              " }\n",
              " data_augmentation_options {\n",
              "   random_crop_image {\n",
              "     min_object_covered: 0.0\n",
              "     min_aspect_ratio: 0.75\n",
              "     max_aspect_ratio: 3.0\n",
              "     min_area: 0.75\n",
              "     max_area: 1.0\n",
              "     overlap_thresh: 0.0\n",
              "   }\n",
              " }\n",
              " sync_replicas: true\n",
              " optimizer {\n",
              "   momentum_optimizer {\n",
              "     learning_rate {\n",
              "       cosine_decay_learning_rate {\n",
              "         learning_rate_base: 0.07999999821186066\n",
              "         total_steps: 50000\n",
              "         warmup_learning_rate: 0.026666000485420227\n",
              "         warmup_steps: 1000\n",
              "       }\n",
              "     }\n",
              "     momentum_optimizer_value: 0.8999999761581421\n",
              "   }\n",
              "   use_moving_average: false\n",
              " }\n",
              " fine_tune_checkpoint: \"PATH_TO_BE_CONFIGURED\"\n",
              " num_steps: 50000\n",
              " startup_delay_steps: 0.0\n",
              " replicas_to_aggregate: 8\n",
              " max_number_of_boxes: 100\n",
              " unpad_groundtruth_tensors: false\n",
              " fine_tune_checkpoint_type: \"classification\"\n",
              " fine_tune_checkpoint_version: V2,\n",
              " 'train_input_config': label_map_path: \"PATH_TO_BE_CONFIGURED\"\n",
              " tf_record_input_reader {\n",
              "   input_path: \"PATH_TO_BE_CONFIGURED\"\n",
              " },\n",
              " 'eval_config': metrics_set: \"coco_detection_metrics\"\n",
              " use_moving_averages: false,\n",
              " 'eval_input_configs': [label_map_path: \"PATH_TO_BE_CONFIGURED\"\n",
              " shuffle: false\n",
              " num_epochs: 1\n",
              " tf_record_input_reader {\n",
              "   input_path: \"PATH_TO_BE_CONFIGURED\"\n",
              " }\n",
              " ],\n",
              " 'eval_input_config': label_map_path: \"PATH_TO_BE_CONFIGURED\"\n",
              " shuffle: false\n",
              " num_epochs: 1\n",
              " tf_record_input_reader {\n",
              "   input_path: \"PATH_TO_BE_CONFIGURED\"\n",
              " }}"
            ]
          },
          "metadata": {},
          "execution_count": 25
        }
      ],
      "source": [
        "config"
      ]
    },
    {
      "cell_type": "code",
      "execution_count": 26,
      "metadata": {
        "id": "9vK5lotDpfDF"
      },
      "outputs": [],
      "source": [
        "pipeline_config = pipeline_pb2.TrainEvalPipelineConfig()\n",
        "with tf.io.gfile.GFile(files['PIPELINE_CONFIG'], \"r\") as f:\n",
        "    proto_str = f.read()\n",
        "    text_format.Merge(proto_str, pipeline_config)"
      ]
    },
    {
      "cell_type": "code",
      "execution_count": 27,
      "metadata": {
        "id": "rP43Ph0JpfDG"
      },
      "outputs": [],
      "source": [
        "pipeline_config.model.ssd.num_classes = len(labels)\n",
        "pipeline_config.train_config.batch_size = 4\n",
        "pipeline_config.train_config.fine_tune_checkpoint = os.path.join(paths['PRETRAINED_MODEL_PATH'], PRETRAINED_MODEL_NAME, 'checkpoint', 'ckpt-0')\n",
        "pipeline_config.train_config.fine_tune_checkpoint_type = \"detection\"\n",
        "pipeline_config.train_input_reader.label_map_path= files['LABELMAP']\n",
        "pipeline_config.train_input_reader.tf_record_input_reader.input_path[:] = [os.path.join(paths['ANNOTATION_PATH'], 'train.record')]\n",
        "pipeline_config.eval_input_reader[0].label_map_path = files['LABELMAP']\n",
        "pipeline_config.eval_input_reader[0].tf_record_input_reader.input_path[:] = [os.path.join(paths['ANNOTATION_PATH'], 'test.record')]"
      ]
    },
    {
      "cell_type": "code",
      "execution_count": 28,
      "metadata": {
        "id": "oJvfgwWqpfDG"
      },
      "outputs": [],
      "source": [
        "config_text = text_format.MessageToString(pipeline_config)\n",
        "with tf.io.gfile.GFile(files['PIPELINE_CONFIG'], \"wb\") as f:\n",
        "    f.write(config_text)"
      ]
    },
    {
      "cell_type": "markdown",
      "metadata": {
        "id": "Zr3ON7xMpfDG"
      },
      "source": [
        "# 6. Train the model"
      ]
    },
    {
      "cell_type": "code",
      "execution_count": 29,
      "metadata": {
        "id": "B-Y2UQmQpfDG"
      },
      "outputs": [],
      "source": [
        "TRAINING_SCRIPT = os.path.join(paths['APIMODEL_PATH'], 'research', 'object_detection', 'model_main_tf2.py')"
      ]
    },
    {
      "cell_type": "code",
      "execution_count": 30,
      "metadata": {
        "id": "jMP2XDfQpfDH"
      },
      "outputs": [],
      "source": [
        "command = \"python {} --model_dir={} --pipeline_config_path={} --num_train_steps=10000\".format(TRAINING_SCRIPT, paths['CHECKPOINT_PATH'],files['PIPELINE_CONFIG'])"
      ]
    },
    {
      "cell_type": "code",
      "execution_count": 31,
      "metadata": {
        "colab": {
          "base_uri": "https://localhost:8080/"
        },
        "id": "A4OXXi-ApfDH",
        "outputId": "f5cee3a5-1795-48cb-a0ed-56787903d3a4"
      },
      "outputs": [
        {
          "output_type": "stream",
          "name": "stdout",
          "text": [
            "python Tensorflow/models/research/object_detection/model_main_tf2.py --model_dir=Tensorflow/workspace/models/my_ssd_mobnet --pipeline_config_path=Tensorflow/workspace/models/my_ssd_mobnet/pipeline.config --num_train_steps=10000\n"
          ]
        }
      ],
      "source": [
        "print(command)"
      ]
    },
    {
      "cell_type": "code",
      "execution_count": 32,
      "metadata": {
        "colab": {
          "base_uri": "https://localhost:8080/"
        },
        "id": "i3ZsJR-qpfDH",
        "outputId": "24ee46be-267f-4fd5-a11c-1b01cfa9aedd"
      },
      "outputs": [
        {
          "output_type": "stream",
          "name": "stdout",
          "text": [
            "2023-07-10 06:46:56.106030: W tensorflow/compiler/tf2tensorrt/utils/py_utils.cc:38] TF-TRT Warning: Could not find TensorRT\n",
            "/usr/local/lib/python3.10/dist-packages/tensorflow_io/python/ops/__init__.py:98: UserWarning: unable to load libtensorflow_io_plugins.so: unable to open file: libtensorflow_io_plugins.so, from paths: ['/usr/local/lib/python3.10/dist-packages/tensorflow_io/python/ops/libtensorflow_io_plugins.so']\n",
            "caused by: ['/usr/local/lib/python3.10/dist-packages/tensorflow_io/python/ops/libtensorflow_io_plugins.so: undefined symbol: _ZN3tsl6Status12empty_stringB5cxx11Ev']\n",
            "  warnings.warn(f\"unable to load libtensorflow_io_plugins.so: {e}\")\n",
            "/usr/local/lib/python3.10/dist-packages/tensorflow_io/python/ops/__init__.py:104: UserWarning: file system plugins are not loaded: unable to open file: libtensorflow_io.so, from paths: ['/usr/local/lib/python3.10/dist-packages/tensorflow_io/python/ops/libtensorflow_io.so']\n",
            "caused by: ['/usr/local/lib/python3.10/dist-packages/tensorflow_io/python/ops/libtensorflow_io.so: undefined symbol: _ZNK10tensorflow4data11DatasetBase8FinalizeEPNS_15OpKernelContextESt8functionIFN3tsl8StatusOrISt10unique_ptrIS1_NS5_4core15RefCountDeleterEEEEvEE']\n",
            "  warnings.warn(f\"file system plugins are not loaded: {e}\")\n",
            "2023-07-10 06:47:02.327897: W tensorflow/core/common_runtime/gpu/gpu_bfc_allocator.cc:47] Overriding orig_value setting because the TF_FORCE_GPU_ALLOW_GROWTH environment variable is set. Original config value was 0.\n",
            "INFO:tensorflow:Using MirroredStrategy with devices ('/job:localhost/replica:0/task:0/device:GPU:0',)\n",
            "I0710 06:47:02.329100 140068657407808 mirrored_strategy.py:419] Using MirroredStrategy with devices ('/job:localhost/replica:0/task:0/device:GPU:0',)\n",
            "INFO:tensorflow:Maybe overwriting train_steps: 10000\n",
            "I0710 06:47:02.366506 140068657407808 config_util.py:552] Maybe overwriting train_steps: 10000\n",
            "INFO:tensorflow:Maybe overwriting use_bfloat16: False\n",
            "I0710 06:47:02.366714 140068657407808 config_util.py:552] Maybe overwriting use_bfloat16: False\n",
            "WARNING:tensorflow:From /usr/local/lib/python3.10/dist-packages/object_detection/model_lib_v2.py:563: StrategyBase.experimental_distribute_datasets_from_function (from tensorflow.python.distribute.distribute_lib) is deprecated and will be removed in a future version.\n",
            "Instructions for updating:\n",
            "rename to distribute_datasets_from_function\n",
            "W0710 06:47:02.606313 140068657407808 deprecation.py:364] From /usr/local/lib/python3.10/dist-packages/object_detection/model_lib_v2.py:563: StrategyBase.experimental_distribute_datasets_from_function (from tensorflow.python.distribute.distribute_lib) is deprecated and will be removed in a future version.\n",
            "Instructions for updating:\n",
            "rename to distribute_datasets_from_function\n",
            "INFO:tensorflow:Reading unweighted datasets: ['Tensorflow/workspace/annotations/train.record']\n",
            "I0710 06:47:02.615875 140068657407808 dataset_builder.py:162] Reading unweighted datasets: ['Tensorflow/workspace/annotations/train.record']\n",
            "INFO:tensorflow:Reading record datasets for input file: ['Tensorflow/workspace/annotations/train.record']\n",
            "I0710 06:47:02.616092 140068657407808 dataset_builder.py:79] Reading record datasets for input file: ['Tensorflow/workspace/annotations/train.record']\n",
            "INFO:tensorflow:Number of filenames to read: 1\n",
            "I0710 06:47:02.616201 140068657407808 dataset_builder.py:80] Number of filenames to read: 1\n",
            "WARNING:tensorflow:num_readers has been reduced to 1 to match input file shards.\n",
            "W0710 06:47:02.616277 140068657407808 dataset_builder.py:86] num_readers has been reduced to 1 to match input file shards.\n",
            "WARNING:tensorflow:From /usr/local/lib/python3.10/dist-packages/object_detection/builders/dataset_builder.py:100: parallel_interleave (from tensorflow.python.data.experimental.ops.interleave_ops) is deprecated and will be removed in a future version.\n",
            "Instructions for updating:\n",
            "Use `tf.data.Dataset.interleave(map_func, cycle_length, block_length, num_parallel_calls=tf.data.AUTOTUNE)` instead. If sloppy execution is desired, use `tf.data.Options.deterministic`.\n",
            "W0710 06:47:02.626131 140068657407808 deprecation.py:364] From /usr/local/lib/python3.10/dist-packages/object_detection/builders/dataset_builder.py:100: parallel_interleave (from tensorflow.python.data.experimental.ops.interleave_ops) is deprecated and will be removed in a future version.\n",
            "Instructions for updating:\n",
            "Use `tf.data.Dataset.interleave(map_func, cycle_length, block_length, num_parallel_calls=tf.data.AUTOTUNE)` instead. If sloppy execution is desired, use `tf.data.Options.deterministic`.\n",
            "WARNING:tensorflow:From /usr/local/lib/python3.10/dist-packages/object_detection/builders/dataset_builder.py:235: DatasetV1.map_with_legacy_function (from tensorflow.python.data.ops.dataset_ops) is deprecated and will be removed in a future version.\n",
            "Instructions for updating:\n",
            "Use `tf.data.Dataset.map()\n",
            "W0710 06:47:02.654941 140068657407808 deprecation.py:364] From /usr/local/lib/python3.10/dist-packages/object_detection/builders/dataset_builder.py:235: DatasetV1.map_with_legacy_function (from tensorflow.python.data.ops.dataset_ops) is deprecated and will be removed in a future version.\n",
            "Instructions for updating:\n",
            "Use `tf.data.Dataset.map()\n",
            "WARNING:tensorflow:From /usr/local/lib/python3.10/dist-packages/tensorflow/python/util/dispatch.py:1176: sparse_to_dense (from tensorflow.python.ops.sparse_ops) is deprecated and will be removed in a future version.\n",
            "Instructions for updating:\n",
            "Create a `tf.sparse.SparseTensor` and use `tf.sparse.to_dense` instead.\n",
            "W0710 06:47:13.965716 140068657407808 deprecation.py:364] From /usr/local/lib/python3.10/dist-packages/tensorflow/python/util/dispatch.py:1176: sparse_to_dense (from tensorflow.python.ops.sparse_ops) is deprecated and will be removed in a future version.\n",
            "Instructions for updating:\n",
            "Create a `tf.sparse.SparseTensor` and use `tf.sparse.to_dense` instead.\n",
            "WARNING:tensorflow:From /usr/local/lib/python3.10/dist-packages/tensorflow/python/util/dispatch.py:1176: sample_distorted_bounding_box (from tensorflow.python.ops.image_ops_impl) is deprecated and will be removed in a future version.\n",
            "Instructions for updating:\n",
            "`seed2` arg is deprecated.Use sample_distorted_bounding_box_v2 instead.\n",
            "W0710 06:47:16.567320 140068657407808 deprecation.py:364] From /usr/local/lib/python3.10/dist-packages/tensorflow/python/util/dispatch.py:1176: sample_distorted_bounding_box (from tensorflow.python.ops.image_ops_impl) is deprecated and will be removed in a future version.\n",
            "Instructions for updating:\n",
            "`seed2` arg is deprecated.Use sample_distorted_bounding_box_v2 instead.\n",
            "WARNING:tensorflow:From /usr/local/lib/python3.10/dist-packages/tensorflow/python/util/dispatch.py:1176: to_float (from tensorflow.python.ops.math_ops) is deprecated and will be removed in a future version.\n",
            "Instructions for updating:\n",
            "Use `tf.cast` instead.\n",
            "W0710 06:47:17.917345 140068657407808 deprecation.py:364] From /usr/local/lib/python3.10/dist-packages/tensorflow/python/util/dispatch.py:1176: to_float (from tensorflow.python.ops.math_ops) is deprecated and will be removed in a future version.\n",
            "Instructions for updating:\n",
            "Use `tf.cast` instead.\n",
            "/usr/local/lib/python3.10/dist-packages/keras/src/backend.py:452: UserWarning: `tf.keras.backend.set_learning_phase` is deprecated and will be removed after 2020-10-11. To update it, simply pass a True/False value to the `training` argument of the `__call__` method of your layer or model.\n",
            "  warnings.warn(\n",
            "I0710 06:47:30.354717 140063538149120 api.py:460] feature_map_spatial_dims: [(40, 40), (20, 20), (10, 10), (5, 5), (3, 3)]\n",
            "I0710 06:47:38.986428 140063538149120 api.py:460] feature_map_spatial_dims: [(40, 40), (20, 20), (10, 10), (5, 5), (3, 3)]\n",
            "INFO:tensorflow:Reduce to /job:localhost/replica:0/task:0/device:CPU:0 then broadcast to ('/job:localhost/replica:0/task:0/device:CPU:0',).\n",
            "I0710 06:47:52.249204 140068657407808 cross_device_ops.py:617] Reduce to /job:localhost/replica:0/task:0/device:CPU:0 then broadcast to ('/job:localhost/replica:0/task:0/device:CPU:0',).\n",
            "INFO:tensorflow:Reduce to /job:localhost/replica:0/task:0/device:CPU:0 then broadcast to ('/job:localhost/replica:0/task:0/device:CPU:0',).\n",
            "I0710 06:47:52.253022 140068657407808 cross_device_ops.py:617] Reduce to /job:localhost/replica:0/task:0/device:CPU:0 then broadcast to ('/job:localhost/replica:0/task:0/device:CPU:0',).\n",
            "INFO:tensorflow:Reduce to /job:localhost/replica:0/task:0/device:CPU:0 then broadcast to ('/job:localhost/replica:0/task:0/device:CPU:0',).\n",
            "I0710 06:47:52.254509 140068657407808 cross_device_ops.py:617] Reduce to /job:localhost/replica:0/task:0/device:CPU:0 then broadcast to ('/job:localhost/replica:0/task:0/device:CPU:0',).\n",
            "INFO:tensorflow:Reduce to /job:localhost/replica:0/task:0/device:CPU:0 then broadcast to ('/job:localhost/replica:0/task:0/device:CPU:0',).\n",
            "I0710 06:47:52.255813 140068657407808 cross_device_ops.py:617] Reduce to /job:localhost/replica:0/task:0/device:CPU:0 then broadcast to ('/job:localhost/replica:0/task:0/device:CPU:0',).\n",
            "INFO:tensorflow:Reduce to /job:localhost/replica:0/task:0/device:CPU:0 then broadcast to ('/job:localhost/replica:0/task:0/device:CPU:0',).\n",
            "I0710 06:47:52.260942 140068657407808 cross_device_ops.py:617] Reduce to /job:localhost/replica:0/task:0/device:CPU:0 then broadcast to ('/job:localhost/replica:0/task:0/device:CPU:0',).\n",
            "INFO:tensorflow:Reduce to /job:localhost/replica:0/task:0/device:CPU:0 then broadcast to ('/job:localhost/replica:0/task:0/device:CPU:0',).\n",
            "I0710 06:47:52.262154 140068657407808 cross_device_ops.py:617] Reduce to /job:localhost/replica:0/task:0/device:CPU:0 then broadcast to ('/job:localhost/replica:0/task:0/device:CPU:0',).\n",
            "INFO:tensorflow:Reduce to /job:localhost/replica:0/task:0/device:CPU:0 then broadcast to ('/job:localhost/replica:0/task:0/device:CPU:0',).\n",
            "I0710 06:47:52.263567 140068657407808 cross_device_ops.py:617] Reduce to /job:localhost/replica:0/task:0/device:CPU:0 then broadcast to ('/job:localhost/replica:0/task:0/device:CPU:0',).\n",
            "INFO:tensorflow:Reduce to /job:localhost/replica:0/task:0/device:CPU:0 then broadcast to ('/job:localhost/replica:0/task:0/device:CPU:0',).\n",
            "I0710 06:47:52.264803 140068657407808 cross_device_ops.py:617] Reduce to /job:localhost/replica:0/task:0/device:CPU:0 then broadcast to ('/job:localhost/replica:0/task:0/device:CPU:0',).\n",
            "INFO:tensorflow:Reduce to /job:localhost/replica:0/task:0/device:CPU:0 then broadcast to ('/job:localhost/replica:0/task:0/device:CPU:0',).\n",
            "I0710 06:47:52.270968 140068657407808 cross_device_ops.py:617] Reduce to /job:localhost/replica:0/task:0/device:CPU:0 then broadcast to ('/job:localhost/replica:0/task:0/device:CPU:0',).\n",
            "INFO:tensorflow:Reduce to /job:localhost/replica:0/task:0/device:CPU:0 then broadcast to ('/job:localhost/replica:0/task:0/device:CPU:0',).\n",
            "I0710 06:47:52.272182 140068657407808 cross_device_ops.py:617] Reduce to /job:localhost/replica:0/task:0/device:CPU:0 then broadcast to ('/job:localhost/replica:0/task:0/device:CPU:0',).\n",
            "WARNING:tensorflow:From /usr/local/lib/python3.10/dist-packages/tensorflow/python/util/deprecation.py:648: calling map_fn_v2 (from tensorflow.python.ops.map_fn) with dtype is deprecated and will be removed in a future version.\n",
            "Instructions for updating:\n",
            "Use fn_output_signature instead\n",
            "W0710 06:47:54.324483 140063896463104 deprecation.py:569] From /usr/local/lib/python3.10/dist-packages/tensorflow/python/util/deprecation.py:648: calling map_fn_v2 (from tensorflow.python.ops.map_fn) with dtype is deprecated and will be removed in a future version.\n",
            "Instructions for updating:\n",
            "Use fn_output_signature instead\n",
            "I0710 06:47:55.637652 140063896463104 api.py:460] feature_map_spatial_dims: [(40, 40), (20, 20), (10, 10), (5, 5), (3, 3)]\n",
            "I0710 06:48:01.059031 140063896463104 api.py:460] feature_map_spatial_dims: [(40, 40), (20, 20), (10, 10), (5, 5), (3, 3)]\n",
            "I0710 06:48:06.564916 140063896463104 api.py:460] feature_map_spatial_dims: [(40, 40), (20, 20), (10, 10), (5, 5), (3, 3)]\n",
            "I0710 06:48:14.394522 140063896463104 api.py:460] feature_map_spatial_dims: [(40, 40), (20, 20), (10, 10), (5, 5), (3, 3)]\n",
            "INFO:tensorflow:Step 100 per-step time 0.463s\n",
            "I0710 06:48:39.791618 140068657407808 model_lib_v2.py:705] Step 100 per-step time 0.463s\n",
            "INFO:tensorflow:{'Loss/classification_loss': 0.33422092,\n",
            " 'Loss/localization_loss': 0.3800686,\n",
            " 'Loss/regularization_loss': 0.15456878,\n",
            " 'Loss/total_loss': 0.86885834,\n",
            " 'learning_rate': 0.0319994}\n",
            "I0710 06:48:39.792080 140068657407808 model_lib_v2.py:708] {'Loss/classification_loss': 0.33422092,\n",
            " 'Loss/localization_loss': 0.3800686,\n",
            " 'Loss/regularization_loss': 0.15456878,\n",
            " 'Loss/total_loss': 0.86885834,\n",
            " 'learning_rate': 0.0319994}\n",
            "INFO:tensorflow:Step 200 per-step time 0.073s\n",
            "I0710 06:48:47.055448 140068657407808 model_lib_v2.py:705] Step 200 per-step time 0.073s\n",
            "INFO:tensorflow:{'Loss/classification_loss': 0.4949188,\n",
            " 'Loss/localization_loss': 0.27230072,\n",
            " 'Loss/regularization_loss': 0.15460028,\n",
            " 'Loss/total_loss': 0.9218198,\n",
            " 'learning_rate': 0.0373328}\n",
            "I0710 06:48:47.055726 140068657407808 model_lib_v2.py:708] {'Loss/classification_loss': 0.4949188,\n",
            " 'Loss/localization_loss': 0.27230072,\n",
            " 'Loss/regularization_loss': 0.15460028,\n",
            " 'Loss/total_loss': 0.9218198,\n",
            " 'learning_rate': 0.0373328}\n",
            "INFO:tensorflow:Step 300 per-step time 0.069s\n",
            "I0710 06:48:53.983502 140068657407808 model_lib_v2.py:705] Step 300 per-step time 0.069s\n",
            "INFO:tensorflow:{'Loss/classification_loss': 0.20082769,\n",
            " 'Loss/localization_loss': 0.2937584,\n",
            " 'Loss/regularization_loss': 0.15467058,\n",
            " 'Loss/total_loss': 0.64925665,\n",
            " 'learning_rate': 0.0426662}\n",
            "I0710 06:48:53.983867 140068657407808 model_lib_v2.py:708] {'Loss/classification_loss': 0.20082769,\n",
            " 'Loss/localization_loss': 0.2937584,\n",
            " 'Loss/regularization_loss': 0.15467058,\n",
            " 'Loss/total_loss': 0.64925665,\n",
            " 'learning_rate': 0.0426662}\n",
            "INFO:tensorflow:Step 400 per-step time 0.103s\n",
            "I0710 06:49:04.292807 140068657407808 model_lib_v2.py:705] Step 400 per-step time 0.103s\n",
            "INFO:tensorflow:{'Loss/classification_loss': 0.25294587,\n",
            " 'Loss/localization_loss': 0.23143083,\n",
            " 'Loss/regularization_loss': 0.15481004,\n",
            " 'Loss/total_loss': 0.63918674,\n",
            " 'learning_rate': 0.047999598}\n",
            "I0710 06:49:04.293184 140068657407808 model_lib_v2.py:708] {'Loss/classification_loss': 0.25294587,\n",
            " 'Loss/localization_loss': 0.23143083,\n",
            " 'Loss/regularization_loss': 0.15481004,\n",
            " 'Loss/total_loss': 0.63918674,\n",
            " 'learning_rate': 0.047999598}\n",
            "INFO:tensorflow:Step 500 per-step time 0.072s\n",
            "I0710 06:49:11.525141 140068657407808 model_lib_v2.py:705] Step 500 per-step time 0.072s\n",
            "INFO:tensorflow:{'Loss/classification_loss': 0.19866468,\n",
            " 'Loss/localization_loss': 0.21954332,\n",
            " 'Loss/regularization_loss': 0.15503566,\n",
            " 'Loss/total_loss': 0.5732437,\n",
            " 'learning_rate': 0.053333}\n",
            "I0710 06:49:11.525412 140068657407808 model_lib_v2.py:708] {'Loss/classification_loss': 0.19866468,\n",
            " 'Loss/localization_loss': 0.21954332,\n",
            " 'Loss/regularization_loss': 0.15503566,\n",
            " 'Loss/total_loss': 0.5732437,\n",
            " 'learning_rate': 0.053333}\n",
            "INFO:tensorflow:Step 600 per-step time 0.072s\n",
            "I0710 06:49:18.737021 140068657407808 model_lib_v2.py:705] Step 600 per-step time 0.072s\n",
            "INFO:tensorflow:{'Loss/classification_loss': 0.13661537,\n",
            " 'Loss/localization_loss': 0.15925108,\n",
            " 'Loss/regularization_loss': 0.15517907,\n",
            " 'Loss/total_loss': 0.4510455,\n",
            " 'learning_rate': 0.0586664}\n",
            "I0710 06:49:18.737992 140068657407808 model_lib_v2.py:708] {'Loss/classification_loss': 0.13661537,\n",
            " 'Loss/localization_loss': 0.15925108,\n",
            " 'Loss/regularization_loss': 0.15517907,\n",
            " 'Loss/total_loss': 0.4510455,\n",
            " 'learning_rate': 0.0586664}\n",
            "INFO:tensorflow:Step 700 per-step time 0.099s\n",
            "I0710 06:49:28.626999 140068657407808 model_lib_v2.py:705] Step 700 per-step time 0.099s\n",
            "INFO:tensorflow:{'Loss/classification_loss': 0.25250956,\n",
            " 'Loss/localization_loss': 0.18331526,\n",
            " 'Loss/regularization_loss': 0.15519303,\n",
            " 'Loss/total_loss': 0.59101784,\n",
            " 'learning_rate': 0.0639998}\n",
            "I0710 06:49:28.627420 140068657407808 model_lib_v2.py:708] {'Loss/classification_loss': 0.25250956,\n",
            " 'Loss/localization_loss': 0.18331526,\n",
            " 'Loss/regularization_loss': 0.15519303,\n",
            " 'Loss/total_loss': 0.59101784,\n",
            " 'learning_rate': 0.0639998}\n",
            "INFO:tensorflow:Step 800 per-step time 0.071s\n",
            "I0710 06:49:35.708895 140068657407808 model_lib_v2.py:705] Step 800 per-step time 0.071s\n",
            "INFO:tensorflow:{'Loss/classification_loss': 0.31181127,\n",
            " 'Loss/localization_loss': 0.3681945,\n",
            " 'Loss/regularization_loss': 0.15552403,\n",
            " 'Loss/total_loss': 0.8355298,\n",
            " 'learning_rate': 0.069333196}\n",
            "I0710 06:49:35.709157 140068657407808 model_lib_v2.py:708] {'Loss/classification_loss': 0.31181127,\n",
            " 'Loss/localization_loss': 0.3681945,\n",
            " 'Loss/regularization_loss': 0.15552403,\n",
            " 'Loss/total_loss': 0.8355298,\n",
            " 'learning_rate': 0.069333196}\n",
            "INFO:tensorflow:Step 900 per-step time 0.071s\n",
            "I0710 06:49:42.832247 140068657407808 model_lib_v2.py:705] Step 900 per-step time 0.071s\n",
            "INFO:tensorflow:{'Loss/classification_loss': 0.6037866,\n",
            " 'Loss/localization_loss': 0.32686454,\n",
            " 'Loss/regularization_loss': 0.15572119,\n",
            " 'Loss/total_loss': 1.0863724,\n",
            " 'learning_rate': 0.074666604}\n",
            "I0710 06:49:42.832615 140068657407808 model_lib_v2.py:708] {'Loss/classification_loss': 0.6037866,\n",
            " 'Loss/localization_loss': 0.32686454,\n",
            " 'Loss/regularization_loss': 0.15572119,\n",
            " 'Loss/total_loss': 1.0863724,\n",
            " 'learning_rate': 0.074666604}\n",
            "INFO:tensorflow:Step 1000 per-step time 0.098s\n",
            "I0710 06:49:52.584234 140068657407808 model_lib_v2.py:705] Step 1000 per-step time 0.098s\n",
            "INFO:tensorflow:{'Loss/classification_loss': 0.39572793,\n",
            " 'Loss/localization_loss': 0.2776334,\n",
            " 'Loss/regularization_loss': 0.15609051,\n",
            " 'Loss/total_loss': 0.8294518,\n",
            " 'learning_rate': 0.08}\n",
            "I0710 06:49:52.584603 140068657407808 model_lib_v2.py:708] {'Loss/classification_loss': 0.39572793,\n",
            " 'Loss/localization_loss': 0.2776334,\n",
            " 'Loss/regularization_loss': 0.15609051,\n",
            " 'Loss/total_loss': 0.8294518,\n",
            " 'learning_rate': 0.08}\n",
            "INFO:tensorflow:Step 1100 per-step time 0.087s\n",
            "I0710 06:50:01.231842 140068657407808 model_lib_v2.py:705] Step 1100 per-step time 0.087s\n",
            "INFO:tensorflow:{'Loss/classification_loss': 0.178397,\n",
            " 'Loss/localization_loss': 0.20077384,\n",
            " 'Loss/regularization_loss': 0.1560761,\n",
            " 'Loss/total_loss': 0.53524697,\n",
            " 'learning_rate': 0.07999918}\n",
            "I0710 06:50:01.232134 140068657407808 model_lib_v2.py:708] {'Loss/classification_loss': 0.178397,\n",
            " 'Loss/localization_loss': 0.20077384,\n",
            " 'Loss/regularization_loss': 0.1560761,\n",
            " 'Loss/total_loss': 0.53524697,\n",
            " 'learning_rate': 0.07999918}\n",
            "INFO:tensorflow:Step 1200 per-step time 0.080s\n",
            "I0710 06:50:09.226316 140068657407808 model_lib_v2.py:705] Step 1200 per-step time 0.080s\n",
            "INFO:tensorflow:{'Loss/classification_loss': 0.283975,\n",
            " 'Loss/localization_loss': 0.21620107,\n",
            " 'Loss/regularization_loss': 0.15613842,\n",
            " 'Loss/total_loss': 0.6563145,\n",
            " 'learning_rate': 0.079996705}\n",
            "I0710 06:50:09.226682 140068657407808 model_lib_v2.py:708] {'Loss/classification_loss': 0.283975,\n",
            " 'Loss/localization_loss': 0.21620107,\n",
            " 'Loss/regularization_loss': 0.15613842,\n",
            " 'Loss/total_loss': 0.6563145,\n",
            " 'learning_rate': 0.079996705}\n",
            "INFO:tensorflow:Step 1300 per-step time 0.098s\n",
            "I0710 06:50:18.999053 140068657407808 model_lib_v2.py:705] Step 1300 per-step time 0.098s\n",
            "INFO:tensorflow:{'Loss/classification_loss': 0.20735222,\n",
            " 'Loss/localization_loss': 0.25719032,\n",
            " 'Loss/regularization_loss': 0.15605639,\n",
            " 'Loss/total_loss': 0.6205989,\n",
            " 'learning_rate': 0.0799926}\n",
            "I0710 06:50:18.999362 140068657407808 model_lib_v2.py:708] {'Loss/classification_loss': 0.20735222,\n",
            " 'Loss/localization_loss': 0.25719032,\n",
            " 'Loss/regularization_loss': 0.15605639,\n",
            " 'Loss/total_loss': 0.6205989,\n",
            " 'learning_rate': 0.0799926}\n",
            "INFO:tensorflow:Step 1400 per-step time 0.064s\n",
            "I0710 06:50:25.435727 140068657407808 model_lib_v2.py:705] Step 1400 per-step time 0.064s\n",
            "INFO:tensorflow:{'Loss/classification_loss': 0.14661749,\n",
            " 'Loss/localization_loss': 0.243791,\n",
            " 'Loss/regularization_loss': 0.15586512,\n",
            " 'Loss/total_loss': 0.5462736,\n",
            " 'learning_rate': 0.07998685}\n",
            "I0710 06:50:25.436038 140068657407808 model_lib_v2.py:708] {'Loss/classification_loss': 0.14661749,\n",
            " 'Loss/localization_loss': 0.243791,\n",
            " 'Loss/regularization_loss': 0.15586512,\n",
            " 'Loss/total_loss': 0.5462736,\n",
            " 'learning_rate': 0.07998685}\n",
            "INFO:tensorflow:Step 1500 per-step time 0.081s\n",
            "I0710 06:50:33.598486 140068657407808 model_lib_v2.py:705] Step 1500 per-step time 0.081s\n",
            "INFO:tensorflow:{'Loss/classification_loss': 0.15788944,\n",
            " 'Loss/localization_loss': 0.11205084,\n",
            " 'Loss/regularization_loss': 0.15554377,\n",
            " 'Loss/total_loss': 0.42548406,\n",
            " 'learning_rate': 0.07997945}\n",
            "I0710 06:50:33.599103 140068657407808 model_lib_v2.py:708] {'Loss/classification_loss': 0.15788944,\n",
            " 'Loss/localization_loss': 0.11205084,\n",
            " 'Loss/regularization_loss': 0.15554377,\n",
            " 'Loss/total_loss': 0.42548406,\n",
            " 'learning_rate': 0.07997945}\n",
            "INFO:tensorflow:Step 1600 per-step time 0.096s\n",
            "I0710 06:50:43.168561 140068657407808 model_lib_v2.py:705] Step 1600 per-step time 0.096s\n",
            "INFO:tensorflow:{'Loss/classification_loss': 0.22721475,\n",
            " 'Loss/localization_loss': 0.16870232,\n",
            " 'Loss/regularization_loss': 0.15534903,\n",
            " 'Loss/total_loss': 0.5512661,\n",
            " 'learning_rate': 0.079970405}\n",
            "I0710 06:50:43.168859 140068657407808 model_lib_v2.py:708] {'Loss/classification_loss': 0.22721475,\n",
            " 'Loss/localization_loss': 0.16870232,\n",
            " 'Loss/regularization_loss': 0.15534903,\n",
            " 'Loss/total_loss': 0.5512661,\n",
            " 'learning_rate': 0.079970405}\n",
            "INFO:tensorflow:Step 1700 per-step time 0.063s\n",
            "I0710 06:50:49.481153 140068657407808 model_lib_v2.py:705] Step 1700 per-step time 0.063s\n",
            "INFO:tensorflow:{'Loss/classification_loss': 0.24647602,\n",
            " 'Loss/localization_loss': 0.15253021,\n",
            " 'Loss/regularization_loss': 0.15526752,\n",
            " 'Loss/total_loss': 0.5542738,\n",
            " 'learning_rate': 0.07995972}\n",
            "I0710 06:50:49.481466 140068657407808 model_lib_v2.py:708] {'Loss/classification_loss': 0.24647602,\n",
            " 'Loss/localization_loss': 0.15253021,\n",
            " 'Loss/regularization_loss': 0.15526752,\n",
            " 'Loss/total_loss': 0.5542738,\n",
            " 'learning_rate': 0.07995972}\n",
            "INFO:tensorflow:Step 1800 per-step time 0.083s\n",
            "I0710 06:50:57.748528 140068657407808 model_lib_v2.py:705] Step 1800 per-step time 0.083s\n",
            "INFO:tensorflow:{'Loss/classification_loss': 0.18956704,\n",
            " 'Loss/localization_loss': 0.26008594,\n",
            " 'Loss/regularization_loss': 0.15514854,\n",
            " 'Loss/total_loss': 0.60480154,\n",
            " 'learning_rate': 0.0799474}\n",
            "I0710 06:50:57.748916 140068657407808 model_lib_v2.py:708] {'Loss/classification_loss': 0.18956704,\n",
            " 'Loss/localization_loss': 0.26008594,\n",
            " 'Loss/regularization_loss': 0.15514854,\n",
            " 'Loss/total_loss': 0.60480154,\n",
            " 'learning_rate': 0.0799474}\n",
            "INFO:tensorflow:Step 1900 per-step time 0.093s\n",
            "I0710 06:51:07.052245 140068657407808 model_lib_v2.py:705] Step 1900 per-step time 0.093s\n",
            "INFO:tensorflow:{'Loss/classification_loss': 0.17642222,\n",
            " 'Loss/localization_loss': 0.18506914,\n",
            " 'Loss/regularization_loss': 0.1550928,\n",
            " 'Loss/total_loss': 0.51658416,\n",
            " 'learning_rate': 0.07993342}\n",
            "I0710 06:51:07.052571 140068657407808 model_lib_v2.py:708] {'Loss/classification_loss': 0.17642222,\n",
            " 'Loss/localization_loss': 0.18506914,\n",
            " 'Loss/regularization_loss': 0.1550928,\n",
            " 'Loss/total_loss': 0.51658416,\n",
            " 'learning_rate': 0.07993342}\n",
            "INFO:tensorflow:Step 2000 per-step time 0.064s\n",
            "I0710 06:51:13.487215 140068657407808 model_lib_v2.py:705] Step 2000 per-step time 0.064s\n",
            "INFO:tensorflow:{'Loss/classification_loss': 0.25284916,\n",
            " 'Loss/localization_loss': 0.10603131,\n",
            " 'Loss/regularization_loss': 0.15492404,\n",
            " 'Loss/total_loss': 0.5138045,\n",
            " 'learning_rate': 0.07991781}\n",
            "I0710 06:51:13.487519 140068657407808 model_lib_v2.py:708] {'Loss/classification_loss': 0.25284916,\n",
            " 'Loss/localization_loss': 0.10603131,\n",
            " 'Loss/regularization_loss': 0.15492404,\n",
            " 'Loss/total_loss': 0.5138045,\n",
            " 'learning_rate': 0.07991781}\n",
            "INFO:tensorflow:Step 2100 per-step time 0.100s\n",
            "I0710 06:51:23.466166 140068657407808 model_lib_v2.py:705] Step 2100 per-step time 0.100s\n",
            "INFO:tensorflow:{'Loss/classification_loss': 0.2488375,\n",
            " 'Loss/localization_loss': 0.21585186,\n",
            " 'Loss/regularization_loss': 0.15510488,\n",
            " 'Loss/total_loss': 0.61979425,\n",
            " 'learning_rate': 0.07990056}\n",
            "I0710 06:51:23.466579 140068657407808 model_lib_v2.py:708] {'Loss/classification_loss': 0.2488375,\n",
            " 'Loss/localization_loss': 0.21585186,\n",
            " 'Loss/regularization_loss': 0.15510488,\n",
            " 'Loss/total_loss': 0.61979425,\n",
            " 'learning_rate': 0.07990056}\n",
            "INFO:tensorflow:Step 2200 per-step time 0.089s\n",
            "I0710 06:51:32.393818 140068657407808 model_lib_v2.py:705] Step 2200 per-step time 0.089s\n",
            "INFO:tensorflow:{'Loss/classification_loss': 0.1736227,\n",
            " 'Loss/localization_loss': 0.088966474,\n",
            " 'Loss/regularization_loss': 0.15491991,\n",
            " 'Loss/total_loss': 0.41750908,\n",
            " 'learning_rate': 0.07988167}\n",
            "I0710 06:51:32.394104 140068657407808 model_lib_v2.py:708] {'Loss/classification_loss': 0.1736227,\n",
            " 'Loss/localization_loss': 0.088966474,\n",
            " 'Loss/regularization_loss': 0.15491991,\n",
            " 'Loss/total_loss': 0.41750908,\n",
            " 'learning_rate': 0.07988167}\n",
            "INFO:tensorflow:Step 2300 per-step time 0.064s\n",
            "I0710 06:51:38.774981 140068657407808 model_lib_v2.py:705] Step 2300 per-step time 0.064s\n",
            "INFO:tensorflow:{'Loss/classification_loss': 0.37248445,\n",
            " 'Loss/localization_loss': 0.36473298,\n",
            " 'Loss/regularization_loss': 0.15445727,\n",
            " 'Loss/total_loss': 0.8916747,\n",
            " 'learning_rate': 0.07986114}\n",
            "I0710 06:51:38.775290 140068657407808 model_lib_v2.py:708] {'Loss/classification_loss': 0.37248445,\n",
            " 'Loss/localization_loss': 0.36473298,\n",
            " 'Loss/regularization_loss': 0.15445727,\n",
            " 'Loss/total_loss': 0.8916747,\n",
            " 'learning_rate': 0.07986114}\n",
            "INFO:tensorflow:Step 2400 per-step time 0.088s\n",
            "I0710 06:51:47.567363 140068657407808 model_lib_v2.py:705] Step 2400 per-step time 0.088s\n",
            "INFO:tensorflow:{'Loss/classification_loss': 0.36459213,\n",
            " 'Loss/localization_loss': 0.22738473,\n",
            " 'Loss/regularization_loss': 0.15394919,\n",
            " 'Loss/total_loss': 0.7459261,\n",
            " 'learning_rate': 0.07983897}\n",
            "I0710 06:51:47.567727 140068657407808 model_lib_v2.py:708] {'Loss/classification_loss': 0.36459213,\n",
            " 'Loss/localization_loss': 0.22738473,\n",
            " 'Loss/regularization_loss': 0.15394919,\n",
            " 'Loss/total_loss': 0.7459261,\n",
            " 'learning_rate': 0.07983897}\n",
            "INFO:tensorflow:Step 2500 per-step time 0.090s\n",
            "I0710 06:51:56.513798 140068657407808 model_lib_v2.py:705] Step 2500 per-step time 0.090s\n",
            "INFO:tensorflow:{'Loss/classification_loss': 0.14068057,\n",
            " 'Loss/localization_loss': 0.13366327,\n",
            " 'Loss/regularization_loss': 0.15345497,\n",
            " 'Loss/total_loss': 0.4277988,\n",
            " 'learning_rate': 0.079815164}\n",
            "I0710 06:51:56.514098 140068657407808 model_lib_v2.py:708] {'Loss/classification_loss': 0.14068057,\n",
            " 'Loss/localization_loss': 0.13366327,\n",
            " 'Loss/regularization_loss': 0.15345497,\n",
            " 'Loss/total_loss': 0.4277988,\n",
            " 'learning_rate': 0.079815164}\n",
            "INFO:tensorflow:Step 2600 per-step time 0.063s\n",
            "I0710 06:52:02.833190 140068657407808 model_lib_v2.py:705] Step 2600 per-step time 0.063s\n",
            "INFO:tensorflow:{'Loss/classification_loss': 0.17349096,\n",
            " 'Loss/localization_loss': 0.10718993,\n",
            " 'Loss/regularization_loss': 0.15303764,\n",
            " 'Loss/total_loss': 0.43371853,\n",
            " 'learning_rate': 0.07978972}\n",
            "I0710 06:52:02.833453 140068657407808 model_lib_v2.py:708] {'Loss/classification_loss': 0.17349096,\n",
            " 'Loss/localization_loss': 0.10718993,\n",
            " 'Loss/regularization_loss': 0.15303764,\n",
            " 'Loss/total_loss': 0.43371853,\n",
            " 'learning_rate': 0.07978972}\n",
            "INFO:tensorflow:Step 2700 per-step time 0.086s\n",
            "I0710 06:52:11.420634 140068657407808 model_lib_v2.py:705] Step 2700 per-step time 0.086s\n",
            "INFO:tensorflow:{'Loss/classification_loss': 0.24644613,\n",
            " 'Loss/localization_loss': 0.22701585,\n",
            " 'Loss/regularization_loss': 0.15276062,\n",
            " 'Loss/total_loss': 0.6262226,\n",
            " 'learning_rate': 0.07976264}\n",
            "I0710 06:52:11.421173 140068657407808 model_lib_v2.py:708] {'Loss/classification_loss': 0.24644613,\n",
            " 'Loss/localization_loss': 0.22701585,\n",
            " 'Loss/regularization_loss': 0.15276062,\n",
            " 'Loss/total_loss': 0.6262226,\n",
            " 'learning_rate': 0.07976264}\n",
            "INFO:tensorflow:Step 2800 per-step time 0.090s\n",
            "I0710 06:52:20.433490 140068657407808 model_lib_v2.py:705] Step 2800 per-step time 0.090s\n",
            "INFO:tensorflow:{'Loss/classification_loss': 0.15323211,\n",
            " 'Loss/localization_loss': 0.107654095,\n",
            " 'Loss/regularization_loss': 0.15243892,\n",
            " 'Loss/total_loss': 0.41332513,\n",
            " 'learning_rate': 0.07973392}\n",
            "I0710 06:52:20.433771 140068657407808 model_lib_v2.py:708] {'Loss/classification_loss': 0.15323211,\n",
            " 'Loss/localization_loss': 0.107654095,\n",
            " 'Loss/regularization_loss': 0.15243892,\n",
            " 'Loss/total_loss': 0.41332513,\n",
            " 'learning_rate': 0.07973392}\n",
            "INFO:tensorflow:Step 2900 per-step time 0.064s\n",
            "I0710 06:52:26.790179 140068657407808 model_lib_v2.py:705] Step 2900 per-step time 0.064s\n",
            "INFO:tensorflow:{'Loss/classification_loss': 0.10452156,\n",
            " 'Loss/localization_loss': 0.11531801,\n",
            " 'Loss/regularization_loss': 0.15206985,\n",
            " 'Loss/total_loss': 0.37190944,\n",
            " 'learning_rate': 0.07970358}\n",
            "I0710 06:52:26.790547 140068657407808 model_lib_v2.py:708] {'Loss/classification_loss': 0.10452156,\n",
            " 'Loss/localization_loss': 0.11531801,\n",
            " 'Loss/regularization_loss': 0.15206985,\n",
            " 'Loss/total_loss': 0.37190944,\n",
            " 'learning_rate': 0.07970358}\n",
            "INFO:tensorflow:Step 3000 per-step time 0.088s\n",
            "I0710 06:52:35.590833 140068657407808 model_lib_v2.py:705] Step 3000 per-step time 0.088s\n",
            "INFO:tensorflow:{'Loss/classification_loss': 0.29072797,\n",
            " 'Loss/localization_loss': 0.21836923,\n",
            " 'Loss/regularization_loss': 0.15172629,\n",
            " 'Loss/total_loss': 0.6608235,\n",
            " 'learning_rate': 0.0796716}\n",
            "I0710 06:52:35.591212 140068657407808 model_lib_v2.py:708] {'Loss/classification_loss': 0.29072797,\n",
            " 'Loss/localization_loss': 0.21836923,\n",
            " 'Loss/regularization_loss': 0.15172629,\n",
            " 'Loss/total_loss': 0.6608235,\n",
            " 'learning_rate': 0.0796716}\n",
            "INFO:tensorflow:Step 3100 per-step time 0.100s\n",
            "I0710 06:52:45.538270 140068657407808 model_lib_v2.py:705] Step 3100 per-step time 0.100s\n",
            "INFO:tensorflow:{'Loss/classification_loss': 0.12945636,\n",
            " 'Loss/localization_loss': 0.10089495,\n",
            " 'Loss/regularization_loss': 0.15155494,\n",
            " 'Loss/total_loss': 0.38190624,\n",
            " 'learning_rate': 0.07963799}\n",
            "I0710 06:52:45.538681 140068657407808 model_lib_v2.py:708] {'Loss/classification_loss': 0.12945636,\n",
            " 'Loss/localization_loss': 0.10089495,\n",
            " 'Loss/regularization_loss': 0.15155494,\n",
            " 'Loss/total_loss': 0.38190624,\n",
            " 'learning_rate': 0.07963799}\n",
            "INFO:tensorflow:Step 3200 per-step time 0.065s\n",
            "I0710 06:52:52.058830 140068657407808 model_lib_v2.py:705] Step 3200 per-step time 0.065s\n",
            "INFO:tensorflow:{'Loss/classification_loss': 0.24706614,\n",
            " 'Loss/localization_loss': 0.14940624,\n",
            " 'Loss/regularization_loss': 0.15119267,\n",
            " 'Loss/total_loss': 0.54766506,\n",
            " 'learning_rate': 0.07960275}\n",
            "I0710 06:52:52.063159 140068657407808 model_lib_v2.py:708] {'Loss/classification_loss': 0.24706614,\n",
            " 'Loss/localization_loss': 0.14940624,\n",
            " 'Loss/regularization_loss': 0.15119267,\n",
            " 'Loss/total_loss': 0.54766506,\n",
            " 'learning_rate': 0.07960275}\n",
            "INFO:tensorflow:Step 3300 per-step time 0.095s\n",
            "I0710 06:53:01.522846 140068657407808 model_lib_v2.py:705] Step 3300 per-step time 0.095s\n",
            "INFO:tensorflow:{'Loss/classification_loss': 0.122902974,\n",
            " 'Loss/localization_loss': 0.13011771,\n",
            " 'Loss/regularization_loss': 0.15076205,\n",
            " 'Loss/total_loss': 0.40378276,\n",
            " 'learning_rate': 0.07956588}\n",
            "I0710 06:53:01.523245 140068657407808 model_lib_v2.py:708] {'Loss/classification_loss': 0.122902974,\n",
            " 'Loss/localization_loss': 0.13011771,\n",
            " 'Loss/regularization_loss': 0.15076205,\n",
            " 'Loss/total_loss': 0.40378276,\n",
            " 'learning_rate': 0.07956588}\n",
            "INFO:tensorflow:Step 3400 per-step time 0.083s\n",
            "I0710 06:53:09.845848 140068657407808 model_lib_v2.py:705] Step 3400 per-step time 0.083s\n",
            "INFO:tensorflow:{'Loss/classification_loss': 0.13261826,\n",
            " 'Loss/localization_loss': 0.13446435,\n",
            " 'Loss/regularization_loss': 0.15022114,\n",
            " 'Loss/total_loss': 0.41730377,\n",
            " 'learning_rate': 0.079527386}\n",
            "I0710 06:53:09.846210 140068657407808 model_lib_v2.py:708] {'Loss/classification_loss': 0.13261826,\n",
            " 'Loss/localization_loss': 0.13446435,\n",
            " 'Loss/regularization_loss': 0.15022114,\n",
            " 'Loss/total_loss': 0.41730377,\n",
            " 'learning_rate': 0.079527386}\n",
            "INFO:tensorflow:Step 3500 per-step time 0.064s\n",
            "I0710 06:53:16.236552 140068657407808 model_lib_v2.py:705] Step 3500 per-step time 0.064s\n",
            "INFO:tensorflow:{'Loss/classification_loss': 0.11737481,\n",
            " 'Loss/localization_loss': 0.13902883,\n",
            " 'Loss/regularization_loss': 0.14974494,\n",
            " 'Loss/total_loss': 0.40614855,\n",
            " 'learning_rate': 0.07948727}\n",
            "I0710 06:53:16.236864 140068657407808 model_lib_v2.py:708] {'Loss/classification_loss': 0.11737481,\n",
            " 'Loss/localization_loss': 0.13902883,\n",
            " 'Loss/regularization_loss': 0.14974494,\n",
            " 'Loss/total_loss': 0.40614855,\n",
            " 'learning_rate': 0.07948727}\n",
            "INFO:tensorflow:Step 3600 per-step time 0.096s\n",
            "I0710 06:53:25.816658 140068657407808 model_lib_v2.py:705] Step 3600 per-step time 0.096s\n",
            "INFO:tensorflow:{'Loss/classification_loss': 0.14533944,\n",
            " 'Loss/localization_loss': 0.1201169,\n",
            " 'Loss/regularization_loss': 0.14926526,\n",
            " 'Loss/total_loss': 0.4147216,\n",
            " 'learning_rate': 0.079445526}\n",
            "I0710 06:53:25.817054 140068657407808 model_lib_v2.py:708] {'Loss/classification_loss': 0.14533944,\n",
            " 'Loss/localization_loss': 0.1201169,\n",
            " 'Loss/regularization_loss': 0.14926526,\n",
            " 'Loss/total_loss': 0.4147216,\n",
            " 'learning_rate': 0.079445526}\n",
            "INFO:tensorflow:Step 3700 per-step time 0.082s\n",
            "I0710 06:53:33.992242 140068657407808 model_lib_v2.py:705] Step 3700 per-step time 0.082s\n",
            "INFO:tensorflow:{'Loss/classification_loss': 0.14026521,\n",
            " 'Loss/localization_loss': 0.114113696,\n",
            " 'Loss/regularization_loss': 0.14875019,\n",
            " 'Loss/total_loss': 0.4031291,\n",
            " 'learning_rate': 0.07940216}\n",
            "I0710 06:53:33.992522 140068657407808 model_lib_v2.py:708] {'Loss/classification_loss': 0.14026521,\n",
            " 'Loss/localization_loss': 0.114113696,\n",
            " 'Loss/regularization_loss': 0.14875019,\n",
            " 'Loss/total_loss': 0.4031291,\n",
            " 'learning_rate': 0.07940216}\n",
            "INFO:tensorflow:Step 3800 per-step time 0.064s\n",
            "I0710 06:53:40.364655 140068657407808 model_lib_v2.py:705] Step 3800 per-step time 0.064s\n",
            "INFO:tensorflow:{'Loss/classification_loss': 0.15905766,\n",
            " 'Loss/localization_loss': 0.115355805,\n",
            " 'Loss/regularization_loss': 0.14834684,\n",
            " 'Loss/total_loss': 0.4227603,\n",
            " 'learning_rate': 0.079357184}\n",
            "I0710 06:53:40.365025 140068657407808 model_lib_v2.py:708] {'Loss/classification_loss': 0.15905766,\n",
            " 'Loss/localization_loss': 0.115355805,\n",
            " 'Loss/regularization_loss': 0.14834684,\n",
            " 'Loss/total_loss': 0.4227603,\n",
            " 'learning_rate': 0.079357184}\n",
            "INFO:tensorflow:Step 3900 per-step time 0.093s\n",
            "I0710 06:53:49.701198 140068657407808 model_lib_v2.py:705] Step 3900 per-step time 0.093s\n",
            "INFO:tensorflow:{'Loss/classification_loss': 0.14427692,\n",
            " 'Loss/localization_loss': 0.059218343,\n",
            " 'Loss/regularization_loss': 0.14795776,\n",
            " 'Loss/total_loss': 0.351453,\n",
            " 'learning_rate': 0.07931058}\n",
            "I0710 06:53:49.701575 140068657407808 model_lib_v2.py:708] {'Loss/classification_loss': 0.14427692,\n",
            " 'Loss/localization_loss': 0.059218343,\n",
            " 'Loss/regularization_loss': 0.14795776,\n",
            " 'Loss/total_loss': 0.351453,\n",
            " 'learning_rate': 0.07931058}\n",
            "INFO:tensorflow:Step 4000 per-step time 0.081s\n",
            "I0710 06:53:57.799384 140068657407808 model_lib_v2.py:705] Step 4000 per-step time 0.081s\n",
            "INFO:tensorflow:{'Loss/classification_loss': 0.113814756,\n",
            " 'Loss/localization_loss': 0.09444581,\n",
            " 'Loss/regularization_loss': 0.1475555,\n",
            " 'Loss/total_loss': 0.35581607,\n",
            " 'learning_rate': 0.07926236}\n",
            "I0710 06:53:57.799654 140068657407808 model_lib_v2.py:708] {'Loss/classification_loss': 0.113814756,\n",
            " 'Loss/localization_loss': 0.09444581,\n",
            " 'Loss/regularization_loss': 0.1475555,\n",
            " 'Loss/total_loss': 0.35581607,\n",
            " 'learning_rate': 0.07926236}\n",
            "INFO:tensorflow:Step 4100 per-step time 0.076s\n",
            "I0710 06:54:05.438207 140068657407808 model_lib_v2.py:705] Step 4100 per-step time 0.076s\n",
            "INFO:tensorflow:{'Loss/classification_loss': 0.17626381,\n",
            " 'Loss/localization_loss': 0.10648195,\n",
            " 'Loss/regularization_loss': 0.14732094,\n",
            " 'Loss/total_loss': 0.4300667,\n",
            " 'learning_rate': 0.07921253}\n",
            "I0710 06:54:05.438590 140068657407808 model_lib_v2.py:708] {'Loss/classification_loss': 0.17626381,\n",
            " 'Loss/localization_loss': 0.10648195,\n",
            " 'Loss/regularization_loss': 0.14732094,\n",
            " 'Loss/total_loss': 0.4300667,\n",
            " 'learning_rate': 0.07921253}\n",
            "INFO:tensorflow:Step 4200 per-step time 0.100s\n",
            "I0710 06:54:15.366713 140068657407808 model_lib_v2.py:705] Step 4200 per-step time 0.100s\n",
            "INFO:tensorflow:{'Loss/classification_loss': 0.15770856,\n",
            " 'Loss/localization_loss': 0.09229319,\n",
            " 'Loss/regularization_loss': 0.14690009,\n",
            " 'Loss/total_loss': 0.39690182,\n",
            " 'learning_rate': 0.07916109}\n",
            "I0710 06:54:15.367092 140068657407808 model_lib_v2.py:708] {'Loss/classification_loss': 0.15770856,\n",
            " 'Loss/localization_loss': 0.09229319,\n",
            " 'Loss/regularization_loss': 0.14690009,\n",
            " 'Loss/total_loss': 0.39690182,\n",
            " 'learning_rate': 0.07916109}\n",
            "INFO:tensorflow:Step 4300 per-step time 0.077s\n",
            "I0710 06:54:23.089023 140068657407808 model_lib_v2.py:705] Step 4300 per-step time 0.077s\n",
            "INFO:tensorflow:{'Loss/classification_loss': 0.12715495,\n",
            " 'Loss/localization_loss': 0.09707669,\n",
            " 'Loss/regularization_loss': 0.14653386,\n",
            " 'Loss/total_loss': 0.3707655,\n",
            " 'learning_rate': 0.07910804}\n",
            "I0710 06:54:23.089322 140068657407808 model_lib_v2.py:708] {'Loss/classification_loss': 0.12715495,\n",
            " 'Loss/localization_loss': 0.09707669,\n",
            " 'Loss/regularization_loss': 0.14653386,\n",
            " 'Loss/total_loss': 0.3707655,\n",
            " 'learning_rate': 0.07910804}\n",
            "INFO:tensorflow:Step 4400 per-step time 0.064s\n",
            "I0710 06:54:29.504766 140068657407808 model_lib_v2.py:705] Step 4400 per-step time 0.064s\n",
            "INFO:tensorflow:{'Loss/classification_loss': 0.11128788,\n",
            " 'Loss/localization_loss': 0.06392153,\n",
            " 'Loss/regularization_loss': 0.14607075,\n",
            " 'Loss/total_loss': 0.32128015,\n",
            " 'learning_rate': 0.07905338}\n",
            "I0710 06:54:29.505123 140068657407808 model_lib_v2.py:708] {'Loss/classification_loss': 0.11128788,\n",
            " 'Loss/localization_loss': 0.06392153,\n",
            " 'Loss/regularization_loss': 0.14607075,\n",
            " 'Loss/total_loss': 0.32128015,\n",
            " 'learning_rate': 0.07905338}\n",
            "INFO:tensorflow:Step 4500 per-step time 0.100s\n",
            "I0710 06:54:39.532261 140068657407808 model_lib_v2.py:705] Step 4500 per-step time 0.100s\n",
            "INFO:tensorflow:{'Loss/classification_loss': 0.10600742,\n",
            " 'Loss/localization_loss': 0.075706266,\n",
            " 'Loss/regularization_loss': 0.14555605,\n",
            " 'Loss/total_loss': 0.32726973,\n",
            " 'learning_rate': 0.07899711}\n",
            "I0710 06:54:39.532646 140068657407808 model_lib_v2.py:708] {'Loss/classification_loss': 0.10600742,\n",
            " 'Loss/localization_loss': 0.075706266,\n",
            " 'Loss/regularization_loss': 0.14555605,\n",
            " 'Loss/total_loss': 0.32726973,\n",
            " 'learning_rate': 0.07899711}\n",
            "INFO:tensorflow:Step 4600 per-step time 0.075s\n",
            "I0710 06:54:47.048224 140068657407808 model_lib_v2.py:705] Step 4600 per-step time 0.075s\n",
            "INFO:tensorflow:{'Loss/classification_loss': 0.11962795,\n",
            " 'Loss/localization_loss': 0.1316808,\n",
            " 'Loss/regularization_loss': 0.14508279,\n",
            " 'Loss/total_loss': 0.3963915,\n",
            " 'learning_rate': 0.078939244}\n",
            "I0710 06:54:47.048585 140068657407808 model_lib_v2.py:708] {'Loss/classification_loss': 0.11962795,\n",
            " 'Loss/localization_loss': 0.1316808,\n",
            " 'Loss/regularization_loss': 0.14508279,\n",
            " 'Loss/total_loss': 0.3963915,\n",
            " 'learning_rate': 0.078939244}\n",
            "INFO:tensorflow:Step 4700 per-step time 0.065s\n",
            "I0710 06:54:53.591266 140068657407808 model_lib_v2.py:705] Step 4700 per-step time 0.065s\n",
            "INFO:tensorflow:{'Loss/classification_loss': 0.1605238,\n",
            " 'Loss/localization_loss': 0.097763,\n",
            " 'Loss/regularization_loss': 0.14464773,\n",
            " 'Loss/total_loss': 0.40293455,\n",
            " 'learning_rate': 0.07887978}\n",
            "I0710 06:54:53.591628 140068657407808 model_lib_v2.py:708] {'Loss/classification_loss': 0.1605238,\n",
            " 'Loss/localization_loss': 0.097763,\n",
            " 'Loss/regularization_loss': 0.14464773,\n",
            " 'Loss/total_loss': 0.40293455,\n",
            " 'learning_rate': 0.07887978}\n",
            "INFO:tensorflow:Step 4800 per-step time 0.100s\n",
            "I0710 06:55:03.584394 140068657407808 model_lib_v2.py:705] Step 4800 per-step time 0.100s\n",
            "INFO:tensorflow:{'Loss/classification_loss': 0.13742837,\n",
            " 'Loss/localization_loss': 0.09151817,\n",
            " 'Loss/regularization_loss': 0.14419517,\n",
            " 'Loss/total_loss': 0.3731417,\n",
            " 'learning_rate': 0.07881871}\n",
            "I0710 06:55:03.584808 140068657407808 model_lib_v2.py:708] {'Loss/classification_loss': 0.13742837,\n",
            " 'Loss/localization_loss': 0.09151817,\n",
            " 'Loss/regularization_loss': 0.14419517,\n",
            " 'Loss/total_loss': 0.3731417,\n",
            " 'learning_rate': 0.07881871}\n",
            "INFO:tensorflow:Step 4900 per-step time 0.076s\n",
            "I0710 06:55:11.139175 140068657407808 model_lib_v2.py:705] Step 4900 per-step time 0.076s\n",
            "INFO:tensorflow:{'Loss/classification_loss': 0.11055239,\n",
            " 'Loss/localization_loss': 0.05940753,\n",
            " 'Loss/regularization_loss': 0.14379291,\n",
            " 'Loss/total_loss': 0.31375283,\n",
            " 'learning_rate': 0.07875605}\n",
            "I0710 06:55:11.139487 140068657407808 model_lib_v2.py:708] {'Loss/classification_loss': 0.11055239,\n",
            " 'Loss/localization_loss': 0.05940753,\n",
            " 'Loss/regularization_loss': 0.14379291,\n",
            " 'Loss/total_loss': 0.31375283,\n",
            " 'learning_rate': 0.07875605}\n",
            "INFO:tensorflow:Step 5000 per-step time 0.065s\n",
            "I0710 06:55:17.681140 140068657407808 model_lib_v2.py:705] Step 5000 per-step time 0.065s\n",
            "INFO:tensorflow:{'Loss/classification_loss': 0.15322447,\n",
            " 'Loss/localization_loss': 0.08668652,\n",
            " 'Loss/regularization_loss': 0.14331415,\n",
            " 'Loss/total_loss': 0.38322514,\n",
            " 'learning_rate': 0.078691795}\n",
            "I0710 06:55:17.681511 140068657407808 model_lib_v2.py:708] {'Loss/classification_loss': 0.15322447,\n",
            " 'Loss/localization_loss': 0.08668652,\n",
            " 'Loss/regularization_loss': 0.14331415,\n",
            " 'Loss/total_loss': 0.38322514,\n",
            " 'learning_rate': 0.078691795}\n",
            "INFO:tensorflow:Step 5100 per-step time 0.113s\n",
            "I0710 06:55:28.952642 140068657407808 model_lib_v2.py:705] Step 5100 per-step time 0.113s\n",
            "INFO:tensorflow:{'Loss/classification_loss': 0.1170907,\n",
            " 'Loss/localization_loss': 0.10089381,\n",
            " 'Loss/regularization_loss': 0.14298819,\n",
            " 'Loss/total_loss': 0.3609727,\n",
            " 'learning_rate': 0.07862595}\n",
            "I0710 06:55:28.953086 140068657407808 model_lib_v2.py:708] {'Loss/classification_loss': 0.1170907,\n",
            " 'Loss/localization_loss': 0.10089381,\n",
            " 'Loss/regularization_loss': 0.14298819,\n",
            " 'Loss/total_loss': 0.3609727,\n",
            " 'learning_rate': 0.07862595}\n",
            "INFO:tensorflow:Step 5200 per-step time 0.071s\n",
            "I0710 06:55:36.055026 140068657407808 model_lib_v2.py:705] Step 5200 per-step time 0.071s\n",
            "INFO:tensorflow:{'Loss/classification_loss': 0.104607634,\n",
            " 'Loss/localization_loss': 0.11020928,\n",
            " 'Loss/regularization_loss': 0.14258584,\n",
            " 'Loss/total_loss': 0.35740274,\n",
            " 'learning_rate': 0.07855851}\n",
            "I0710 06:55:36.055312 140068657407808 model_lib_v2.py:708] {'Loss/classification_loss': 0.104607634,\n",
            " 'Loss/localization_loss': 0.11020928,\n",
            " 'Loss/regularization_loss': 0.14258584,\n",
            " 'Loss/total_loss': 0.35740274,\n",
            " 'learning_rate': 0.07855851}\n",
            "INFO:tensorflow:Step 5300 per-step time 0.074s\n",
            "I0710 06:55:43.468279 140068657407808 model_lib_v2.py:705] Step 5300 per-step time 0.074s\n",
            "INFO:tensorflow:{'Loss/classification_loss': 0.13794512,\n",
            " 'Loss/localization_loss': 0.09223715,\n",
            " 'Loss/regularization_loss': 0.1421372,\n",
            " 'Loss/total_loss': 0.37231946,\n",
            " 'learning_rate': 0.07848949}\n",
            "I0710 06:55:43.468633 140068657407808 model_lib_v2.py:708] {'Loss/classification_loss': 0.13794512,\n",
            " 'Loss/localization_loss': 0.09223715,\n",
            " 'Loss/regularization_loss': 0.1421372,\n",
            " 'Loss/total_loss': 0.37231946,\n",
            " 'learning_rate': 0.07848949}\n",
            "INFO:tensorflow:Step 5400 per-step time 0.098s\n",
            "I0710 06:55:53.267601 140068657407808 model_lib_v2.py:705] Step 5400 per-step time 0.098s\n",
            "INFO:tensorflow:{'Loss/classification_loss': 0.14593425,\n",
            " 'Loss/localization_loss': 0.10696146,\n",
            " 'Loss/regularization_loss': 0.14254051,\n",
            " 'Loss/total_loss': 0.39543623,\n",
            " 'learning_rate': 0.078418896}\n",
            "I0710 06:55:53.267981 140068657407808 model_lib_v2.py:708] {'Loss/classification_loss': 0.14593425,\n",
            " 'Loss/localization_loss': 0.10696146,\n",
            " 'Loss/regularization_loss': 0.14254051,\n",
            " 'Loss/total_loss': 0.39543623,\n",
            " 'learning_rate': 0.078418896}\n",
            "INFO:tensorflow:Step 5500 per-step time 0.070s\n",
            "I0710 06:56:00.227705 140068657407808 model_lib_v2.py:705] Step 5500 per-step time 0.070s\n",
            "INFO:tensorflow:{'Loss/classification_loss': 0.079268925,\n",
            " 'Loss/localization_loss': 0.06601551,\n",
            " 'Loss/regularization_loss': 0.14229621,\n",
            " 'Loss/total_loss': 0.28758067,\n",
            " 'learning_rate': 0.078346714}\n",
            "I0710 06:56:00.227992 140068657407808 model_lib_v2.py:708] {'Loss/classification_loss': 0.079268925,\n",
            " 'Loss/localization_loss': 0.06601551,\n",
            " 'Loss/regularization_loss': 0.14229621,\n",
            " 'Loss/total_loss': 0.28758067,\n",
            " 'learning_rate': 0.078346714}\n",
            "INFO:tensorflow:Step 5600 per-step time 0.072s\n",
            "I0710 06:56:07.470586 140068657407808 model_lib_v2.py:705] Step 5600 per-step time 0.072s\n",
            "INFO:tensorflow:{'Loss/classification_loss': 0.17463626,\n",
            " 'Loss/localization_loss': 0.12127421,\n",
            " 'Loss/regularization_loss': 0.14185506,\n",
            " 'Loss/total_loss': 0.43776554,\n",
            " 'learning_rate': 0.07827295}\n",
            "I0710 06:56:07.470964 140068657407808 model_lib_v2.py:708] {'Loss/classification_loss': 0.17463626,\n",
            " 'Loss/localization_loss': 0.12127421,\n",
            " 'Loss/regularization_loss': 0.14185506,\n",
            " 'Loss/total_loss': 0.43776554,\n",
            " 'learning_rate': 0.07827295}\n",
            "INFO:tensorflow:Step 5700 per-step time 0.097s\n",
            "I0710 06:56:17.140107 140068657407808 model_lib_v2.py:705] Step 5700 per-step time 0.097s\n",
            "INFO:tensorflow:{'Loss/classification_loss': 0.13321412,\n",
            " 'Loss/localization_loss': 0.109086074,\n",
            " 'Loss/regularization_loss': 0.14183758,\n",
            " 'Loss/total_loss': 0.38413775,\n",
            " 'learning_rate': 0.07819763}\n",
            "I0710 06:56:17.140466 140068657407808 model_lib_v2.py:708] {'Loss/classification_loss': 0.13321412,\n",
            " 'Loss/localization_loss': 0.109086074,\n",
            " 'Loss/regularization_loss': 0.14183758,\n",
            " 'Loss/total_loss': 0.38413775,\n",
            " 'learning_rate': 0.07819763}\n",
            "INFO:tensorflow:Step 5800 per-step time 0.069s\n",
            "I0710 06:56:24.055242 140068657407808 model_lib_v2.py:705] Step 5800 per-step time 0.069s\n",
            "INFO:tensorflow:{'Loss/classification_loss': 0.09147876,\n",
            " 'Loss/localization_loss': 0.052144222,\n",
            " 'Loss/regularization_loss': 0.14136666,\n",
            " 'Loss/total_loss': 0.28498966,\n",
            " 'learning_rate': 0.07812072}\n",
            "I0710 06:56:24.055534 140068657407808 model_lib_v2.py:708] {'Loss/classification_loss': 0.09147876,\n",
            " 'Loss/localization_loss': 0.052144222,\n",
            " 'Loss/regularization_loss': 0.14136666,\n",
            " 'Loss/total_loss': 0.28498966,\n",
            " 'learning_rate': 0.07812072}\n",
            "INFO:tensorflow:Step 5900 per-step time 0.072s\n",
            "I0710 06:56:31.314690 140068657407808 model_lib_v2.py:705] Step 5900 per-step time 0.072s\n",
            "INFO:tensorflow:{'Loss/classification_loss': 0.11282702,\n",
            " 'Loss/localization_loss': 0.10573685,\n",
            " 'Loss/regularization_loss': 0.14123106,\n",
            " 'Loss/total_loss': 0.3597949,\n",
            " 'learning_rate': 0.078042254}\n",
            "I0710 06:56:31.318255 140068657407808 model_lib_v2.py:708] {'Loss/classification_loss': 0.11282702,\n",
            " 'Loss/localization_loss': 0.10573685,\n",
            " 'Loss/regularization_loss': 0.14123106,\n",
            " 'Loss/total_loss': 0.3597949,\n",
            " 'learning_rate': 0.078042254}\n",
            "INFO:tensorflow:Step 6000 per-step time 0.098s\n",
            "I0710 06:56:41.138306 140068657407808 model_lib_v2.py:705] Step 6000 per-step time 0.098s\n",
            "INFO:tensorflow:{'Loss/classification_loss': 0.11531773,\n",
            " 'Loss/localization_loss': 0.08658614,\n",
            " 'Loss/regularization_loss': 0.14098492,\n",
            " 'Loss/total_loss': 0.3428888,\n",
            " 'learning_rate': 0.07796223}\n",
            "I0710 06:56:41.138688 140068657407808 model_lib_v2.py:708] {'Loss/classification_loss': 0.11531773,\n",
            " 'Loss/localization_loss': 0.08658614,\n",
            " 'Loss/regularization_loss': 0.14098492,\n",
            " 'Loss/total_loss': 0.3428888,\n",
            " 'learning_rate': 0.07796223}\n",
            "INFO:tensorflow:Step 6100 per-step time 0.080s\n",
            "I0710 06:56:49.165180 140068657407808 model_lib_v2.py:705] Step 6100 per-step time 0.080s\n",
            "INFO:tensorflow:{'Loss/classification_loss': 0.111705415,\n",
            " 'Loss/localization_loss': 0.14161575,\n",
            " 'Loss/regularization_loss': 0.1404995,\n",
            " 'Loss/total_loss': 0.39382067,\n",
            " 'learning_rate': 0.077880636}\n",
            "I0710 06:56:49.165487 140068657407808 model_lib_v2.py:708] {'Loss/classification_loss': 0.111705415,\n",
            " 'Loss/localization_loss': 0.14161575,\n",
            " 'Loss/regularization_loss': 0.1404995,\n",
            " 'Loss/total_loss': 0.39382067,\n",
            " 'learning_rate': 0.077880636}\n",
            "INFO:tensorflow:Step 6200 per-step time 0.081s\n",
            "I0710 06:56:57.228057 140068657407808 model_lib_v2.py:705] Step 6200 per-step time 0.081s\n",
            "INFO:tensorflow:{'Loss/classification_loss': 0.112683244,\n",
            " 'Loss/localization_loss': 0.08649924,\n",
            " 'Loss/regularization_loss': 0.1400414,\n",
            " 'Loss/total_loss': 0.33922386,\n",
            " 'learning_rate': 0.07779749}\n",
            "I0710 06:56:57.228448 140068657407808 model_lib_v2.py:708] {'Loss/classification_loss': 0.112683244,\n",
            " 'Loss/localization_loss': 0.08649924,\n",
            " 'Loss/regularization_loss': 0.1400414,\n",
            " 'Loss/total_loss': 0.33922386,\n",
            " 'learning_rate': 0.07779749}\n",
            "INFO:tensorflow:Step 6300 per-step time 0.095s\n",
            "I0710 06:57:06.680985 140068657407808 model_lib_v2.py:705] Step 6300 per-step time 0.095s\n",
            "INFO:tensorflow:{'Loss/classification_loss': 0.22445269,\n",
            " 'Loss/localization_loss': 0.23276773,\n",
            " 'Loss/regularization_loss': 0.13955852,\n",
            " 'Loss/total_loss': 0.596779,\n",
            " 'learning_rate': 0.07771279}\n",
            "I0710 06:57:06.681404 140068657407808 model_lib_v2.py:708] {'Loss/classification_loss': 0.22445269,\n",
            " 'Loss/localization_loss': 0.23276773,\n",
            " 'Loss/regularization_loss': 0.13955852,\n",
            " 'Loss/total_loss': 0.596779,\n",
            " 'learning_rate': 0.07771279}\n",
            "INFO:tensorflow:Step 6400 per-step time 0.064s\n",
            "I0710 06:57:13.110502 140068657407808 model_lib_v2.py:705] Step 6400 per-step time 0.064s\n",
            "INFO:tensorflow:{'Loss/classification_loss': 0.10732931,\n",
            " 'Loss/localization_loss': 0.070485555,\n",
            " 'Loss/regularization_loss': 0.13907349,\n",
            " 'Loss/total_loss': 0.31688836,\n",
            " 'learning_rate': 0.077626534}\n",
            "I0710 06:57:13.110836 140068657407808 model_lib_v2.py:708] {'Loss/classification_loss': 0.10732931,\n",
            " 'Loss/localization_loss': 0.070485555,\n",
            " 'Loss/regularization_loss': 0.13907349,\n",
            " 'Loss/total_loss': 0.31688836,\n",
            " 'learning_rate': 0.077626534}\n",
            "INFO:tensorflow:Step 6500 per-step time 0.078s\n",
            "I0710 06:57:20.908179 140068657407808 model_lib_v2.py:705] Step 6500 per-step time 0.078s\n",
            "INFO:tensorflow:{'Loss/classification_loss': 0.18694495,\n",
            " 'Loss/localization_loss': 0.1642429,\n",
            " 'Loss/regularization_loss': 0.13855477,\n",
            " 'Loss/total_loss': 0.48974258,\n",
            " 'learning_rate': 0.077538736}\n",
            "I0710 06:57:20.908611 140068657407808 model_lib_v2.py:708] {'Loss/classification_loss': 0.18694495,\n",
            " 'Loss/localization_loss': 0.1642429,\n",
            " 'Loss/regularization_loss': 0.13855477,\n",
            " 'Loss/total_loss': 0.48974258,\n",
            " 'learning_rate': 0.077538736}\n",
            "INFO:tensorflow:Step 6600 per-step time 0.097s\n",
            "I0710 06:57:30.625637 140068657407808 model_lib_v2.py:705] Step 6600 per-step time 0.097s\n",
            "INFO:tensorflow:{'Loss/classification_loss': 0.14185487,\n",
            " 'Loss/localization_loss': 0.11597836,\n",
            " 'Loss/regularization_loss': 0.13811322,\n",
            " 'Loss/total_loss': 0.39594644,\n",
            " 'learning_rate': 0.077449396}\n",
            "I0710 06:57:30.626054 140068657407808 model_lib_v2.py:708] {'Loss/classification_loss': 0.14185487,\n",
            " 'Loss/localization_loss': 0.11597836,\n",
            " 'Loss/regularization_loss': 0.13811322,\n",
            " 'Loss/total_loss': 0.39594644,\n",
            " 'learning_rate': 0.077449396}\n",
            "INFO:tensorflow:Step 6700 per-step time 0.064s\n",
            "I0710 06:57:37.009675 140068657407808 model_lib_v2.py:705] Step 6700 per-step time 0.064s\n",
            "INFO:tensorflow:{'Loss/classification_loss': 0.21898651,\n",
            " 'Loss/localization_loss': 0.18977652,\n",
            " 'Loss/regularization_loss': 0.13760522,\n",
            " 'Loss/total_loss': 0.54636824,\n",
            " 'learning_rate': 0.077358514}\n",
            "I0710 06:57:37.009986 140068657407808 model_lib_v2.py:708] {'Loss/classification_loss': 0.21898651,\n",
            " 'Loss/localization_loss': 0.18977652,\n",
            " 'Loss/regularization_loss': 0.13760522,\n",
            " 'Loss/total_loss': 0.54636824,\n",
            " 'learning_rate': 0.077358514}\n",
            "INFO:tensorflow:Step 6800 per-step time 0.080s\n",
            "I0710 06:57:44.985450 140068657407808 model_lib_v2.py:705] Step 6800 per-step time 0.080s\n",
            "INFO:tensorflow:{'Loss/classification_loss': 0.12643045,\n",
            " 'Loss/localization_loss': 0.09756463,\n",
            " 'Loss/regularization_loss': 0.13730583,\n",
            " 'Loss/total_loss': 0.36130092,\n",
            " 'learning_rate': 0.0772661}\n",
            "I0710 06:57:44.985819 140068657407808 model_lib_v2.py:708] {'Loss/classification_loss': 0.12643045,\n",
            " 'Loss/localization_loss': 0.09756463,\n",
            " 'Loss/regularization_loss': 0.13730583,\n",
            " 'Loss/total_loss': 0.36130092,\n",
            " 'learning_rate': 0.0772661}\n",
            "INFO:tensorflow:Step 6900 per-step time 0.096s\n",
            "I0710 06:57:54.610324 140068657407808 model_lib_v2.py:705] Step 6900 per-step time 0.096s\n",
            "INFO:tensorflow:{'Loss/classification_loss': 0.14175336,\n",
            " 'Loss/localization_loss': 0.08796459,\n",
            " 'Loss/regularization_loss': 0.13692383,\n",
            " 'Loss/total_loss': 0.36664176,\n",
            " 'learning_rate': 0.077172145}\n",
            "I0710 06:57:54.610687 140068657407808 model_lib_v2.py:708] {'Loss/classification_loss': 0.14175336,\n",
            " 'Loss/localization_loss': 0.08796459,\n",
            " 'Loss/regularization_loss': 0.13692383,\n",
            " 'Loss/total_loss': 0.36664176,\n",
            " 'learning_rate': 0.077172145}\n",
            "INFO:tensorflow:Step 7000 per-step time 0.064s\n",
            "I0710 06:58:01.057403 140068657407808 model_lib_v2.py:705] Step 7000 per-step time 0.064s\n",
            "INFO:tensorflow:{'Loss/classification_loss': 0.15940998,\n",
            " 'Loss/localization_loss': 0.06770567,\n",
            " 'Loss/regularization_loss': 0.1363649,\n",
            " 'Loss/total_loss': 0.36348057,\n",
            " 'learning_rate': 0.07707667}\n",
            "I0710 06:58:01.057697 140068657407808 model_lib_v2.py:708] {'Loss/classification_loss': 0.15940998,\n",
            " 'Loss/localization_loss': 0.06770567,\n",
            " 'Loss/regularization_loss': 0.1363649,\n",
            " 'Loss/total_loss': 0.36348057,\n",
            " 'learning_rate': 0.07707667}\n",
            "INFO:tensorflow:Step 7100 per-step time 0.094s\n",
            "I0710 06:58:10.501043 140068657407808 model_lib_v2.py:705] Step 7100 per-step time 0.094s\n",
            "INFO:tensorflow:{'Loss/classification_loss': 0.08564283,\n",
            " 'Loss/localization_loss': 0.06560542,\n",
            " 'Loss/regularization_loss': 0.13590533,\n",
            " 'Loss/total_loss': 0.28715357,\n",
            " 'learning_rate': 0.07697967}\n",
            "I0710 06:58:10.501413 140068657407808 model_lib_v2.py:708] {'Loss/classification_loss': 0.08564283,\n",
            " 'Loss/localization_loss': 0.06560542,\n",
            " 'Loss/regularization_loss': 0.13590533,\n",
            " 'Loss/total_loss': 0.28715357,\n",
            " 'learning_rate': 0.07697967}\n",
            "INFO:tensorflow:Step 7200 per-step time 0.092s\n",
            "I0710 06:58:19.738530 140068657407808 model_lib_v2.py:705] Step 7200 per-step time 0.092s\n",
            "INFO:tensorflow:{'Loss/classification_loss': 0.10487135,\n",
            " 'Loss/localization_loss': 0.062378768,\n",
            " 'Loss/regularization_loss': 0.13540423,\n",
            " 'Loss/total_loss': 0.30265433,\n",
            " 'learning_rate': 0.07688115}\n",
            "I0710 06:58:19.738880 140068657407808 model_lib_v2.py:708] {'Loss/classification_loss': 0.10487135,\n",
            " 'Loss/localization_loss': 0.062378768,\n",
            " 'Loss/regularization_loss': 0.13540423,\n",
            " 'Loss/total_loss': 0.30265433,\n",
            " 'learning_rate': 0.07688115}\n",
            "INFO:tensorflow:Step 7300 per-step time 0.063s\n",
            "I0710 06:58:26.059041 140068657407808 model_lib_v2.py:705] Step 7300 per-step time 0.063s\n",
            "INFO:tensorflow:{'Loss/classification_loss': 0.17413312,\n",
            " 'Loss/localization_loss': 0.19391163,\n",
            " 'Loss/regularization_loss': 0.13492745,\n",
            " 'Loss/total_loss': 0.5029722,\n",
            " 'learning_rate': 0.07678111}\n",
            "I0710 06:58:26.059374 140068657407808 model_lib_v2.py:708] {'Loss/classification_loss': 0.17413312,\n",
            " 'Loss/localization_loss': 0.19391163,\n",
            " 'Loss/regularization_loss': 0.13492745,\n",
            " 'Loss/total_loss': 0.5029722,\n",
            " 'learning_rate': 0.07678111}\n",
            "INFO:tensorflow:Step 7400 per-step time 0.083s\n",
            "I0710 06:58:34.333129 140068657407808 model_lib_v2.py:705] Step 7400 per-step time 0.083s\n",
            "INFO:tensorflow:{'Loss/classification_loss': 0.12241596,\n",
            " 'Loss/localization_loss': 0.05914683,\n",
            " 'Loss/regularization_loss': 0.13444127,\n",
            " 'Loss/total_loss': 0.31600404,\n",
            " 'learning_rate': 0.076679565}\n",
            "I0710 06:58:34.333492 140068657407808 model_lib_v2.py:708] {'Loss/classification_loss': 0.12241596,\n",
            " 'Loss/localization_loss': 0.05914683,\n",
            " 'Loss/regularization_loss': 0.13444127,\n",
            " 'Loss/total_loss': 0.31600404,\n",
            " 'learning_rate': 0.076679565}\n",
            "INFO:tensorflow:Step 7500 per-step time 0.094s\n",
            "I0710 06:58:43.698851 140068657407808 model_lib_v2.py:705] Step 7500 per-step time 0.094s\n",
            "INFO:tensorflow:{'Loss/classification_loss': 0.08415853,\n",
            " 'Loss/localization_loss': 0.042873356,\n",
            " 'Loss/regularization_loss': 0.13398865,\n",
            " 'Loss/total_loss': 0.26102054,\n",
            " 'learning_rate': 0.0765765}\n",
            "I0710 06:58:43.699142 140068657407808 model_lib_v2.py:708] {'Loss/classification_loss': 0.08415853,\n",
            " 'Loss/localization_loss': 0.042873356,\n",
            " 'Loss/regularization_loss': 0.13398865,\n",
            " 'Loss/total_loss': 0.26102054,\n",
            " 'learning_rate': 0.0765765}\n",
            "INFO:tensorflow:Step 7600 per-step time 0.063s\n",
            "I0710 06:58:50.012016 140068657407808 model_lib_v2.py:705] Step 7600 per-step time 0.063s\n",
            "INFO:tensorflow:{'Loss/classification_loss': 0.09405085,\n",
            " 'Loss/localization_loss': 0.06689902,\n",
            " 'Loss/regularization_loss': 0.13350712,\n",
            " 'Loss/total_loss': 0.29445696,\n",
            " 'learning_rate': 0.07647194}\n",
            "I0710 06:58:50.012356 140068657407808 model_lib_v2.py:708] {'Loss/classification_loss': 0.09405085,\n",
            " 'Loss/localization_loss': 0.06689902,\n",
            " 'Loss/regularization_loss': 0.13350712,\n",
            " 'Loss/total_loss': 0.29445696,\n",
            " 'learning_rate': 0.07647194}\n",
            "INFO:tensorflow:Step 7700 per-step time 0.083s\n",
            "I0710 06:58:58.367029 140068657407808 model_lib_v2.py:705] Step 7700 per-step time 0.083s\n",
            "INFO:tensorflow:{'Loss/classification_loss': 0.121156074,\n",
            " 'Loss/localization_loss': 0.08983662,\n",
            " 'Loss/regularization_loss': 0.13306244,\n",
            " 'Loss/total_loss': 0.34405512,\n",
            " 'learning_rate': 0.07636588}\n",
            "I0710 06:58:58.367426 140068657407808 model_lib_v2.py:708] {'Loss/classification_loss': 0.121156074,\n",
            " 'Loss/localization_loss': 0.08983662,\n",
            " 'Loss/regularization_loss': 0.13306244,\n",
            " 'Loss/total_loss': 0.34405512,\n",
            " 'learning_rate': 0.07636588}\n",
            "INFO:tensorflow:Step 7800 per-step time 0.092s\n",
            "I0710 06:59:07.561392 140068657407808 model_lib_v2.py:705] Step 7800 per-step time 0.092s\n",
            "INFO:tensorflow:{'Loss/classification_loss': 0.08768885,\n",
            " 'Loss/localization_loss': 0.09821245,\n",
            " 'Loss/regularization_loss': 0.13255356,\n",
            " 'Loss/total_loss': 0.31845486,\n",
            " 'learning_rate': 0.07625833}\n",
            "I0710 06:59:07.561705 140068657407808 model_lib_v2.py:708] {'Loss/classification_loss': 0.08768885,\n",
            " 'Loss/localization_loss': 0.09821245,\n",
            " 'Loss/regularization_loss': 0.13255356,\n",
            " 'Loss/total_loss': 0.31845486,\n",
            " 'learning_rate': 0.07625833}\n",
            "INFO:tensorflow:Step 7900 per-step time 0.064s\n",
            "I0710 06:59:13.966498 140068657407808 model_lib_v2.py:705] Step 7900 per-step time 0.064s\n",
            "INFO:tensorflow:{'Loss/classification_loss': 0.0975971,\n",
            " 'Loss/localization_loss': 0.05962409,\n",
            " 'Loss/regularization_loss': 0.13203348,\n",
            " 'Loss/total_loss': 0.28925467,\n",
            " 'learning_rate': 0.07614928}\n",
            "I0710 06:59:13.966830 140068657407808 model_lib_v2.py:708] {'Loss/classification_loss': 0.0975971,\n",
            " 'Loss/localization_loss': 0.05962409,\n",
            " 'Loss/regularization_loss': 0.13203348,\n",
            " 'Loss/total_loss': 0.28925467,\n",
            " 'learning_rate': 0.07614928}\n",
            "INFO:tensorflow:Step 8000 per-step time 0.082s\n",
            "I0710 06:59:22.212262 140068657407808 model_lib_v2.py:705] Step 8000 per-step time 0.082s\n",
            "INFO:tensorflow:{'Loss/classification_loss': 0.13672923,\n",
            " 'Loss/localization_loss': 0.15865341,\n",
            " 'Loss/regularization_loss': 0.13169172,\n",
            " 'Loss/total_loss': 0.42707434,\n",
            " 'learning_rate': 0.07603875}\n",
            "I0710 06:59:22.212651 140068657407808 model_lib_v2.py:708] {'Loss/classification_loss': 0.13672923,\n",
            " 'Loss/localization_loss': 0.15865341,\n",
            " 'Loss/regularization_loss': 0.13169172,\n",
            " 'Loss/total_loss': 0.42707434,\n",
            " 'learning_rate': 0.07603875}\n",
            "INFO:tensorflow:Step 8100 per-step time 0.106s\n",
            "I0710 06:59:32.759832 140068657407808 model_lib_v2.py:705] Step 8100 per-step time 0.106s\n",
            "INFO:tensorflow:{'Loss/classification_loss': 0.14442989,\n",
            " 'Loss/localization_loss': 0.10687967,\n",
            " 'Loss/regularization_loss': 0.13122377,\n",
            " 'Loss/total_loss': 0.38253334,\n",
            " 'learning_rate': 0.07592674}\n",
            "I0710 06:59:32.760217 140068657407808 model_lib_v2.py:708] {'Loss/classification_loss': 0.14442989,\n",
            " 'Loss/localization_loss': 0.10687967,\n",
            " 'Loss/regularization_loss': 0.13122377,\n",
            " 'Loss/total_loss': 0.38253334,\n",
            " 'learning_rate': 0.07592674}\n",
            "INFO:tensorflow:Step 8200 per-step time 0.064s\n",
            "I0710 06:59:39.118739 140068657407808 model_lib_v2.py:705] Step 8200 per-step time 0.064s\n",
            "INFO:tensorflow:{'Loss/classification_loss': 0.12728558,\n",
            " 'Loss/localization_loss': 0.07625669,\n",
            " 'Loss/regularization_loss': 0.13079555,\n",
            " 'Loss/total_loss': 0.33433783,\n",
            " 'learning_rate': 0.075813256}\n",
            "I0710 06:59:39.119060 140068657407808 model_lib_v2.py:708] {'Loss/classification_loss': 0.12728558,\n",
            " 'Loss/localization_loss': 0.07625669,\n",
            " 'Loss/regularization_loss': 0.13079555,\n",
            " 'Loss/total_loss': 0.33433783,\n",
            " 'learning_rate': 0.075813256}\n",
            "INFO:tensorflow:Step 8300 per-step time 0.091s\n",
            "I0710 06:59:48.190034 140068657407808 model_lib_v2.py:705] Step 8300 per-step time 0.091s\n",
            "INFO:tensorflow:{'Loss/classification_loss': 0.10758084,\n",
            " 'Loss/localization_loss': 0.06837919,\n",
            " 'Loss/regularization_loss': 0.13036472,\n",
            " 'Loss/total_loss': 0.30632475,\n",
            " 'learning_rate': 0.07569829}\n",
            "I0710 06:59:48.190385 140068657407808 model_lib_v2.py:708] {'Loss/classification_loss': 0.10758084,\n",
            " 'Loss/localization_loss': 0.06837919,\n",
            " 'Loss/regularization_loss': 0.13036472,\n",
            " 'Loss/total_loss': 0.30632475,\n",
            " 'learning_rate': 0.07569829}\n",
            "INFO:tensorflow:Step 8400 per-step time 0.087s\n",
            "I0710 06:59:56.844212 140068657407808 model_lib_v2.py:705] Step 8400 per-step time 0.087s\n",
            "INFO:tensorflow:{'Loss/classification_loss': 0.06283113,\n",
            " 'Loss/localization_loss': 0.06192944,\n",
            " 'Loss/regularization_loss': 0.12986925,\n",
            " 'Loss/total_loss': 0.25462982,\n",
            " 'learning_rate': 0.07558186}\n",
            "I0710 06:59:56.844555 140068657407808 model_lib_v2.py:708] {'Loss/classification_loss': 0.06283113,\n",
            " 'Loss/localization_loss': 0.06192944,\n",
            " 'Loss/regularization_loss': 0.12986925,\n",
            " 'Loss/total_loss': 0.25462982,\n",
            " 'learning_rate': 0.07558186}\n",
            "INFO:tensorflow:Step 8500 per-step time 0.063s\n",
            "I0710 07:00:03.187636 140068657407808 model_lib_v2.py:705] Step 8500 per-step time 0.063s\n",
            "INFO:tensorflow:{'Loss/classification_loss': 0.10041402,\n",
            " 'Loss/localization_loss': 0.0525283,\n",
            " 'Loss/regularization_loss': 0.12945838,\n",
            " 'Loss/total_loss': 0.28240073,\n",
            " 'learning_rate': 0.07546397}\n",
            "I0710 07:00:03.187937 140068657407808 model_lib_v2.py:708] {'Loss/classification_loss': 0.10041402,\n",
            " 'Loss/localization_loss': 0.0525283,\n",
            " 'Loss/regularization_loss': 0.12945838,\n",
            " 'Loss/total_loss': 0.28240073,\n",
            " 'learning_rate': 0.07546397}\n",
            "INFO:tensorflow:Step 8600 per-step time 0.089s\n",
            "I0710 07:00:12.063621 140068657407808 model_lib_v2.py:705] Step 8600 per-step time 0.089s\n",
            "INFO:tensorflow:{'Loss/classification_loss': 0.1016433,\n",
            " 'Loss/localization_loss': 0.07143316,\n",
            " 'Loss/regularization_loss': 0.12920612,\n",
            " 'Loss/total_loss': 0.30228257,\n",
            " 'learning_rate': 0.075344615}\n",
            "I0710 07:00:12.063999 140068657407808 model_lib_v2.py:708] {'Loss/classification_loss': 0.1016433,\n",
            " 'Loss/localization_loss': 0.07143316,\n",
            " 'Loss/regularization_loss': 0.12920612,\n",
            " 'Loss/total_loss': 0.30228257,\n",
            " 'learning_rate': 0.075344615}\n",
            "INFO:tensorflow:Step 8700 per-step time 0.086s\n",
            "I0710 07:00:20.663034 140068657407808 model_lib_v2.py:705] Step 8700 per-step time 0.086s\n",
            "INFO:tensorflow:{'Loss/classification_loss': 0.091362976,\n",
            " 'Loss/localization_loss': 0.08789706,\n",
            " 'Loss/regularization_loss': 0.12883943,\n",
            " 'Loss/total_loss': 0.30809948,\n",
            " 'learning_rate': 0.07522382}\n",
            "I0710 07:00:20.663340 140068657407808 model_lib_v2.py:708] {'Loss/classification_loss': 0.091362976,\n",
            " 'Loss/localization_loss': 0.08789706,\n",
            " 'Loss/regularization_loss': 0.12883943,\n",
            " 'Loss/total_loss': 0.30809948,\n",
            " 'learning_rate': 0.07522382}\n",
            "INFO:tensorflow:Step 8800 per-step time 0.064s\n",
            "I0710 07:00:27.063027 140068657407808 model_lib_v2.py:705] Step 8800 per-step time 0.064s\n",
            "INFO:tensorflow:{'Loss/classification_loss': 0.07443739,\n",
            " 'Loss/localization_loss': 0.08632936,\n",
            " 'Loss/regularization_loss': 0.12837163,\n",
            " 'Loss/total_loss': 0.28913838,\n",
            " 'learning_rate': 0.07510157}\n",
            "I0710 07:00:27.063357 140068657407808 model_lib_v2.py:708] {'Loss/classification_loss': 0.07443739,\n",
            " 'Loss/localization_loss': 0.08632936,\n",
            " 'Loss/regularization_loss': 0.12837163,\n",
            " 'Loss/total_loss': 0.28913838,\n",
            " 'learning_rate': 0.07510157}\n",
            "INFO:tensorflow:Step 8900 per-step time 0.089s\n",
            "I0710 07:00:35.951051 140068657407808 model_lib_v2.py:705] Step 8900 per-step time 0.089s\n",
            "INFO:tensorflow:{'Loss/classification_loss': 0.096269354,\n",
            " 'Loss/localization_loss': 0.044355404,\n",
            " 'Loss/regularization_loss': 0.12796398,\n",
            " 'Loss/total_loss': 0.26858872,\n",
            " 'learning_rate': 0.074977875}\n",
            "I0710 07:00:35.951428 140068657407808 model_lib_v2.py:708] {'Loss/classification_loss': 0.096269354,\n",
            " 'Loss/localization_loss': 0.044355404,\n",
            " 'Loss/regularization_loss': 0.12796398,\n",
            " 'Loss/total_loss': 0.26858872,\n",
            " 'learning_rate': 0.074977875}\n",
            "INFO:tensorflow:Step 9000 per-step time 0.086s\n",
            "I0710 07:00:44.590331 140068657407808 model_lib_v2.py:705] Step 9000 per-step time 0.086s\n",
            "INFO:tensorflow:{'Loss/classification_loss': 0.106337965,\n",
            " 'Loss/localization_loss': 0.11366735,\n",
            " 'Loss/regularization_loss': 0.1275279,\n",
            " 'Loss/total_loss': 0.3475332,\n",
            " 'learning_rate': 0.07485275}\n",
            "I0710 07:00:44.590642 140068657407808 model_lib_v2.py:708] {'Loss/classification_loss': 0.106337965,\n",
            " 'Loss/localization_loss': 0.11366735,\n",
            " 'Loss/regularization_loss': 0.1275279,\n",
            " 'Loss/total_loss': 0.3475332,\n",
            " 'learning_rate': 0.07485275}\n",
            "INFO:tensorflow:Step 9100 per-step time 0.076s\n",
            "I0710 07:00:52.141713 140068657407808 model_lib_v2.py:705] Step 9100 per-step time 0.076s\n",
            "INFO:tensorflow:{'Loss/classification_loss': 0.062867,\n",
            " 'Loss/localization_loss': 0.038627744,\n",
            " 'Loss/regularization_loss': 0.12710664,\n",
            " 'Loss/total_loss': 0.22860138,\n",
            " 'learning_rate': 0.07472619}\n",
            "I0710 07:00:52.142035 140068657407808 model_lib_v2.py:708] {'Loss/classification_loss': 0.062867,\n",
            " 'Loss/localization_loss': 0.038627744,\n",
            " 'Loss/regularization_loss': 0.12710664,\n",
            " 'Loss/total_loss': 0.22860138,\n",
            " 'learning_rate': 0.07472619}\n",
            "INFO:tensorflow:Step 9200 per-step time 0.095s\n",
            "I0710 07:01:01.642957 140068657407808 model_lib_v2.py:705] Step 9200 per-step time 0.095s\n",
            "INFO:tensorflow:{'Loss/classification_loss': 0.1153267,\n",
            " 'Loss/localization_loss': 0.06722361,\n",
            " 'Loss/regularization_loss': 0.12661971,\n",
            " 'Loss/total_loss': 0.30917,\n",
            " 'learning_rate': 0.07459819}\n",
            "I0710 07:01:01.643356 140068657407808 model_lib_v2.py:708] {'Loss/classification_loss': 0.1153267,\n",
            " 'Loss/localization_loss': 0.06722361,\n",
            " 'Loss/regularization_loss': 0.12661971,\n",
            " 'Loss/total_loss': 0.30917,\n",
            " 'learning_rate': 0.07459819}\n",
            "INFO:tensorflow:Step 9300 per-step time 0.082s\n",
            "I0710 07:01:09.832140 140068657407808 model_lib_v2.py:705] Step 9300 per-step time 0.082s\n",
            "INFO:tensorflow:{'Loss/classification_loss': 0.07634359,\n",
            " 'Loss/localization_loss': 0.049373105,\n",
            " 'Loss/regularization_loss': 0.12617083,\n",
            " 'Loss/total_loss': 0.2518875,\n",
            " 'learning_rate': 0.074468784}\n",
            "I0710 07:01:09.832430 140068657407808 model_lib_v2.py:708] {'Loss/classification_loss': 0.07634359,\n",
            " 'Loss/localization_loss': 0.049373105,\n",
            " 'Loss/regularization_loss': 0.12617083,\n",
            " 'Loss/total_loss': 0.2518875,\n",
            " 'learning_rate': 0.074468784}\n",
            "INFO:tensorflow:Step 9400 per-step time 0.064s\n",
            "I0710 07:01:16.224178 140068657407808 model_lib_v2.py:705] Step 9400 per-step time 0.064s\n",
            "INFO:tensorflow:{'Loss/classification_loss': 0.06529279,\n",
            " 'Loss/localization_loss': 0.025259309,\n",
            " 'Loss/regularization_loss': 0.12575006,\n",
            " 'Loss/total_loss': 0.21630216,\n",
            " 'learning_rate': 0.074337944}\n",
            "I0710 07:01:16.224479 140068657407808 model_lib_v2.py:708] {'Loss/classification_loss': 0.06529279,\n",
            " 'Loss/localization_loss': 0.025259309,\n",
            " 'Loss/regularization_loss': 0.12575006,\n",
            " 'Loss/total_loss': 0.21630216,\n",
            " 'learning_rate': 0.074337944}\n",
            "INFO:tensorflow:Step 9500 per-step time 0.094s\n",
            "I0710 07:01:25.629719 140068657407808 model_lib_v2.py:705] Step 9500 per-step time 0.094s\n",
            "INFO:tensorflow:{'Loss/classification_loss': 0.15838201,\n",
            " 'Loss/localization_loss': 0.13591893,\n",
            " 'Loss/regularization_loss': 0.1253052,\n",
            " 'Loss/total_loss': 0.41960615,\n",
            " 'learning_rate': 0.074205704}\n",
            "I0710 07:01:25.630139 140068657407808 model_lib_v2.py:708] {'Loss/classification_loss': 0.15838201,\n",
            " 'Loss/localization_loss': 0.13591893,\n",
            " 'Loss/regularization_loss': 0.1253052,\n",
            " 'Loss/total_loss': 0.41960615,\n",
            " 'learning_rate': 0.074205704}\n",
            "INFO:tensorflow:Step 9600 per-step time 0.082s\n",
            "I0710 07:01:33.863101 140068657407808 model_lib_v2.py:705] Step 9600 per-step time 0.082s\n",
            "INFO:tensorflow:{'Loss/classification_loss': 0.22976848,\n",
            " 'Loss/localization_loss': 0.10373079,\n",
            " 'Loss/regularization_loss': 0.12485173,\n",
            " 'Loss/total_loss': 0.45835102,\n",
            " 'learning_rate': 0.07407206}\n",
            "I0710 07:01:33.863410 140068657407808 model_lib_v2.py:708] {'Loss/classification_loss': 0.22976848,\n",
            " 'Loss/localization_loss': 0.10373079,\n",
            " 'Loss/regularization_loss': 0.12485173,\n",
            " 'Loss/total_loss': 0.45835102,\n",
            " 'learning_rate': 0.07407206}\n",
            "INFO:tensorflow:Step 9700 per-step time 0.064s\n",
            "I0710 07:01:40.273519 140068657407808 model_lib_v2.py:705] Step 9700 per-step time 0.064s\n",
            "INFO:tensorflow:{'Loss/classification_loss': 0.09932962,\n",
            " 'Loss/localization_loss': 0.09308581,\n",
            " 'Loss/regularization_loss': 0.12441646,\n",
            " 'Loss/total_loss': 0.3168319,\n",
            " 'learning_rate': 0.073937014}\n",
            "I0710 07:01:40.273883 140068657407808 model_lib_v2.py:708] {'Loss/classification_loss': 0.09932962,\n",
            " 'Loss/localization_loss': 0.09308581,\n",
            " 'Loss/regularization_loss': 0.12441646,\n",
            " 'Loss/total_loss': 0.3168319,\n",
            " 'learning_rate': 0.073937014}\n",
            "INFO:tensorflow:Step 9800 per-step time 0.094s\n",
            "I0710 07:01:49.718315 140068657407808 model_lib_v2.py:705] Step 9800 per-step time 0.094s\n",
            "INFO:tensorflow:{'Loss/classification_loss': 0.13238847,\n",
            " 'Loss/localization_loss': 0.092728555,\n",
            " 'Loss/regularization_loss': 0.123988196,\n",
            " 'Loss/total_loss': 0.34910524,\n",
            " 'learning_rate': 0.07380057}\n",
            "I0710 07:01:49.718687 140068657407808 model_lib_v2.py:708] {'Loss/classification_loss': 0.13238847,\n",
            " 'Loss/localization_loss': 0.092728555,\n",
            " 'Loss/regularization_loss': 0.123988196,\n",
            " 'Loss/total_loss': 0.34910524,\n",
            " 'learning_rate': 0.07380057}\n",
            "INFO:tensorflow:Step 9900 per-step time 0.082s\n",
            "I0710 07:01:57.919021 140068657407808 model_lib_v2.py:705] Step 9900 per-step time 0.082s\n",
            "INFO:tensorflow:{'Loss/classification_loss': 0.08227924,\n",
            " 'Loss/localization_loss': 0.06524095,\n",
            " 'Loss/regularization_loss': 0.12353369,\n",
            " 'Loss/total_loss': 0.27105388,\n",
            " 'learning_rate': 0.073662736}\n",
            "I0710 07:01:57.919286 140068657407808 model_lib_v2.py:708] {'Loss/classification_loss': 0.08227924,\n",
            " 'Loss/localization_loss': 0.06524095,\n",
            " 'Loss/regularization_loss': 0.12353369,\n",
            " 'Loss/total_loss': 0.27105388,\n",
            " 'learning_rate': 0.073662736}\n",
            "INFO:tensorflow:Step 10000 per-step time 0.063s\n",
            "I0710 07:02:04.240501 140068657407808 model_lib_v2.py:705] Step 10000 per-step time 0.063s\n",
            "INFO:tensorflow:{'Loss/classification_loss': 0.09224539,\n",
            " 'Loss/localization_loss': 0.079054646,\n",
            " 'Loss/regularization_loss': 0.12310771,\n",
            " 'Loss/total_loss': 0.29440776,\n",
            " 'learning_rate': 0.07352352}\n",
            "I0710 07:02:04.240829 140068657407808 model_lib_v2.py:708] {'Loss/classification_loss': 0.09224539,\n",
            " 'Loss/localization_loss': 0.079054646,\n",
            " 'Loss/regularization_loss': 0.12310771,\n",
            " 'Loss/total_loss': 0.29440776,\n",
            " 'learning_rate': 0.07352352}\n"
          ]
        }
      ],
      "source": [
        "!{command}"
      ]
    },
    {
      "cell_type": "markdown",
      "metadata": {
        "id": "4_YRZu7npfDH"
      },
      "source": [
        "# 7. Evaluate the Model"
      ]
    },
    {
      "cell_type": "code",
      "execution_count": 33,
      "metadata": {
        "id": "80L7-fdPpfDH"
      },
      "outputs": [],
      "source": [
        "command = \"python {} --model_dir={} --pipeline_config_path={} --checkpoint_dir={}\".format(TRAINING_SCRIPT, paths['CHECKPOINT_PATH'],files['PIPELINE_CONFIG'], paths['CHECKPOINT_PATH'])"
      ]
    },
    {
      "cell_type": "code",
      "execution_count": 34,
      "metadata": {
        "colab": {
          "base_uri": "https://localhost:8080/"
        },
        "id": "lYsgEPx9pfDH",
        "outputId": "0146c860-7ada-42b4-e0f4-1e53a262c67c"
      },
      "outputs": [
        {
          "output_type": "stream",
          "name": "stdout",
          "text": [
            "python Tensorflow/models/research/object_detection/model_main_tf2.py --model_dir=Tensorflow/workspace/models/my_ssd_mobnet --pipeline_config_path=Tensorflow/workspace/models/my_ssd_mobnet/pipeline.config --checkpoint_dir=Tensorflow/workspace/models/my_ssd_mobnet\n"
          ]
        }
      ],
      "source": [
        "print(command)"
      ]
    },
    {
      "cell_type": "code",
      "execution_count": 35,
      "metadata": {
        "colab": {
          "base_uri": "https://localhost:8080/"
        },
        "id": "lqTV2jGBpfDH",
        "outputId": "33c8e1de-9ccf-4e33-ff3b-923aacd994b9"
      },
      "outputs": [
        {
          "output_type": "stream",
          "name": "stdout",
          "text": [
            "2023-07-10 07:03:02.349938: W tensorflow/compiler/tf2tensorrt/utils/py_utils.cc:38] TF-TRT Warning: Could not find TensorRT\n",
            "/usr/local/lib/python3.10/dist-packages/tensorflow_io/python/ops/__init__.py:98: UserWarning: unable to load libtensorflow_io_plugins.so: unable to open file: libtensorflow_io_plugins.so, from paths: ['/usr/local/lib/python3.10/dist-packages/tensorflow_io/python/ops/libtensorflow_io_plugins.so']\n",
            "caused by: ['/usr/local/lib/python3.10/dist-packages/tensorflow_io/python/ops/libtensorflow_io_plugins.so: undefined symbol: _ZN3tsl6Status12empty_stringB5cxx11Ev']\n",
            "  warnings.warn(f\"unable to load libtensorflow_io_plugins.so: {e}\")\n",
            "/usr/local/lib/python3.10/dist-packages/tensorflow_io/python/ops/__init__.py:104: UserWarning: file system plugins are not loaded: unable to open file: libtensorflow_io.so, from paths: ['/usr/local/lib/python3.10/dist-packages/tensorflow_io/python/ops/libtensorflow_io.so']\n",
            "caused by: ['/usr/local/lib/python3.10/dist-packages/tensorflow_io/python/ops/libtensorflow_io.so: undefined symbol: _ZNK10tensorflow4data11DatasetBase8FinalizeEPNS_15OpKernelContextESt8functionIFN3tsl8StatusOrISt10unique_ptrIS1_NS5_4core15RefCountDeleterEEEEvEE']\n",
            "  warnings.warn(f\"file system plugins are not loaded: {e}\")\n",
            "WARNING:tensorflow:Forced number of epochs for all eval validations to be 1.\n",
            "W0710 07:03:06.134173 139874189322048 model_lib_v2.py:1089] Forced number of epochs for all eval validations to be 1.\n",
            "INFO:tensorflow:Maybe overwriting sample_1_of_n_eval_examples: None\n",
            "I0710 07:03:06.134438 139874189322048 config_util.py:552] Maybe overwriting sample_1_of_n_eval_examples: None\n",
            "INFO:tensorflow:Maybe overwriting use_bfloat16: False\n",
            "I0710 07:03:06.134523 139874189322048 config_util.py:552] Maybe overwriting use_bfloat16: False\n",
            "INFO:tensorflow:Maybe overwriting eval_num_epochs: 1\n",
            "I0710 07:03:06.134603 139874189322048 config_util.py:552] Maybe overwriting eval_num_epochs: 1\n",
            "WARNING:tensorflow:Expected number of evaluation epochs is 1, but instead encountered `eval_on_train_input_config.num_epochs` = 0. Overwriting `num_epochs` to 1.\n",
            "W0710 07:03:06.134710 139874189322048 model_lib_v2.py:1106] Expected number of evaluation epochs is 1, but instead encountered `eval_on_train_input_config.num_epochs` = 0. Overwriting `num_epochs` to 1.\n",
            "2023-07-10 07:03:07.436235: W tensorflow/core/common_runtime/gpu/gpu_bfc_allocator.cc:47] Overriding orig_value setting because the TF_FORCE_GPU_ALLOW_GROWTH environment variable is set. Original config value was 0.\n",
            "INFO:tensorflow:Reading unweighted datasets: ['Tensorflow/workspace/annotations/test.record']\n",
            "I0710 07:03:07.716469 139874189322048 dataset_builder.py:162] Reading unweighted datasets: ['Tensorflow/workspace/annotations/test.record']\n",
            "INFO:tensorflow:Reading record datasets for input file: ['Tensorflow/workspace/annotations/test.record']\n",
            "I0710 07:03:07.716806 139874189322048 dataset_builder.py:79] Reading record datasets for input file: ['Tensorflow/workspace/annotations/test.record']\n",
            "INFO:tensorflow:Number of filenames to read: 1\n",
            "I0710 07:03:07.716962 139874189322048 dataset_builder.py:80] Number of filenames to read: 1\n",
            "WARNING:tensorflow:num_readers has been reduced to 1 to match input file shards.\n",
            "W0710 07:03:07.717046 139874189322048 dataset_builder.py:86] num_readers has been reduced to 1 to match input file shards.\n",
            "WARNING:tensorflow:From /usr/local/lib/python3.10/dist-packages/object_detection/builders/dataset_builder.py:100: parallel_interleave (from tensorflow.python.data.experimental.ops.interleave_ops) is deprecated and will be removed in a future version.\n",
            "Instructions for updating:\n",
            "Use `tf.data.Dataset.interleave(map_func, cycle_length, block_length, num_parallel_calls=tf.data.AUTOTUNE)` instead. If sloppy execution is desired, use `tf.data.Options.deterministic`.\n",
            "W0710 07:03:07.722379 139874189322048 deprecation.py:364] From /usr/local/lib/python3.10/dist-packages/object_detection/builders/dataset_builder.py:100: parallel_interleave (from tensorflow.python.data.experimental.ops.interleave_ops) is deprecated and will be removed in a future version.\n",
            "Instructions for updating:\n",
            "Use `tf.data.Dataset.interleave(map_func, cycle_length, block_length, num_parallel_calls=tf.data.AUTOTUNE)` instead. If sloppy execution is desired, use `tf.data.Options.deterministic`.\n",
            "WARNING:tensorflow:From /usr/local/lib/python3.10/dist-packages/object_detection/builders/dataset_builder.py:235: DatasetV1.map_with_legacy_function (from tensorflow.python.data.ops.dataset_ops) is deprecated and will be removed in a future version.\n",
            "Instructions for updating:\n",
            "Use `tf.data.Dataset.map()\n",
            "W0710 07:03:07.752730 139874189322048 deprecation.py:364] From /usr/local/lib/python3.10/dist-packages/object_detection/builders/dataset_builder.py:235: DatasetV1.map_with_legacy_function (from tensorflow.python.data.ops.dataset_ops) is deprecated and will be removed in a future version.\n",
            "Instructions for updating:\n",
            "Use `tf.data.Dataset.map()\n",
            "WARNING:tensorflow:From /usr/local/lib/python3.10/dist-packages/tensorflow/python/util/dispatch.py:1176: sparse_to_dense (from tensorflow.python.ops.sparse_ops) is deprecated and will be removed in a future version.\n",
            "Instructions for updating:\n",
            "Create a `tf.sparse.SparseTensor` and use `tf.sparse.to_dense` instead.\n",
            "W0710 07:03:13.715028 139874189322048 deprecation.py:364] From /usr/local/lib/python3.10/dist-packages/tensorflow/python/util/dispatch.py:1176: sparse_to_dense (from tensorflow.python.ops.sparse_ops) is deprecated and will be removed in a future version.\n",
            "Instructions for updating:\n",
            "Create a `tf.sparse.SparseTensor` and use `tf.sparse.to_dense` instead.\n",
            "WARNING:tensorflow:From /usr/local/lib/python3.10/dist-packages/tensorflow/python/util/dispatch.py:1176: to_float (from tensorflow.python.ops.math_ops) is deprecated and will be removed in a future version.\n",
            "Instructions for updating:\n",
            "Use `tf.cast` instead.\n",
            "W0710 07:03:15.555781 139874189322048 deprecation.py:364] From /usr/local/lib/python3.10/dist-packages/tensorflow/python/util/dispatch.py:1176: to_float (from tensorflow.python.ops.math_ops) is deprecated and will be removed in a future version.\n",
            "Instructions for updating:\n",
            "Use `tf.cast` instead.\n",
            "INFO:tensorflow:Waiting for new checkpoint at Tensorflow/workspace/models/my_ssd_mobnet\n",
            "I0710 07:03:18.160590 139874189322048 checkpoint_utils.py:168] Waiting for new checkpoint at Tensorflow/workspace/models/my_ssd_mobnet\n",
            "INFO:tensorflow:Found new checkpoint at Tensorflow/workspace/models/my_ssd_mobnet/ckpt-11\n",
            "I0710 07:03:18.161662 139874189322048 checkpoint_utils.py:177] Found new checkpoint at Tensorflow/workspace/models/my_ssd_mobnet/ckpt-11\n",
            "/usr/local/lib/python3.10/dist-packages/keras/src/backend.py:452: UserWarning: `tf.keras.backend.set_learning_phase` is deprecated and will be removed after 2020-10-11. To update it, simply pass a True/False value to the `training` argument of the `__call__` method of your layer or model.\n",
            "  warnings.warn(\n",
            "I0710 07:03:23.495981 139874189322048 api.py:460] feature_map_spatial_dims: [(40, 40), (20, 20), (10, 10), (5, 5), (3, 3)]\n",
            "I0710 07:03:40.436274 139874189322048 api.py:460] feature_map_spatial_dims: [(40, 40), (20, 20), (10, 10), (5, 5), (3, 3)]\n",
            "WARNING:tensorflow:From /usr/local/lib/python3.10/dist-packages/tensorflow/python/util/dispatch.py:1176: to_int64 (from tensorflow.python.ops.math_ops) is deprecated and will be removed in a future version.\n",
            "Instructions for updating:\n",
            "Use `tf.cast` instead.\n",
            "W0710 07:03:46.347439 139874189322048 deprecation.py:364] From /usr/local/lib/python3.10/dist-packages/tensorflow/python/util/dispatch.py:1176: to_int64 (from tensorflow.python.ops.math_ops) is deprecated and will be removed in a future version.\n",
            "Instructions for updating:\n",
            "Use `tf.cast` instead.\n",
            "INFO:tensorflow:Finished eval step 0\n",
            "I0710 07:03:46.375831 139874189322048 model_lib_v2.py:966] Finished eval step 0\n",
            "WARNING:tensorflow:From /usr/local/lib/python3.10/dist-packages/tensorflow/python/autograph/impl/api.py:460: py_func (from tensorflow.python.ops.script_ops) is deprecated and will be removed in a future version.\n",
            "Instructions for updating:\n",
            "tf.py_func is deprecated in TF V2. Instead, there are two\n",
            "    options available in V2.\n",
            "    - tf.py_function takes a python function which manipulates tf eager\n",
            "    tensors instead of numpy arrays. It's easy to convert a tf eager tensor to\n",
            "    an ndarray (just call tensor.numpy()) but having access to eager tensors\n",
            "    means `tf.py_function`s can use accelerators such as GPUs as well as\n",
            "    being differentiable using a gradient tape.\n",
            "    - tf.numpy_function maintains the semantics of the deprecated tf.py_func\n",
            "    (it is not differentiable, and manipulates numpy arrays). It drops the\n",
            "    stateful argument making all functions stateful.\n",
            "    \n",
            "W0710 07:03:46.535615 139874189322048 deprecation.py:364] From /usr/local/lib/python3.10/dist-packages/tensorflow/python/autograph/impl/api.py:460: py_func (from tensorflow.python.ops.script_ops) is deprecated and will be removed in a future version.\n",
            "Instructions for updating:\n",
            "tf.py_func is deprecated in TF V2. Instead, there are two\n",
            "    options available in V2.\n",
            "    - tf.py_function takes a python function which manipulates tf eager\n",
            "    tensors instead of numpy arrays. It's easy to convert a tf eager tensor to\n",
            "    an ndarray (just call tensor.numpy()) but having access to eager tensors\n",
            "    means `tf.py_function`s can use accelerators such as GPUs as well as\n",
            "    being differentiable using a gradient tape.\n",
            "    - tf.numpy_function maintains the semantics of the deprecated tf.py_func\n",
            "    (it is not differentiable, and manipulates numpy arrays). It drops the\n",
            "    stateful argument making all functions stateful.\n",
            "    \n",
            "INFO:tensorflow:Performing evaluation on 22 images.\n",
            "I0710 07:03:48.498083 139874189322048 coco_evaluation.py:293] Performing evaluation on 22 images.\n",
            "creating index...\n",
            "index created!\n",
            "INFO:tensorflow:Loading and preparing annotation results...\n",
            "I0710 07:03:48.499737 139874189322048 coco_tools.py:116] Loading and preparing annotation results...\n",
            "INFO:tensorflow:DONE (t=0.00s)\n",
            "I0710 07:03:48.501136 139874189322048 coco_tools.py:138] DONE (t=0.00s)\n",
            "creating index...\n",
            "index created!\n",
            "Running per image evaluation...\n",
            "Evaluate annotation type *bbox*\n",
            "DONE (t=0.08s).\n",
            "Accumulating evaluation results...\n",
            "DONE (t=0.02s).\n",
            " Average Precision  (AP) @[ IoU=0.50:0.95 | area=   all | maxDets=100 ] = 0.554\n",
            " Average Precision  (AP) @[ IoU=0.50      | area=   all | maxDets=100 ] = 0.955\n",
            " Average Precision  (AP) @[ IoU=0.75      | area=   all | maxDets=100 ] = 0.641\n",
            " Average Precision  (AP) @[ IoU=0.50:0.95 | area= small | maxDets=100 ] = 0.470\n",
            " Average Precision  (AP) @[ IoU=0.50:0.95 | area=medium | maxDets=100 ] = 0.577\n",
            " Average Precision  (AP) @[ IoU=0.50:0.95 | area= large | maxDets=100 ] = 0.617\n",
            " Average Recall     (AR) @[ IoU=0.50:0.95 | area=   all | maxDets=  1 ] = 0.596\n",
            " Average Recall     (AR) @[ IoU=0.50:0.95 | area=   all | maxDets= 10 ] = 0.622\n",
            " Average Recall     (AR) @[ IoU=0.50:0.95 | area=   all | maxDets=100 ] = 0.630\n",
            " Average Recall     (AR) @[ IoU=0.50:0.95 | area= small | maxDets=100 ] = 0.625\n",
            " Average Recall     (AR) @[ IoU=0.50:0.95 | area=medium | maxDets=100 ] = 0.627\n",
            " Average Recall     (AR) @[ IoU=0.50:0.95 | area= large | maxDets=100 ] = 0.650\n",
            "INFO:tensorflow:Eval metrics at step 10000\n",
            "I0710 07:03:48.627241 139874189322048 model_lib_v2.py:1015] Eval metrics at step 10000\n",
            "INFO:tensorflow:\t+ DetectionBoxes_Precision/mAP: 0.553673\n",
            "I0710 07:03:48.638135 139874189322048 model_lib_v2.py:1018] \t+ DetectionBoxes_Precision/mAP: 0.553673\n",
            "INFO:tensorflow:\t+ DetectionBoxes_Precision/mAP@.50IOU: 0.955082\n",
            "I0710 07:03:48.639918 139874189322048 model_lib_v2.py:1018] \t+ DetectionBoxes_Precision/mAP@.50IOU: 0.955082\n",
            "INFO:tensorflow:\t+ DetectionBoxes_Precision/mAP@.75IOU: 0.641006\n",
            "I0710 07:03:48.641516 139874189322048 model_lib_v2.py:1018] \t+ DetectionBoxes_Precision/mAP@.75IOU: 0.641006\n",
            "INFO:tensorflow:\t+ DetectionBoxes_Precision/mAP (small): 0.470228\n",
            "I0710 07:03:48.643096 139874189322048 model_lib_v2.py:1018] \t+ DetectionBoxes_Precision/mAP (small): 0.470228\n",
            "INFO:tensorflow:\t+ DetectionBoxes_Precision/mAP (medium): 0.576595\n",
            "I0710 07:03:48.644640 139874189322048 model_lib_v2.py:1018] \t+ DetectionBoxes_Precision/mAP (medium): 0.576595\n",
            "INFO:tensorflow:\t+ DetectionBoxes_Precision/mAP (large): 0.617492\n",
            "I0710 07:03:48.646140 139874189322048 model_lib_v2.py:1018] \t+ DetectionBoxes_Precision/mAP (large): 0.617492\n",
            "INFO:tensorflow:\t+ DetectionBoxes_Recall/AR@1: 0.595652\n",
            "I0710 07:03:48.647641 139874189322048 model_lib_v2.py:1018] \t+ DetectionBoxes_Recall/AR@1: 0.595652\n",
            "INFO:tensorflow:\t+ DetectionBoxes_Recall/AR@10: 0.621739\n",
            "I0710 07:03:48.649088 139874189322048 model_lib_v2.py:1018] \t+ DetectionBoxes_Recall/AR@10: 0.621739\n",
            "INFO:tensorflow:\t+ DetectionBoxes_Recall/AR@100: 0.630435\n",
            "I0710 07:03:48.650485 139874189322048 model_lib_v2.py:1018] \t+ DetectionBoxes_Recall/AR@100: 0.630435\n",
            "INFO:tensorflow:\t+ DetectionBoxes_Recall/AR@100 (small): 0.625000\n",
            "I0710 07:03:48.651979 139874189322048 model_lib_v2.py:1018] \t+ DetectionBoxes_Recall/AR@100 (small): 0.625000\n",
            "INFO:tensorflow:\t+ DetectionBoxes_Recall/AR@100 (medium): 0.626667\n",
            "I0710 07:03:48.653365 139874189322048 model_lib_v2.py:1018] \t+ DetectionBoxes_Recall/AR@100 (medium): 0.626667\n",
            "INFO:tensorflow:\t+ DetectionBoxes_Recall/AR@100 (large): 0.650000\n",
            "I0710 07:03:48.654825 139874189322048 model_lib_v2.py:1018] \t+ DetectionBoxes_Recall/AR@100 (large): 0.650000\n",
            "INFO:tensorflow:\t+ Loss/localization_loss: 0.146157\n",
            "I0710 07:03:48.655900 139874189322048 model_lib_v2.py:1018] \t+ Loss/localization_loss: 0.146157\n",
            "INFO:tensorflow:\t+ Loss/classification_loss: 0.203597\n",
            "I0710 07:03:48.657086 139874189322048 model_lib_v2.py:1018] \t+ Loss/classification_loss: 0.203597\n",
            "INFO:tensorflow:\t+ Loss/regularization_loss: 0.123103\n",
            "I0710 07:03:48.658151 139874189322048 model_lib_v2.py:1018] \t+ Loss/regularization_loss: 0.123103\n",
            "INFO:tensorflow:\t+ Loss/total_loss: 0.472856\n",
            "I0710 07:03:48.659219 139874189322048 model_lib_v2.py:1018] \t+ Loss/total_loss: 0.472856\n",
            "INFO:tensorflow:Waiting for new checkpoint at Tensorflow/workspace/models/my_ssd_mobnet\n",
            "I0710 07:08:18.261897 139874189322048 checkpoint_utils.py:168] Waiting for new checkpoint at Tensorflow/workspace/models/my_ssd_mobnet\n",
            "Traceback (most recent call last):\n",
            "  File \"/content/Tensorflow/models/research/object_detection/model_main_tf2.py\", line 114, in <module>\n",
            "    tf.compat.v1.app.run()\n",
            "  File \"/usr/local/lib/python3.10/dist-packages/tensorflow/python/platform/app.py\", line 36, in run\n",
            "    _run(main=main, argv=argv, flags_parser=_parse_flags_tolerate_undef)\n",
            "  File \"/usr/local/lib/python3.10/dist-packages/absl/app.py\", line 308, in run\n",
            "    _run_main(main, args)\n",
            "  File \"/usr/local/lib/python3.10/dist-packages/absl/app.py\", line 254, in _run_main\n",
            "    sys.exit(main(argv))\n",
            "  File \"/content/Tensorflow/models/research/object_detection/model_main_tf2.py\", line 81, in main\n",
            "    model_lib_v2.eval_continuously(\n",
            "  File \"/usr/local/lib/python3.10/dist-packages/object_detection/model_lib_v2.py\", line 1135, in eval_continuously\n",
            "    for latest_checkpoint in tf.train.checkpoints_iterator(\n",
            "  File \"/usr/local/lib/python3.10/dist-packages/tensorflow/python/training/checkpoint_utils.py\", line 226, in checkpoints_iterator\n",
            "    new_checkpoint_path = wait_for_new_checkpoint(\n",
            "  File \"/usr/local/lib/python3.10/dist-packages/tensorflow/python/training/checkpoint_utils.py\", line 175, in wait_for_new_checkpoint\n",
            "    time.sleep(seconds_to_sleep)\n",
            "KeyboardInterrupt\n",
            "Exception ignored in atexit callback: <function load_source.<locals>.<lambda> at 0x7f367c556ef0>\n",
            "Traceback (most recent call last):\n",
            "  File \"/usr/local/lib/python3.10/dist-packages/tensorflow/python/autograph/pyct/loader.py\", line 57, in <lambda>\n",
            "    atexit.register(lambda: _remove_file(file_name))\n",
            "  File \"/usr/local/lib/python3.10/dist-packages/tensorflow/python/autograph/pyct/loader.py\", line 34, in _remove_file\n",
            "    os.remove(file_name)\n",
            "KeyboardInterrupt: \n",
            "^C\n"
          ]
        }
      ],
      "source": [
        "!{command}"
      ]
    },
    {
      "cell_type": "markdown",
      "metadata": {
        "id": "orvRk02UpfDI"
      },
      "source": [
        "# 8. Load Train Model From Checkpoint"
      ]
    },
    {
      "cell_type": "code",
      "execution_count": 37,
      "metadata": {
        "colab": {
          "base_uri": "https://localhost:8080/",
          "height": 367
        },
        "id": "P6515rJIAIpT",
        "outputId": "83bbebd4-6daa-4c49-d2b0-2bc764f33a29"
      },
      "outputs": [
        {
          "output_type": "stream",
          "name": "stdout",
          "text": [
            "Requirement already satisfied: numpy in /usr/local/lib/python3.10/dist-packages (1.24.3)\n",
            "Collecting numpy\n",
            "  Downloading numpy-1.25.1-cp310-cp310-manylinux_2_17_x86_64.manylinux2014_x86_64.whl (17.6 MB)\n",
            "\u001b[2K     \u001b[90m━━━━━━━━━━━━━━━━━━━━━━━━━━━━━━━━━━━━━━━━\u001b[0m \u001b[32m17.6/17.6 MB\u001b[0m \u001b[31m55.3 MB/s\u001b[0m eta \u001b[36m0:00:00\u001b[0m\n",
            "\u001b[?25hInstalling collected packages: numpy\n",
            "  Attempting uninstall: numpy\n",
            "    Found existing installation: numpy 1.24.3\n",
            "    Uninstalling numpy-1.24.3:\n",
            "      Successfully uninstalled numpy-1.24.3\n",
            "\u001b[31mERROR: pip's dependency resolver does not currently take into account all the packages that are installed. This behaviour is the source of the following dependency conflicts.\n",
            "apache-beam 2.48.0 requires numpy<1.25.0,>=1.14.3, but you have numpy 1.25.1 which is incompatible.\n",
            "numba 0.56.4 requires numpy<1.24,>=1.18, but you have numpy 1.25.1 which is incompatible.\n",
            "tensorflow 2.13.0 requires numpy<=1.24.3,>=1.22, but you have numpy 1.25.1 which is incompatible.\u001b[0m\u001b[31m\n",
            "\u001b[0mSuccessfully installed numpy-1.25.1\n"
          ]
        },
        {
          "output_type": "display_data",
          "data": {
            "application/vnd.colab-display-data+json": {
              "pip_warning": {
                "packages": [
                  "numpy"
                ]
              }
            }
          },
          "metadata": {}
        }
      ],
      "source": [
        "!pip install -U numpy"
      ]
    },
    {
      "cell_type": "code",
      "execution_count": 6,
      "metadata": {
        "colab": {
          "base_uri": "https://localhost:8080/"
        },
        "id": "8TYk4_oIpfDI",
        "outputId": "029633a8-e4e9-426e-c04e-20062274eaa5"
      },
      "outputs": [
        {
          "output_type": "stream",
          "name": "stderr",
          "text": [
            "/usr/local/lib/python3.10/dist-packages/tensorflow_io/python/ops/__init__.py:98: UserWarning: unable to load libtensorflow_io_plugins.so: unable to open file: libtensorflow_io_plugins.so, from paths: ['/usr/local/lib/python3.10/dist-packages/tensorflow_io/python/ops/libtensorflow_io_plugins.so']\n",
            "caused by: ['/usr/local/lib/python3.10/dist-packages/tensorflow_io/python/ops/libtensorflow_io_plugins.so: undefined symbol: _ZN3tsl6Status12empty_stringB5cxx11Ev']\n",
            "  warnings.warn(f\"unable to load libtensorflow_io_plugins.so: {e}\")\n",
            "/usr/local/lib/python3.10/dist-packages/tensorflow_io/python/ops/__init__.py:104: UserWarning: file system plugins are not loaded: unable to open file: libtensorflow_io.so, from paths: ['/usr/local/lib/python3.10/dist-packages/tensorflow_io/python/ops/libtensorflow_io.so']\n",
            "caused by: ['/usr/local/lib/python3.10/dist-packages/tensorflow_io/python/ops/libtensorflow_io.so: undefined symbol: _ZNK10tensorflow4data11DatasetBase8FinalizeEPNS_15OpKernelContextESt8functionIFN3tsl8StatusOrISt10unique_ptrIS1_NS5_4core15RefCountDeleterEEEEvEE']\n",
            "  warnings.warn(f\"file system plugins are not loaded: {e}\")\n"
          ]
        }
      ],
      "source": [
        "import os\n",
        "import tensorflow as tf\n",
        "from object_detection.utils import label_map_util\n",
        "from object_detection.utils import visualization_utils as viz_utils\n",
        "from object_detection.builders import model_builder\n",
        "from object_detection.utils import config_util"
      ]
    },
    {
      "cell_type": "code",
      "execution_count": 7,
      "metadata": {
        "id": "IKQO9N0Foodr"
      },
      "outputs": [],
      "source": [
        "# Prevent GPU complete consumption\n",
        "gpus = tf.config.list_physical_devices('GPU')\n",
        "if gpus:\n",
        "    try:\n",
        "        tf.config.experimental.set_virtual_device_configuration(\n",
        "            gpus[0], [tf.config.experimental.VirtualDeviceConfiguration(memory_limit=5120)])\n",
        "    except RunTimeError as e:\n",
        "        print(e)"
      ]
    },
    {
      "cell_type": "code",
      "execution_count": 8,
      "metadata": {
        "id": "tDnQg-cYpfDI"
      },
      "outputs": [],
      "source": [
        "# Load pipeline config and build a detection model\n",
        "configs = config_util.get_configs_from_pipeline_file(files['PIPELINE_CONFIG'])\n",
        "detection_model = model_builder.build(model_config=configs['model'], is_training=False)\n",
        "\n",
        "# Restore checkpoint\n",
        "ckpt = tf.compat.v2.train.Checkpoint(model=detection_model)\n",
        "ckpt.restore(os.path.join(paths['CHECKPOINT_PATH'], 'ckpt-11')).expect_partial()\n",
        "\n",
        "@tf.function\n",
        "def detect_fn(image):\n",
        "    image, shapes = detection_model.preprocess(image)\n",
        "    prediction_dict = detection_model.predict(image, shapes)\n",
        "    detections = detection_model.postprocess(prediction_dict, shapes)\n",
        "    return detections"
      ]
    },
    {
      "cell_type": "markdown",
      "metadata": {
        "id": "0EmsmbBZpfDI"
      },
      "source": [
        "# 9. Detect from an Image"
      ]
    },
    {
      "cell_type": "code",
      "execution_count": 9,
      "metadata": {
        "id": "Y_MKiuZ4pfDI"
      },
      "outputs": [],
      "source": [
        "import cv2\n",
        "import numpy as np\n",
        "from matplotlib import pyplot as plt\n",
        "%matplotlib inline"
      ]
    },
    {
      "cell_type": "code",
      "execution_count": 10,
      "metadata": {
        "id": "cBDbIhNapfDI"
      },
      "outputs": [],
      "source": [
        "category_index = label_map_util.create_category_index_from_labelmap(files['LABELMAP'])"
      ]
    },
    {
      "cell_type": "code",
      "execution_count": 40,
      "metadata": {
        "id": "Lx3crOhOzITB"
      },
      "outputs": [],
      "source": [
        "IMAGE_PATH = os.path.join(paths['IMAGE_PATH'], 'test', 'Cars425.png')"
      ]
    },
    {
      "cell_type": "code",
      "execution_count": 41,
      "metadata": {
        "colab": {
          "base_uri": "https://localhost:8080/",
          "height": 295
        },
        "id": "Tpzn1SMry1yK",
        "outputId": "41d94739-0758-4431-e179-a05e17267140"
      },
      "outputs": [
        {
          "output_type": "display_data",
          "data": {
            "text/plain": [
              "<Figure size 640x480 with 1 Axes>"
            ],
            "image/png": "[encoded data removed]"
          },
          "metadata": {}
        }
      ],
      "source": [
        "img = cv2.imread(IMAGE_PATH)\n",
        "image_np = np.array(img)\n",
        "\n",
        "input_tensor = tf.convert_to_tensor(np.expand_dims(image_np, 0), dtype=tf.float32)\n",
        "detections = detect_fn(input_tensor)\n",
        "\n",
        "num_detections = int(detections.pop('num_detections'))\n",
        "detections = {key: value[0, :num_detections].numpy()\n",
        "              for key, value in detections.items()}\n",
        "detections['num_detections'] = num_detections\n",
        "\n",
        "# detection_classes should be ints.\n",
        "detections['detection_classes'] = detections['detection_classes'].astype(np.int64)\n",
        "\n",
        "label_id_offset = 1\n",
        "image_np_with_detections = image_np.copy()\n",
        "\n",
        "viz_utils.visualize_boxes_and_labels_on_image_array(\n",
        "            image_np_with_detections,\n",
        "            detections['detection_boxes'],\n",
        "            detections['detection_classes']+label_id_offset,\n",
        "            detections['detection_scores'],\n",
        "            category_index,\n",
        "            use_normalized_coordinates=True,\n",
        "            max_boxes_to_draw=5,\n",
        "            min_score_thresh=.8,\n",
        "            agnostic_mode=False)\n",
        "\n",
        "plt.imshow(cv2.cvtColor(image_np_with_detections, cv2.COLOR_BGR2RGB))\n",
        "plt.show()"
      ]
    },
    {
      "cell_type": "code",
      "execution_count": 17,
      "metadata": {
        "colab": {
          "base_uri": "https://localhost:8080/"
        },
        "id": "s35Mz8y-oods",
        "outputId": "1188bb7e-bf1a-43eb-daa6-07ecda2de2e5"
      },
      "outputs": [
        {
          "output_type": "execute_result",
          "data": {
            "text/plain": [
              "dict_keys(['detection_boxes', 'detection_scores', 'detection_classes', 'raw_detection_boxes', 'raw_detection_scores', 'detection_multiclass_scores', 'detection_anchor_indices', 'num_detections'])"
            ]
          },
          "metadata": {},
          "execution_count": 17
        }
      ],
      "source": [
        "detections.keys()"
      ]
    },
    {
      "cell_type": "markdown",
      "metadata": {
        "id": "iISNzVIFoods"
      },
      "source": [
        "# Apply OCR to Detection"
      ]
    },
    {
      "cell_type": "code",
      "execution_count": 18,
      "metadata": {
        "colab": {
          "base_uri": "https://localhost:8080/"
        },
        "id": "xy2TsLx1oods",
        "outputId": "0daa3f3c-3ab4-46e5-a33f-53ba242ee59f"
      },
      "outputs": [
        {
          "output_type": "stream",
          "name": "stdout",
          "text": [
            "Collecting easyocr\n",
            "  Downloading easyocr-1.7.0-py3-none-any.whl (2.9 MB)\n",
            "\u001b[2K     \u001b[90m━━━━━━━━━━━━━━━━━━━━━━━━━━━━━━━━━━━━━━━━\u001b[0m \u001b[32m2.9/2.9 MB\u001b[0m \u001b[31m49.8 MB/s\u001b[0m eta \u001b[36m0:00:00\u001b[0m\n",
            "\u001b[?25hRequirement already satisfied: torch in /usr/local/lib/python3.10/dist-packages (from easyocr) (2.0.1+cu118)\n",
            "Requirement already satisfied: torchvision>=0.5 in /usr/local/lib/python3.10/dist-packages (from easyocr) (0.15.2+cu118)\n",
            "Requirement already satisfied: opencv-python-headless in /usr/local/lib/python3.10/dist-packages (from easyocr) (4.7.0.72)\n",
            "Requirement already satisfied: scipy in /usr/local/lib/python3.10/dist-packages (from easyocr) (1.10.1)\n",
            "Requirement already satisfied: numpy in /usr/local/lib/python3.10/dist-packages (from easyocr) (1.25.1)\n",
            "Requirement already satisfied: Pillow in /usr/local/lib/python3.10/dist-packages (from easyocr) (8.4.0)\n",
            "Requirement already satisfied: scikit-image in /usr/local/lib/python3.10/dist-packages (from easyocr) (0.19.3)\n",
            "Collecting python-bidi (from easyocr)\n",
            "  Downloading python_bidi-0.4.2-py2.py3-none-any.whl (30 kB)\n",
            "Requirement already satisfied: PyYAML in /usr/local/lib/python3.10/dist-packages (from easyocr) (5.4.1)\n",
            "Requirement already satisfied: Shapely in /usr/local/lib/python3.10/dist-packages (from easyocr) (2.0.1)\n",
            "Collecting pyclipper (from easyocr)\n",
            "  Downloading pyclipper-1.3.0.post4-cp310-cp310-manylinux_2_12_x86_64.manylinux2010_x86_64.whl (813 kB)\n",
            "\u001b[2K     \u001b[90m━━━━━━━━━━━━━━━━━━━━━━━━━━━━━━━━━━━━━━\u001b[0m \u001b[32m813.9/813.9 kB\u001b[0m \u001b[31m65.2 MB/s\u001b[0m eta \u001b[36m0:00:00\u001b[0m\n",
            "\u001b[?25hCollecting ninja (from easyocr)\n",
            "  Downloading ninja-1.11.1-py2.py3-none-manylinux_2_12_x86_64.manylinux2010_x86_64.whl (145 kB)\n",
            "\u001b[2K     \u001b[90m━━━━━━━━━━━━━━━━━━━━━━━━━━━━━━━━━━━━━━\u001b[0m \u001b[32m146.0/146.0 kB\u001b[0m \u001b[31m19.7 MB/s\u001b[0m eta \u001b[36m0:00:00\u001b[0m\n",
            "\u001b[?25hRequirement already satisfied: requests in /usr/local/lib/python3.10/dist-packages (from torchvision>=0.5->easyocr) (2.27.1)\n",
            "Requirement already satisfied: filelock in /usr/local/lib/python3.10/dist-packages (from torch->easyocr) (3.12.2)\n",
            "Requirement already satisfied: typing-extensions in /usr/local/lib/python3.10/dist-packages (from torch->easyocr) (4.5.0)\n",
            "Requirement already satisfied: sympy in /usr/local/lib/python3.10/dist-packages (from torch->easyocr) (1.11.1)\n",
            "Requirement already satisfied: networkx in /usr/local/lib/python3.10/dist-packages (from torch->easyocr) (3.1)\n",
            "Requirement already satisfied: jinja2 in /usr/local/lib/python3.10/dist-packages (from torch->easyocr) (3.1.2)\n",
            "Requirement already satisfied: triton==2.0.0 in /usr/local/lib/python3.10/dist-packages (from torch->easyocr) (2.0.0)\n",
            "Requirement already satisfied: cmake in /usr/local/lib/python3.10/dist-packages (from triton==2.0.0->torch->easyocr) (3.25.2)\n",
            "Requirement already satisfied: lit in /usr/local/lib/python3.10/dist-packages (from triton==2.0.0->torch->easyocr) (16.0.6)\n",
            "Requirement already satisfied: six in /usr/local/lib/python3.10/dist-packages (from python-bidi->easyocr) (1.16.0)\n",
            "Requirement already satisfied: imageio>=2.4.1 in /usr/local/lib/python3.10/dist-packages (from scikit-image->easyocr) (2.25.1)\n",
            "Requirement already satisfied: tifffile>=2019.7.26 in /usr/local/lib/python3.10/dist-packages (from scikit-image->easyocr) (2023.4.12)\n",
            "Requirement already satisfied: PyWavelets>=1.1.1 in /usr/local/lib/python3.10/dist-packages (from scikit-image->easyocr) (1.4.1)\n",
            "Requirement already satisfied: packaging>=20.0 in /usr/local/lib/python3.10/dist-packages (from scikit-image->easyocr) (23.1)\n",
            "Requirement already satisfied: MarkupSafe>=2.0 in /usr/local/lib/python3.10/dist-packages (from jinja2->torch->easyocr) (2.1.3)\n",
            "Requirement already satisfied: urllib3<1.27,>=1.21.1 in /usr/local/lib/python3.10/dist-packages (from requests->torchvision>=0.5->easyocr) (1.26.16)\n",
            "Requirement already satisfied: certifi>=2017.4.17 in /usr/local/lib/python3.10/dist-packages (from requests->torchvision>=0.5->easyocr) (2023.5.7)\n",
            "Requirement already satisfied: charset-normalizer~=2.0.0 in /usr/local/lib/python3.10/dist-packages (from requests->torchvision>=0.5->easyocr) (2.0.12)\n",
            "Requirement already satisfied: idna<4,>=2.5 in /usr/local/lib/python3.10/dist-packages (from requests->torchvision>=0.5->easyocr) (3.4)\n",
            "Requirement already satisfied: mpmath>=0.19 in /usr/local/lib/python3.10/dist-packages (from sympy->torch->easyocr) (1.3.0)\n",
            "Installing collected packages: pyclipper, ninja, python-bidi, easyocr\n",
            "Successfully installed easyocr-1.7.0 ninja-1.11.1 pyclipper-1.3.0.post4 python-bidi-0.4.2\n"
          ]
        }
      ],
      "source": [
        "!pip install easyocr"
      ]
    },
    {
      "cell_type": "code",
      "execution_count": 47,
      "metadata": {
        "id": "0RVgpgxloods",
        "outputId": "fc0343fd-cf5f-4e89-b9dc-49c66bb8de50",
        "colab": {
          "base_uri": "https://localhost:8080/"
        }
      },
      "outputs": [
        {
          "output_type": "stream",
          "name": "stdout",
          "text": [
            "Looking in links: https://download.pytorch.org/whl/torch_stable.html\n",
            "\u001b[31mERROR: Could not find a version that satisfies the requirement torch==1.8.1+cu111 (from versions: 1.11.0, 1.11.0+cpu, 1.11.0+cu102, 1.11.0+cu113, 1.11.0+cu115, 1.11.0+rocm4.3.1, 1.11.0+rocm4.5.2, 1.12.0, 1.12.0+cpu, 1.12.0+cu102, 1.12.0+cu113, 1.12.0+cu116, 1.12.0+rocm5.0, 1.12.0+rocm5.1.1, 1.12.1, 1.12.1+cpu, 1.12.1+cu102, 1.12.1+cu113, 1.12.1+cu116, 1.12.1+rocm5.0, 1.12.1+rocm5.1.1, 1.13.0, 1.13.0+cpu, 1.13.0+cu116, 1.13.0+cu117, 1.13.0+cu117.with.pypi.cudnn, 1.13.0+rocm5.1.1, 1.13.0+rocm5.2, 1.13.1, 1.13.1+cpu, 1.13.1+cu116, 1.13.1+cu117, 1.13.1+cu117.with.pypi.cudnn, 1.13.1+rocm5.1.1, 1.13.1+rocm5.2, 2.0.0, 2.0.0+cpu, 2.0.0+cpu.cxx11.abi, 2.0.0+cu117, 2.0.0+cu117.with.pypi.cudnn, 2.0.0+cu118, 2.0.0+rocm5.3, 2.0.0+rocm5.4.2, 2.0.1, 2.0.1+cpu, 2.0.1+cpu.cxx11.abi, 2.0.1+cu117, 2.0.1+cu117.with.pypi.cudnn, 2.0.1+cu118, 2.0.1+rocm5.3, 2.0.1+rocm5.4.2)\u001b[0m\u001b[31m\n",
            "\u001b[0m\u001b[31mERROR: No matching distribution found for torch==1.8.1+cu111\u001b[0m\u001b[31m\n",
            "\u001b[0m"
          ]
        }
      ],
      "source": [
        "!pip install torch==1.8.1+cu111 torchvision==0.9.1+cu111 torchaudio===0.8.1 -f https://download.pytorch.org/whl/torch_stable.html"
      ]
    },
    {
      "cell_type": "code",
      "execution_count": 42,
      "metadata": {
        "id": "_-VqsbU6oods"
      },
      "outputs": [],
      "source": [
        "import easyocr"
      ]
    },
    {
      "cell_type": "code",
      "execution_count": 49,
      "metadata": {
        "id": "7uPoIpR3oods"
      },
      "outputs": [],
      "source": [
        "detection_threshold = 0.8"
      ]
    },
    {
      "cell_type": "code",
      "execution_count": 50,
      "metadata": {
        "id": "_6wKvwRaoodt"
      },
      "outputs": [],
      "source": [
        "image = image_np_with_detections\n",
        "scores = list(filter(lambda x: x> detection_threshold, detections['detection_scores']))\n",
        "boxes = detections['detection_boxes'][:len(scores)]\n",
        "classes = detections['detection_classes'][:len(scores)]"
      ]
    },
    {
      "cell_type": "code",
      "execution_count": 51,
      "metadata": {
        "id": "KB6XtrAxoodt"
      },
      "outputs": [],
      "source": [
        "width = image.shape[1]\n",
        "height = image.shape[0]"
      ]
    },
    {
      "cell_type": "code",
      "execution_count": 52,
      "metadata": {
        "colab": {
          "base_uri": "https://localhost:8080/",
          "height": 268
        },
        "id": "z7_YhA85oodt",
        "outputId": "947e8e4d-fb57-4744-ebb8-daf69a1e2727"
      },
      "outputs": [
        {
          "output_type": "stream",
          "name": "stdout",
          "text": [
            "[0.45651555 0.42085004 0.57583976 0.603773  ]\n",
            "[105.91160774 210.42501926 133.59482384 301.88649893]\n",
            "[([[4, 2], [86, 2], [86, 26], [4, 26]], '6526 JHD', 0.5968374782422877)]\n"
          ]
        },
        {
          "output_type": "display_data",
          "data": {
            "text/plain": [
              "<Figure size 640x480 with 1 Axes>"
            ],
            "image/png": "[encoded data removed]"
          },
          "metadata": {}
        }
      ],
      "source": [
        "# Apply ROI filtering and OCR\n",
        "for idx, box in enumerate(boxes):\n",
        "    print(box)\n",
        "    roi = box*[height, width, height, width]\n",
        "    print(roi)\n",
        "    region = image[int(roi[0]):int(roi[2]),int(roi[1]):int(roi[3])]\n",
        "    reader = easyocr.Reader(['en'])\n",
        "    ocr_result = reader.readtext(region)\n",
        "    print(ocr_result)\n",
        "    plt.imshow(cv2.cvtColor(region, cv2.COLOR_BGR2RGB))"
      ]
    },
    {
      "cell_type": "code",
      "execution_count": 53,
      "metadata": {
        "colab": {
          "base_uri": "https://localhost:8080/"
        },
        "id": "6dkr-8dgoodt",
        "outputId": "00f2d6f3-e15a-4d04-ae91-582cd0606ea1"
      },
      "outputs": [
        {
          "output_type": "stream",
          "name": "stdout",
          "text": [
            "6526 JHD\n"
          ]
        }
      ],
      "source": [
        "for result in ocr_result:\n",
        "    #print(np.sum(np.subtract(result[0][2],result[0][1])))\n",
        "    print(result[1])"
      ]
    },
    {
      "cell_type": "markdown",
      "metadata": {
        "id": "XXFm8tlzoodt"
      },
      "source": [
        "# OCR Filtering"
      ]
    },
    {
      "cell_type": "code",
      "execution_count": 37,
      "metadata": {
        "id": "CVLSGFdCoodt"
      },
      "outputs": [],
      "source": [
        "region_threshold = 0.6"
      ]
    },
    {
      "cell_type": "code",
      "execution_count": 38,
      "metadata": {
        "id": "8HHWhhfdoodt"
      },
      "outputs": [],
      "source": [
        "def filter_text(region, ocr_result, region_threshold):\n",
        "    rectangle_size = region.shape[0]*region.shape[1]\n",
        "\n",
        "    plate = []\n",
        "    for result in ocr_result:\n",
        "        length = np.sum(np.subtract(result[0][1], result[0][0]))\n",
        "        height = np.sum(np.subtract(result[0][2], result[0][1]))\n",
        "\n",
        "        if length*height / rectangle_size > region_threshold:\n",
        "            plate.append(result[1])\n",
        "    return plate"
      ]
    },
    {
      "cell_type": "code",
      "execution_count": 59,
      "metadata": {
        "colab": {
          "base_uri": "https://localhost:8080/"
        },
        "id": "bSi60mAqoodt",
        "outputId": "bdcbb36b-b4e1-4675-8dab-045ef9b6fbc3"
      },
      "outputs": [
        {
          "output_type": "execute_result",
          "data": {
            "text/plain": [
              "['6526 JHD']"
            ]
          },
          "metadata": {},
          "execution_count": 59
        }
      ],
      "source": [
        "filter_text(region, ocr_result, region_threshold)"
      ]
    },
    {
      "cell_type": "markdown",
      "metadata": {
        "id": "AFvEmp4doodt"
      },
      "source": [
        "# Bring it Together"
      ]
    },
    {
      "cell_type": "code",
      "execution_count": 60,
      "metadata": {
        "id": "UxmhDdp6oodt"
      },
      "outputs": [],
      "source": [
        "region_threshold = 0.6"
      ]
    },
    {
      "cell_type": "code",
      "execution_count": 61,
      "metadata": {
        "id": "uQFpmYSMoodt"
      },
      "outputs": [],
      "source": [
        "def ocr_it(image, detections, detection_threshold, region_threshold):\n",
        "\n",
        "    # Scores, boxes and classes above threhold\n",
        "    scores = list(filter(lambda x: x> detection_threshold, detections['detection_scores']))\n",
        "    boxes = detections['detection_boxes'][:len(scores)]\n",
        "    classes = detections['detection_classes'][:len(scores)]\n",
        "\n",
        "    # Full image dimensions\n",
        "    width = image.shape[1]\n",
        "    height = image.shape[0]\n",
        "\n",
        "    # Apply ROI filtering and OCR\n",
        "    for idx, box in enumerate(boxes):\n",
        "        roi = box*[height, width, height, width]\n",
        "        region = image[int(roi[0]):int(roi[2]),int(roi[1]):int(roi[3])]\n",
        "        reader = easyocr.Reader(['en'])\n",
        "        ocr_result = reader.readtext(region)\n",
        "\n",
        "        text = filter_text(region, ocr_result, region_threshold)\n",
        "\n",
        "        plt.imshow(cv2.cvtColor(region, cv2.COLOR_BGR2RGB))\n",
        "        plt.show()\n",
        "        print(text)\n",
        "        return text, region"
      ]
    },
    {
      "cell_type": "code",
      "execution_count": 62,
      "metadata": {
        "colab": {
          "base_uri": "https://localhost:8080/",
          "height": 233
        },
        "id": "OqFdaCjmoodt",
        "outputId": "f3332049-346b-484f-e9c6-20f7b4e238e9",
        "scrolled": true
      },
      "outputs": [
        {
          "output_type": "display_data",
          "data": {
            "text/plain": [
              "<Figure size 640x480 with 1 Axes>"
            ],
            "image/png": "[encoded data removed]"
          },
          "metadata": {}
        },
        {
          "output_type": "stream",
          "name": "stdout",
          "text": [
            "['6526 JHD']\n"
          ]
        }
      ],
      "source": [
        "text, region = ocr_it(image_np_with_detections, detections, detection_threshold, region_threshold)"
      ]
    },
    {
      "cell_type": "markdown",
      "metadata": {
        "id": "XfcReqEXoodu"
      },
      "source": [
        "# Save Results"
      ]
    },
    {
      "cell_type": "code",
      "execution_count": 63,
      "metadata": {
        "id": "fH83ufVKoodu"
      },
      "outputs": [],
      "source": [
        "import csv\n",
        "import uuid"
      ]
    },
    {
      "cell_type": "code",
      "execution_count": 64,
      "metadata": {
        "id": "b44AWydyoodu",
        "outputId": "9e8b53c9-25f8-4553-e2f3-e573cad88c95",
        "colab": {
          "base_uri": "https://localhost:8080/",
          "height": 35
        }
      },
      "outputs": [
        {
          "output_type": "execute_result",
          "data": {
            "text/plain": [
              "'ed384a8c-1ef9-11ee-9a22-0242ac1c000c.jpg'"
            ],
            "application/vnd.google.colaboratory.intrinsic+json": {
              "type": "string"
            }
          },
          "metadata": {},
          "execution_count": 64
        }
      ],
      "source": [
        "'{}.jpg'.format(uuid.uuid1())"
      ]
    },
    {
      "cell_type": "code",
      "execution_count": 65,
      "metadata": {
        "id": "UtiPqFzQoodu"
      },
      "outputs": [],
      "source": [
        "def save_results(text, region, csv_filename, folder_path):\n",
        "    img_name = '{}.jpg'.format(uuid.uuid1())\n",
        "\n",
        "    cv2.imwrite(os.path.join(folder_path, img_name), region)\n",
        "\n",
        "    with open(csv_filename, mode='a', newline='') as f:\n",
        "        csv_writer = csv.writer(f, delimiter=',', quotechar='\"', quoting=csv.QUOTE_MINIMAL)\n",
        "        csv_writer.writerow([img_name, text])"
      ]
    },
    {
      "cell_type": "code",
      "execution_count": 66,
      "metadata": {
        "id": "WFkuw-AToodu",
        "outputId": "8d6f44ee-7922-4121-ccac-921187feebc3",
        "colab": {
          "base_uri": "https://localhost:8080/"
        }
      },
      "outputs": [
        {
          "output_type": "execute_result",
          "data": {
            "text/plain": [
              "array([[[127, 255,   0],\n",
              "        [127, 255,   0],\n",
              "        [127, 255,   0],\n",
              "        ...,\n",
              "        [127, 255,   0],\n",
              "        [127, 255,   0],\n",
              "        [127, 255,   0]],\n",
              "\n",
              "       [[127, 255,   0],\n",
              "        [127, 255,   0],\n",
              "        [127, 255,   0],\n",
              "        ...,\n",
              "        [127, 255,   0],\n",
              "        [127, 255,   0],\n",
              "        [127, 255,   0]],\n",
              "\n",
              "       [[127, 255,   0],\n",
              "        [127, 255,   0],\n",
              "        [127, 255,   0],\n",
              "        ...,\n",
              "        [204, 222, 223],\n",
              "        [127, 255,   0],\n",
              "        [127, 255,   0]],\n",
              "\n",
              "       ...,\n",
              "\n",
              "       [[127, 255,   0],\n",
              "        [127, 255,   0],\n",
              "        [127, 255,   0],\n",
              "        ...,\n",
              "        [ 50, 255, 255],\n",
              "        [127, 255,   0],\n",
              "        [127, 255,   0]],\n",
              "\n",
              "       [[127, 255,   0],\n",
              "        [127, 255,   0],\n",
              "        [127, 255,   0],\n",
              "        ...,\n",
              "        [ 45, 151, 148],\n",
              "        [127, 255,   0],\n",
              "        [127, 255,   0]],\n",
              "\n",
              "       [[127, 255,   0],\n",
              "        [127, 255,   0],\n",
              "        [127, 255,   0],\n",
              "        ...,\n",
              "        [127, 255,   0],\n",
              "        [127, 255,   0],\n",
              "        [127, 255,   0]]], dtype=uint8)"
            ]
          },
          "metadata": {},
          "execution_count": 66
        }
      ],
      "source": [
        "region"
      ]
    },
    {
      "cell_type": "code",
      "execution_count": 67,
      "metadata": {
        "id": "zrbhGJtkoodu"
      },
      "outputs": [],
      "source": [
        "save_results(text, region, 'detection_results.csv', 'Detection_Images')"
      ]
    },
    {
      "cell_type": "markdown",
      "metadata": {
        "id": "IsNAaYAo0WVL"
      },
      "source": [
        "# 10. Real Time Detections from your Webcam"
      ]
    },
    {
      "cell_type": "code",
      "execution_count": 68,
      "metadata": {
        "id": "zo1K5YOOoodu",
        "outputId": "5e183205-a93e-4312-94b2-ab564315ed31",
        "colab": {
          "base_uri": "https://localhost:8080/"
        }
      },
      "outputs": [
        {
          "output_type": "stream",
          "name": "stdout",
          "text": [
            "Found existing installation: opencv-python-headless 4.7.0.72\n",
            "Uninstalling opencv-python-headless-4.7.0.72:\n",
            "  Successfully uninstalled opencv-python-headless-4.7.0.72\n"
          ]
        }
      ],
      "source": [
        "!pip uninstall opencv-python-headless -y"
      ]
    },
    {
      "cell_type": "code",
      "execution_count": 69,
      "metadata": {
        "id": "5MlCRSdXfCeH"
      },
      "outputs": [],
      "source": [
        "import object_detection"
      ]
    },
    {
      "cell_type": "code",
      "execution_count": 70,
      "metadata": {
        "id": "o_grs6OGpfDJ"
      },
      "outputs": [],
      "source": [
        "cap = cv2.VideoCapture('/content/video.mp4')\n",
        "width = int(cap.get(cv2.CAP_PROP_FRAME_WIDTH))\n",
        "height = int(cap.get(cv2.CAP_PROP_FRAME_HEIGHT))\n",
        "\n",
        "while cap.isOpened():\n",
        "    ret, frame = cap.read()\n",
        "    image_np = np.array(frame)\n",
        "\n",
        "    input_tensor = tf.convert_to_tensor(np.expand_dims(image_np, 0), dtype=tf.float32)\n",
        "    detections = detect_fn(input_tensor)\n",
        "\n",
        "    num_detections = int(detections.pop('num_detections'))\n",
        "    detections = {key: value[0, :num_detections].numpy()\n",
        "                  for key, value in detections.items()}\n",
        "    detections['num_detections'] = num_detections\n",
        "\n",
        "    # detection_classes should be ints.\n",
        "    detections['detection_classes'] = detections['detection_classes'].astype(np.int64)\n",
        "\n",
        "    label_id_offset = 1\n",
        "    image_np_with_detections = image_np.copy()\n",
        "\n",
        "    viz_utils.visualize_boxes_and_labels_on_image_array(\n",
        "                image_np_with_detections,\n",
        "                detections['detection_boxes'],\n",
        "                detections['detection_classes']+label_id_offset,\n",
        "                detections['detection_scores'],\n",
        "                category_index,\n",
        "                use_normalized_coordinates=True,\n",
        "                max_boxes_to_draw=5,\n",
        "                min_score_thresh=.8,\n",
        "                agnostic_mode=False)\n",
        "\n",
        "    try:\n",
        "        text, region = ocr_it(image_np_with_detections, detections, detection_threshold, region_threshold)\n",
        "        save_results(text, region, 'realtimeresults.csv', 'Detection_Images')\n",
        "    except:\n",
        "        pass\n",
        "\n",
        "    # detection_threshold = 0.7\n",
        "    # image = image_np_with_detections\n",
        "    # scores = list(filter(lambda x: x> detection_threshold, detections['detection_scores']))\n",
        "    # boxes = detections['detection_boxes'][:len(scores)]\n",
        "    # classes = detections['detection_classes'][:len(scores)]\n",
        "    # width = image.shape[1]\n",
        "    # height = image.shape[0]\n",
        "    # for idx, box in enumerate(boxes):\n",
        "    #     print(box)\n",
        "    #     roi = box*[height, width, height, width]\n",
        "    #     # print(roi)\n",
        "    #     region = image[int(roi[0]):int(roi[2]),int(roi[1]):int(roi[3])]\n",
        "    #     reader = easyocr.Reader(['en'])\n",
        "    #     ocr_result = reader.readtext(region)\n",
        "    #     print(ocr_result)\n",
        "    #     plt.imshow(cv2.cvtColor(region, cv2.COLOR_BGR2RGB))\n",
        "    #     plt.imshow(cv2.cvtColor(image_np_with_detections, cv2.COLOR_BGR2RGB))\n",
        "    #     plt.show()\n",
        "        # for result in ocr_result:\n",
        "        # # print(np.sum(np.subtract(result[0][2],result[0][1])))\n",
        "        # print(result[1])\n",
        "    from google.colab.patches import cv2_imshow\n",
        "    # cv2_imshow(object_detection)\n",
        "    cv2_imshow(image_np_with_detections)\n",
        "            # cv2.resize(image_np_with_detections, (800, 600)))\n",
        "\n",
        "    if cv2.waitKey(10) & 0xFF == ord('q'):\n",
        "        cap.release()\n",
        "        cv2.destroyAllWindows()\n",
        "        break"
      ]
    },
    {
      "cell_type": "markdown",
      "metadata": {
        "id": "rzlM4jt0pfDJ"
      },
      "source": [
        "# 10. Freezing the Graph"
      ]
    },
    {
      "cell_type": "code",
      "execution_count": null,
      "metadata": {
        "id": "n4olHB2npfDJ"
      },
      "outputs": [],
      "source": [
        "FREEZE_SCRIPT = os.path.join(paths['APIMODEL_PATH'], 'research', 'object_detection', 'exporter_main_v2.py ')"
      ]
    },
    {
      "cell_type": "code",
      "execution_count": null,
      "metadata": {
        "id": "0AjO93QDpfDJ"
      },
      "outputs": [],
      "source": [
        "command = \"python {} --input_type=image_tensor --pipeline_config_path={} --trained_checkpoint_dir={} --output_directory={}\".format(FREEZE_SCRIPT ,files['PIPELINE_CONFIG'], paths['CHECKPOINT_PATH'], paths['OUTPUT_PATH'])"
      ]
    },
    {
      "cell_type": "code",
      "execution_count": null,
      "metadata": {
        "id": "F6Lsp3tCpfDJ"
      },
      "outputs": [],
      "source": [
        "print(command)"
      ]
    },
    {
      "cell_type": "code",
      "execution_count": null,
      "metadata": {
        "id": "1Sw1ULgHpfDJ"
      },
      "outputs": [],
      "source": [
        "!{command}"
      ]
    },
    {
      "cell_type": "markdown",
      "metadata": {
        "id": "wTPmdqaXpfDK"
      },
      "source": [
        "# 11. Conversion to TFJS"
      ]
    },
    {
      "cell_type": "code",
      "execution_count": null,
      "metadata": {
        "id": "gZ6UzY_fpfDK",
        "scrolled": true
      },
      "outputs": [],
      "source": [
        "!pip install tensorflowjs"
      ]
    },
    {
      "cell_type": "code",
      "execution_count": null,
      "metadata": {
        "id": "0oxbVynHpfDK"
      },
      "outputs": [],
      "source": [
        "command = \"tensorflowjs_converter --input_format=tf_saved_model --output_node_names='detection_boxes,detection_classes,detection_features,detection_multiclass_scores,detection_scores,num_detections,raw_detection_boxes,raw_detection_scores' --output_format=tfjs_graph_model --signature_name=serving_default {} {}\".format(os.path.join(paths['OUTPUT_PATH'], 'saved_model'), paths['TFJS_PATH'])"
      ]
    },
    {
      "cell_type": "code",
      "execution_count": null,
      "metadata": {
        "id": "DB2AGNmJpfDK"
      },
      "outputs": [],
      "source": [
        "print(command)"
      ]
    },
    {
      "cell_type": "code",
      "execution_count": null,
      "metadata": {
        "id": "K7rfT4-hpfDK"
      },
      "outputs": [],
      "source": [
        "!{command}"
      ]
    },
    {
      "cell_type": "code",
      "execution_count": null,
      "metadata": {
        "id": "o8_hm-itpfDK"
      },
      "outputs": [],
      "source": [
        "# Test Code: https://github.com/nicknochnack/RealTimeSignLanguageDetectionwithTFJS"
      ]
    },
    {
      "cell_type": "markdown",
      "metadata": {
        "id": "VtUw73FHpfDK"
      },
      "source": [
        "# 12. Conversion to TFLite"
      ]
    },
    {
      "cell_type": "code",
      "execution_count": null,
      "metadata": {
        "id": "XviMtewLpfDK"
      },
      "outputs": [],
      "source": [
        "TFLITE_SCRIPT = os.path.join(paths['APIMODEL_PATH'], 'research', 'object_detection', 'export_tflite_graph_tf2.py ')"
      ]
    },
    {
      "cell_type": "code",
      "execution_count": null,
      "metadata": {
        "id": "us86cjC4pfDL"
      },
      "outputs": [],
      "source": [
        "command = \"python {} --pipeline_config_path={} --trained_checkpoint_dir={} --output_directory={}\".format(TFLITE_SCRIPT ,files['PIPELINE_CONFIG'], paths['CHECKPOINT_PATH'], paths['TFLITE_PATH'])"
      ]
    },
    {
      "cell_type": "code",
      "execution_count": null,
      "metadata": {
        "id": "n1r5YO3rpfDL"
      },
      "outputs": [],
      "source": [
        "print(command)"
      ]
    },
    {
      "cell_type": "code",
      "execution_count": null,
      "metadata": {
        "id": "I-xWpHN8pfDL"
      },
      "outputs": [],
      "source": [
        "!{command}"
      ]
    },
    {
      "cell_type": "code",
      "execution_count": null,
      "metadata": {
        "id": "iJfYMbN6pfDL"
      },
      "outputs": [],
      "source": [
        "FROZEN_TFLITE_PATH = os.path.join(paths['TFLITE_PATH'], 'saved_model')\n",
        "TFLITE_MODEL = os.path.join(paths['TFLITE_PATH'], 'saved_model', 'detect.tflite')"
      ]
    },
    {
      "cell_type": "code",
      "execution_count": null,
      "metadata": {
        "id": "odsr94Lmoodw"
      },
      "outputs": [],
      "source": [
        "command = \"tflite_convert \\\n",
        "--saved_model_dir={} \\\n",
        "--output_file={} \\\n",
        "--input_shapes=1,300,300,3 \\\n",
        "--input_arrays=normalized_input_image_tensor \\\n",
        "--output_arrays='TFLite_Detection_PostProcess','TFLite_Detection_PostProcess:1','TFLite_Detection_PostProcess:2','TFLite_Detection_PostProcess:3' \\\n",
        "--inference_type=FLOAT \\\n",
        "--allow_custom_ops\".format(FROZEN_TFLITE_PATH, TFLITE_MODEL, )"
      ]
    },
    {
      "cell_type": "code",
      "execution_count": null,
      "metadata": {
        "id": "E8GwUeoFpfDL"
      },
      "outputs": [],
      "source": [
        "print(command)"
      ]
    },
    {
      "cell_type": "code",
      "execution_count": null,
      "metadata": {
        "id": "Nbd7gqHMpfDL"
      },
      "outputs": [],
      "source": [
        "!{command}"
      ]
    },
    {
      "cell_type": "markdown",
      "metadata": {
        "id": "5NQqZRdA21Uc"
      },
      "source": [
        "# 13. Zip and Export Models"
      ]
    },
    {
      "cell_type": "code",
      "execution_count": null,
      "metadata": {
        "id": "tTVTGCQp2ZJJ"
      },
      "outputs": [],
      "source": [
        "!tar -czf models.tar.gz {paths['CHECKPOINT_PATH']}"
      ]
    }
  ],
  "metadata": {
    "accelerator": "GPU",
    "colab": {
      "provenance": [],
      "include_colab_link": true
    },
    "kernelspec": {
      "display_name": "anprsys",
      "language": "python",
      "name": "anprsys"
    },
    "language_info": {
      "codemirror_mode": {
        "name": "ipython",
        "version": 3
      },
      "file_extension": ".py",
      "mimetype": "text/x-python",
      "name": "python",
      "nbconvert_exporter": "python",
      "pygments_lexer": "ipython3",
      "version": "3.7.3"
    }
  },
  "nbformat": 4,
  "nbformat_minor": 0
}